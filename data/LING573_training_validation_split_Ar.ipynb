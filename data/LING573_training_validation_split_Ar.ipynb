{
 "cells": [
  {
   "cell_type": "code",
   "execution_count": 2,
   "metadata": {},
   "outputs": [],
   "source": [
    "import pandas as pd"
   ]
  },
  {
   "cell_type": "code",
   "execution_count": 5,
   "metadata": {},
   "outputs": [],
   "source": [
    "data = pd.read_csv('train_Ar copy.csv')"
   ]
  },
  {
   "cell_type": "code",
   "execution_count": 6,
   "metadata": {},
   "outputs": [
    {
     "data": {
      "text/plain": [
       "3102"
      ]
     },
     "execution_count": 6,
     "metadata": {},
     "output_type": "execute_result"
    }
   ],
   "source": [
    "len(data)"
   ]
  },
  {
   "cell_type": "code",
   "execution_count": 7,
   "metadata": {},
   "outputs": [],
   "source": [
    "# drop rows where the 'tweet' value is NaN\n",
    "data = data[data['tweet'].notna()]"
   ]
  },
  {
   "cell_type": "code",
   "execution_count": 9,
   "metadata": {},
   "outputs": [
    {
     "data": {
      "text/plain": [
       "3102"
      ]
     },
     "execution_count": 9,
     "metadata": {},
     "output_type": "execute_result"
    }
   ],
   "source": [
    "\n",
    "len(data)"
   ]
  },
  {
   "cell_type": "code",
   "execution_count": 11,
   "metadata": {},
   "outputs": [
    {
     "data": {
      "text/html": [
       "<div>\n",
       "<style scoped>\n",
       "    .dataframe tbody tr th:only-of-type {\n",
       "        vertical-align: middle;\n",
       "    }\n",
       "\n",
       "    .dataframe tbody tr th {\n",
       "        vertical-align: top;\n",
       "    }\n",
       "\n",
       "    .dataframe thead th {\n",
       "        text-align: right;\n",
       "    }\n",
       "</style>\n",
       "<table border=\"1\" class=\"dataframe\">\n",
       "  <thead>\n",
       "    <tr style=\"text-align: right;\">\n",
       "      <th></th>\n",
       "      <th>id</th>\n",
       "      <th>tweet</th>\n",
       "      <th>sarcastic</th>\n",
       "      <th>rephrase</th>\n",
       "      <th>dialect</th>\n",
       "    </tr>\n",
       "  </thead>\n",
       "  <tbody>\n",
       "  </tbody>\n",
       "</table>\n",
       "</div>"
      ],
      "text/plain": [
       "Empty DataFrame\n",
       "Columns: [id, tweet, sarcastic, rephrase, dialect]\n",
       "Index: []"
      ]
     },
     "execution_count": 11,
     "metadata": {},
     "output_type": "execute_result"
    }
   ],
   "source": [
    "# get all duplicate tweets in the dataset\n",
    "duplicate_data = data[data.duplicated(subset=['tweet'], keep=False)]\n",
    "duplicate_data"
   ]
  },
  {
   "cell_type": "code",
   "execution_count": 12,
   "metadata": {},
   "outputs": [
    {
     "data": {
      "text/plain": [
       "745"
      ]
     },
     "execution_count": 12,
     "metadata": {},
     "output_type": "execute_result"
    }
   ],
   "source": [
    "# get positive examples\n",
    "positive = data[data['sarcastic'] == 1]\n",
    "len(positive)"
   ]
  },
  {
   "cell_type": "code",
   "execution_count": 13,
   "metadata": {},
   "outputs": [
    {
     "data": {
      "text/plain": [
       "745"
      ]
     },
     "execution_count": 13,
     "metadata": {},
     "output_type": "execute_result"
    }
   ],
   "source": [
    "# sample negative examples equal to the number of positive examples \n",
    "negative = data[data['sarcastic'] == 0].sample(n=len(positive), random_state=10)\n",
    "len(negative)"
   ]
  },
  {
   "cell_type": "code",
   "execution_count": 14,
   "metadata": {},
   "outputs": [],
   "source": [
    "# concatenate positive and negative to get balanced data\n",
    "balanced_data = pd.concat([positive, negative])"
   ]
  },
  {
   "cell_type": "code",
   "execution_count": null,
   "metadata": {},
   "outputs": [],
   "source": []
  },
  {
   "cell_type": "markdown",
   "metadata": {},
   "source": [
    "Validation and training splits: "
   ]
  },
  {
   "cell_type": "code",
   "execution_count": 15,
   "metadata": {},
   "outputs": [
    {
     "name": "stdout",
     "output_type": "stream",
     "text": [
      "Target num of validation examples for each class: 74\n"
     ]
    }
   ],
   "source": [
    "half_val_size = len(positive) // 10\n",
    "print(\"Target num of validation examples for each class:\", half_val_size)"
   ]
  },
  {
   "cell_type": "code",
   "execution_count": 16,
   "metadata": {},
   "outputs": [],
   "source": [
    "# sample the target number of positive and negative validation examples\n",
    "val_positive = positive.sample(n=half_val_size, random_state=10)\n",
    "val_negative = negative.sample(n=half_val_size, random_state=10)"
   ]
  },
  {
   "cell_type": "code",
   "execution_count": 17,
   "metadata": {},
   "outputs": [],
   "source": [
    "# concantenate positive and negative validation examples\n",
    "validation = pd.concat([val_positive, val_negative])"
   ]
  },
  {
   "cell_type": "code",
   "execution_count": 18,
   "metadata": {},
   "outputs": [],
   "source": [
    "# shuffle validation data\n",
    "validation = validation.sample(frac=1)"
   ]
  },
  {
   "cell_type": "code",
   "execution_count": 19,
   "metadata": {},
   "outputs": [],
   "source": [
    "# training data are the examples that do not appear in validation set\n",
    "unused_balanced_data_indices = [index_value for index_value in balanced_data.index if index_value not in validation.index]\n",
    "training = balanced_data.loc[unused_balanced_data_indices]"
   ]
  },
  {
   "cell_type": "code",
   "execution_count": 20,
   "metadata": {},
   "outputs": [],
   "source": [
    "# shuffle training data\n",
    "training = training.sample(frac=1)"
   ]
  },
  {
   "cell_type": "code",
   "execution_count": 21,
   "metadata": {},
   "outputs": [
    {
     "data": {
      "text/plain": [
       "148"
      ]
     },
     "execution_count": 21,
     "metadata": {},
     "output_type": "execute_result"
    }
   ],
   "source": [
    "len(validation)"
   ]
  },
  {
   "cell_type": "code",
   "execution_count": 22,
   "metadata": {},
   "outputs": [
    {
     "data": {
      "text/plain": [
       "1342"
      ]
     },
     "execution_count": 22,
     "metadata": {},
     "output_type": "execute_result"
    }
   ],
   "source": [
    "len(training)"
   ]
  },
  {
   "cell_type": "code",
   "execution_count": 23,
   "metadata": {},
   "outputs": [
    {
     "data": {
      "text/html": [
       "<div>\n",
       "<style scoped>\n",
       "    .dataframe tbody tr th:only-of-type {\n",
       "        vertical-align: middle;\n",
       "    }\n",
       "\n",
       "    .dataframe tbody tr th {\n",
       "        vertical-align: top;\n",
       "    }\n",
       "\n",
       "    .dataframe thead th {\n",
       "        text-align: right;\n",
       "    }\n",
       "</style>\n",
       "<table border=\"1\" class=\"dataframe\">\n",
       "  <thead>\n",
       "    <tr style=\"text-align: right;\">\n",
       "      <th></th>\n",
       "      <th>id</th>\n",
       "      <th>tweet</th>\n",
       "      <th>sarcastic</th>\n",
       "      <th>rephrase</th>\n",
       "      <th>dialect</th>\n",
       "    </tr>\n",
       "  </thead>\n",
       "  <tbody>\n",
       "    <tr>\n",
       "      <th>1414</th>\n",
       "      <td>1415</td>\n",
       "      <td>عبر الناس داخل الكاتدرائية عن مشاعرهم بحرقة بع...</td>\n",
       "      <td>0</td>\n",
       "      <td>NaN</td>\n",
       "      <td>msa</td>\n",
       "    </tr>\n",
       "    <tr>\n",
       "      <th>700</th>\n",
       "      <td>701</td>\n",
       "      <td>وحده تقول :  الرجوله افعال اما الشنب حتى صديقا...</td>\n",
       "      <td>1</td>\n",
       "      <td>وحده تقول :  الرجوله افعال اما الشنب حتى النسا...</td>\n",
       "      <td>nile</td>\n",
       "    </tr>\n",
       "    <tr>\n",
       "      <th>554</th>\n",
       "      <td>555</td>\n",
       "      <td>لو انت لمستها هحطك تحتها</td>\n",
       "      <td>1</td>\n",
       "      <td>كلام تكاتك يعني لو قربت منها هدوسك بيها</td>\n",
       "      <td>nile</td>\n",
       "    </tr>\n",
       "    <tr>\n",
       "      <th>956</th>\n",
       "      <td>957</td>\n",
       "      <td>التغطية مستمرة  لافروف : مقاتلو المعارضة الر...</td>\n",
       "      <td>0</td>\n",
       "      <td>NaN</td>\n",
       "      <td>msa</td>\n",
       "    </tr>\n",
       "    <tr>\n",
       "      <th>2895</th>\n",
       "      <td>2896</td>\n",
       "      <td>ده شغل برشام سواء كان من الكاتب والا المخرج ول...</td>\n",
       "      <td>0</td>\n",
       "      <td>NaN</td>\n",
       "      <td>nile</td>\n",
       "    </tr>\n",
       "    <tr>\n",
       "      <th>...</th>\n",
       "      <td>...</td>\n",
       "      <td>...</td>\n",
       "      <td>...</td>\n",
       "      <td>...</td>\n",
       "      <td>...</td>\n",
       "    </tr>\n",
       "    <tr>\n",
       "      <th>1556</th>\n",
       "      <td>1557</td>\n",
       "      <td>زد رصيدك35 المطيري ع قلوبهم .. التمو حزب حسب ا...</td>\n",
       "      <td>0</td>\n",
       "      <td>NaN</td>\n",
       "      <td>levant</td>\n",
       "    </tr>\n",
       "    <tr>\n",
       "      <th>531</th>\n",
       "      <td>532</td>\n",
       "      <td>المحن اشتغل اهوة وبعد كده هيجرو ورا بعض بالشبشب</td>\n",
       "      <td>1</td>\n",
       "      <td>البدايات تختلف عن النهايات البداية غزل والنهاي...</td>\n",
       "      <td>nile</td>\n",
       "    </tr>\n",
       "    <tr>\n",
       "      <th>3020</th>\n",
       "      <td>3021</td>\n",
       "      <td>بقالى فترة حياتى بايظه يا بختك عندك حياة يادى ...</td>\n",
       "      <td>0</td>\n",
       "      <td>NaN</td>\n",
       "      <td>nile</td>\n",
       "    </tr>\n",
       "    <tr>\n",
       "      <th>3002</th>\n",
       "      <td>3003</td>\n",
       "      <td>اللى حيجنن اسرائيل ازى عدوا من النفق ضيق اووى</td>\n",
       "      <td>0</td>\n",
       "      <td>NaN</td>\n",
       "      <td>nile</td>\n",
       "    </tr>\n",
       "    <tr>\n",
       "      <th>776</th>\n",
       "      <td>777</td>\n",
       "      <td>اتمنى ان نتوحد جميعا لتحقيق اهداف الثورة المشك...</td>\n",
       "      <td>0</td>\n",
       "      <td>NaN</td>\n",
       "      <td>msa</td>\n",
       "    </tr>\n",
       "  </tbody>\n",
       "</table>\n",
       "<p>1342 rows × 5 columns</p>\n",
       "</div>"
      ],
      "text/plain": [
       "        id                                              tweet  sarcastic  \\\n",
       "1414  1415  عبر الناس داخل الكاتدرائية عن مشاعرهم بحرقة بع...          0   \n",
       "700    701  وحده تقول :  الرجوله افعال اما الشنب حتى صديقا...          1   \n",
       "554    555                           لو انت لمستها هحطك تحتها          1   \n",
       "956    957    التغطية مستمرة  لافروف : مقاتلو المعارضة الر...          0   \n",
       "2895  2896  ده شغل برشام سواء كان من الكاتب والا المخرج ول...          0   \n",
       "...    ...                                                ...        ...   \n",
       "1556  1557  زد رصيدك35 المطيري ع قلوبهم .. التمو حزب حسب ا...          0   \n",
       "531    532    المحن اشتغل اهوة وبعد كده هيجرو ورا بعض بالشبشب          1   \n",
       "3020  3021  بقالى فترة حياتى بايظه يا بختك عندك حياة يادى ...          0   \n",
       "3002  3003      اللى حيجنن اسرائيل ازى عدوا من النفق ضيق اووى          0   \n",
       "776    777  اتمنى ان نتوحد جميعا لتحقيق اهداف الثورة المشك...          0   \n",
       "\n",
       "                                               rephrase dialect  \n",
       "1414                                                NaN     msa  \n",
       "700   وحده تقول :  الرجوله افعال اما الشنب حتى النسا...    nile  \n",
       "554             كلام تكاتك يعني لو قربت منها هدوسك بيها    nile  \n",
       "956                                                 NaN     msa  \n",
       "2895                                                NaN    nile  \n",
       "...                                                 ...     ...  \n",
       "1556                                                NaN  levant  \n",
       "531   البدايات تختلف عن النهايات البداية غزل والنهاي...    nile  \n",
       "3020                                                NaN    nile  \n",
       "3002                                                NaN    nile  \n",
       "776                                                 NaN     msa  \n",
       "\n",
       "[1342 rows x 5 columns]"
      ]
     },
     "execution_count": 23,
     "metadata": {},
     "output_type": "execute_result"
    }
   ],
   "source": [
    "training\n"
   ]
  },
  {
   "cell_type": "code",
   "execution_count": 24,
   "metadata": {},
   "outputs": [
    {
     "data": {
      "text/html": [
       "<div>\n",
       "<style scoped>\n",
       "    .dataframe tbody tr th:only-of-type {\n",
       "        vertical-align: middle;\n",
       "    }\n",
       "\n",
       "    .dataframe tbody tr th {\n",
       "        vertical-align: top;\n",
       "    }\n",
       "\n",
       "    .dataframe thead th {\n",
       "        text-align: right;\n",
       "    }\n",
       "</style>\n",
       "<table border=\"1\" class=\"dataframe\">\n",
       "  <thead>\n",
       "    <tr style=\"text-align: right;\">\n",
       "      <th></th>\n",
       "      <th>id</th>\n",
       "      <th>tweet</th>\n",
       "      <th>sarcastic</th>\n",
       "      <th>rephrase</th>\n",
       "      <th>dialect</th>\n",
       "    </tr>\n",
       "  </thead>\n",
       "  <tbody>\n",
       "    <tr>\n",
       "      <th>305</th>\n",
       "      <td>306</td>\n",
       "      <td>حاسب روحو عنتر زمانو   ههههههههههههههههههههههه...</td>\n",
       "      <td>1</td>\n",
       "      <td>متفكرش نفسك قوى أوى وانت مش كده</td>\n",
       "      <td>magreb</td>\n",
       "    </tr>\n",
       "    <tr>\n",
       "      <th>304</th>\n",
       "      <td>305</td>\n",
       "      <td>ماشالله حسام البدري اللعيبه اللي من دهب معاه تراب</td>\n",
       "      <td>1</td>\n",
       "      <td>حسام البدري مدرب فاشل</td>\n",
       "      <td>nile</td>\n",
       "    </tr>\n",
       "    <tr>\n",
       "      <th>2585</th>\n",
       "      <td>2586</td>\n",
       "      <td>أمير قطر السابق يشارك في جنازة  كاسترو و يشكر...</td>\n",
       "      <td>0</td>\n",
       "      <td>NaN</td>\n",
       "      <td>gulf</td>\n",
       "    </tr>\n",
       "    <tr>\n",
       "      <th>27</th>\n",
       "      <td>28</td>\n",
       "      <td>تبدلني أنا 90 كيلو شحم ولحم بزوج كيلو بطاطا</td>\n",
       "      <td>1</td>\n",
       "      <td>تبدلني أنا بكل وزني بهذه النحيلة</td>\n",
       "      <td>magreb</td>\n",
       "    </tr>\n",
       "    <tr>\n",
       "      <th>2440</th>\n",
       "      <td>2441</td>\n",
       "      <td>محمد علي خير  :قرار الرئيس  عدلي منصور بتحصين...</td>\n",
       "      <td>0</td>\n",
       "      <td>NaN</td>\n",
       "      <td>msa</td>\n",
       "    </tr>\n",
       "    <tr>\n",
       "      <th>...</th>\n",
       "      <td>...</td>\n",
       "      <td>...</td>\n",
       "      <td>...</td>\n",
       "      <td>...</td>\n",
       "      <td>...</td>\n",
       "    </tr>\n",
       "    <tr>\n",
       "      <th>2603</th>\n",
       "      <td>2604</td>\n",
       "      <td>الله الله 😍  حزب الاعاده</td>\n",
       "      <td>0</td>\n",
       "      <td>NaN</td>\n",
       "      <td>nile</td>\n",
       "    </tr>\n",
       "    <tr>\n",
       "      <th>1440</th>\n",
       "      <td>1441</td>\n",
       "      <td>كل عام و أنتم بخير، تقبل الله منا و منكم صالح ...</td>\n",
       "      <td>0</td>\n",
       "      <td>NaN</td>\n",
       "      <td>msa</td>\n",
       "    </tr>\n",
       "    <tr>\n",
       "      <th>704</th>\n",
       "      <td>705</td>\n",
       "      <td>كان من الرائع اكتشاف امريكا ولكن كان اروع لو ل...</td>\n",
       "      <td>1</td>\n",
       "      <td>امريكا تشكل خطرا كبيرا على جميع الشعوب بما فيه...</td>\n",
       "      <td>msa</td>\n",
       "    </tr>\n",
       "    <tr>\n",
       "      <th>140</th>\n",
       "      <td>141</td>\n",
       "      <td>السوشيال قربت كل العالم من بعضه الا العرب فرقتهم</td>\n",
       "      <td>1</td>\n",
       "      <td>العرب بيتخانقوا على السوشيال ميديا بدل ما تقرب...</td>\n",
       "      <td>nile</td>\n",
       "    </tr>\n",
       "    <tr>\n",
       "      <th>2709</th>\n",
       "      <td>2710</td>\n",
       "      <td>د عبد المنعم أبو الفتوح: أبعث بتهنئتى وتحياتي ...</td>\n",
       "      <td>0</td>\n",
       "      <td>NaN</td>\n",
       "      <td>msa</td>\n",
       "    </tr>\n",
       "  </tbody>\n",
       "</table>\n",
       "<p>148 rows × 5 columns</p>\n",
       "</div>"
      ],
      "text/plain": [
       "        id                                              tweet  sarcastic  \\\n",
       "305    306  حاسب روحو عنتر زمانو   ههههههههههههههههههههههه...          1   \n",
       "304    305  ماشالله حسام البدري اللعيبه اللي من دهب معاه تراب          1   \n",
       "2585  2586   أمير قطر السابق يشارك في جنازة  كاسترو و يشكر...          0   \n",
       "27      28        تبدلني أنا 90 كيلو شحم ولحم بزوج كيلو بطاطا          1   \n",
       "2440  2441   محمد علي خير  :قرار الرئيس  عدلي منصور بتحصين...          0   \n",
       "...    ...                                                ...        ...   \n",
       "2603  2604                          الله الله 😍  حزب الاعاده           0   \n",
       "1440  1441  كل عام و أنتم بخير، تقبل الله منا و منكم صالح ...          0   \n",
       "704    705  كان من الرائع اكتشاف امريكا ولكن كان اروع لو ل...          1   \n",
       "140    141   السوشيال قربت كل العالم من بعضه الا العرب فرقتهم          1   \n",
       "2709  2710  د عبد المنعم أبو الفتوح: أبعث بتهنئتى وتحياتي ...          0   \n",
       "\n",
       "                                               rephrase dialect  \n",
       "305                     متفكرش نفسك قوى أوى وانت مش كده  magreb  \n",
       "304                               حسام البدري مدرب فاشل    nile  \n",
       "2585                                                NaN    gulf  \n",
       "27                     تبدلني أنا بكل وزني بهذه النحيلة  magreb  \n",
       "2440                                                NaN     msa  \n",
       "...                                                 ...     ...  \n",
       "2603                                                NaN    nile  \n",
       "1440                                                NaN     msa  \n",
       "704   امريكا تشكل خطرا كبيرا على جميع الشعوب بما فيه...     msa  \n",
       "140   العرب بيتخانقوا على السوشيال ميديا بدل ما تقرب...    nile  \n",
       "2709                                                NaN     msa  \n",
       "\n",
       "[148 rows x 5 columns]"
      ]
     },
     "execution_count": 24,
     "metadata": {},
     "output_type": "execute_result"
    }
   ],
   "source": [
    "validation"
   ]
  },
  {
   "cell_type": "code",
   "execution_count": 25,
   "metadata": {},
   "outputs": [
    {
     "name": "stdout",
     "output_type": "stream",
     "text": [
      "Length of concatenated train and validation: 1490\n",
      "Length of balanced data: 1490\n"
     ]
    }
   ],
   "source": [
    "# check for overlap between train and validation \n",
    "result = pd.concat([training, validation]).drop_duplicates(subset=['tweet'], keep=False)\n",
    "print('Length of concatenated train and validation:', len(result))\n",
    "print('Length of balanced data:', len(balanced_data))"
   ]
  },
  {
   "cell_type": "code",
   "execution_count": null,
   "metadata": {},
   "outputs": [],
   "source": []
  },
  {
   "cell_type": "markdown",
   "metadata": {},
   "source": [
    "# Check tweet length distribution in training and validation splits"
   ]
  },
  {
   "cell_type": "code",
   "execution_count": 26,
   "metadata": {},
   "outputs": [
    {
     "name": "stdout",
     "output_type": "stream",
     "text": [
      "\n",
      "Length of training tweets):\n"
     ]
    },
    {
     "data": {
      "text/plain": [
       "count    1342.000000\n",
       "mean       65.009687\n",
       "std        37.158656\n",
       "min         5.000000\n",
       "25%        35.000000\n",
       "50%        55.000000\n",
       "75%        93.000000\n",
       "max       191.000000\n",
       "dtype: float64"
      ]
     },
     "execution_count": 26,
     "metadata": {},
     "output_type": "execute_result"
    },
    {
     "data": {
      "image/png": "[encoded data removed]",
      "text/plain": [
       "<Figure size 432x288 with 1 Axes>"
      ]
     },
     "metadata": {
      "needs_background": "light"
     },
     "output_type": "display_data"
    }
   ],
   "source": [
    "lengths = []\n",
    "\n",
    "for index, row in training.iterrows():\n",
    "  current_length = len(row['tweet'])\n",
    "  lengths.append(current_length)\n",
    "\n",
    "print(\"\\nLength of training tweets):\")\n",
    "pd.Series(lengths).hist(bins = 30)\n",
    "pd.Series(lengths).describe()"
   ]
  },
  {
   "cell_type": "code",
   "execution_count": 27,
   "metadata": {},
   "outputs": [
    {
     "name": "stdout",
     "output_type": "stream",
     "text": [
      "\n",
      "Length of validation tweets):\n"
     ]
    },
    {
     "data": {
      "text/plain": [
       "count    148.000000\n",
       "mean      63.222973\n",
       "std       35.705489\n",
       "min       10.000000\n",
       "25%       32.750000\n",
       "50%       55.000000\n",
       "75%       84.250000\n",
       "max      140.000000\n",
       "dtype: float64"
      ]
     },
     "execution_count": 27,
     "metadata": {},
     "output_type": "execute_result"
    },
    {
     "data": {
      "image/png": "[encoded data removed]",
      "text/plain": [
       "<Figure size 432x288 with 1 Axes>"
      ]
     },
     "metadata": {
      "needs_background": "light"
     },
     "output_type": "display_data"
    }
   ],
   "source": [
    "lengths = []\n",
    "\n",
    "for index, row in validation.iterrows():\n",
    "  current_length = len(row['tweet'])\n",
    "  lengths.append(current_length)\n",
    "  \n",
    "print(\"\\nLength of validation tweets):\")\n",
    "pd.Series(lengths).hist(bins = 30)\n",
    "pd.Series(lengths).describe()"
   ]
  },
  {
   "cell_type": "code",
   "execution_count": 29,
   "metadata": {},
   "outputs": [],
   "source": [
    "training.to_csv('balanced_train_Ar.csv')\n",
    "validation.to_csv('balanced_validation_Ar.csv')"
   ]
  },
  {
   "cell_type": "code",
   "execution_count": null,
   "metadata": {},
   "outputs": [],
   "source": []
  }
 ],
 "metadata": {
  "interpreter": {
   "hash": "397704579725e15f5c7cb49fe5f0341eb7531c82d19f2c29d197e8b64ab5776b"
  },
  "kernelspec": {
   "display_name": "Python 3.9.6 64-bit",
   "language": "python",
   "name": "python3"
  },
  "language_info": {
   "codemirror_mode": {
    "name": "ipython",
    "version": 3
   },
   "file_extension": ".py",
   "mimetype": "text/x-python",
   "name": "python",
   "nbconvert_exporter": "python",
   "pygments_lexer": "ipython3",
   "version": "3.9.6"
  },
  "orig_nbformat": 4
 },
 "nbformat": 4,
 "nbformat_minor": 2
}

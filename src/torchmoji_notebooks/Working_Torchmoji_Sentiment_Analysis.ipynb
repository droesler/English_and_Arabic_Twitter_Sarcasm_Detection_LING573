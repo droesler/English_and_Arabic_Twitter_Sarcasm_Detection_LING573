{
  "nbformat": 4,
  "nbformat_minor": 0,
  "metadata": {
    "colab": {
      "name": "Copy of Sentiment_Analysis.ipynb",
      "provenance": [],
      "collapsed_sections": [],
      "machine_shape": "hm"
    },
    "kernelspec": {
      "name": "python3",
      "display_name": "Python 3"
    }
  },
  "cells": [
    {
      "cell_type": "markdown",
      "metadata": {
        "id": "pS9lDblHONBx"
      },
      "source": [
        "# Sentiment Analysis\n",
        "![alt text](https://ai2-s2-public.s3.amazonaws.com/figures/2017-08-08/0cc39c70021d21fc0d2fd7a986ccd242bef86c29/6-Figure1-1.png)"
      ]
    },
    {
      "cell_type": "code",
      "metadata": {
        "id": "3E3QOWoqaJAn"
      },
      "source": [
        "import pandas as pd\n",
        "import seaborn as sns\n",
        "\n",
        "sns.set(rc={'figure.figsize':(30,1)})\n",
        "\n",
        "def visualise_sentiments(data):\n",
        "  sns.heatmap(pd.DataFrame(data).set_index(\"Sentence\").T,center=0, annot=True, cmap = \"PiYG\")"
      ],
      "execution_count": null,
      "outputs": []
    },
    {
      "cell_type": "code",
      "metadata": {
        "id": "QBpYqUI0SNiI"
      },
      "source": [
        "sentence = \"i really like you but you can be so dumb some times\""
      ],
      "execution_count": null,
      "outputs": []
    },
    {
      "cell_type": "markdown",
      "metadata": {
        "id": "PnFIqyY7OIuu"
      },
      "source": [
        "## NLTK Vader"
      ]
    },
    {
      "cell_type": "code",
      "metadata": {
        "id": "0PWxpQSAO6x2"
      },
      "source": [
        "import nltk\n",
        "nltk.download('vader_lexicon')\n",
        "from nltk.sentiment.vader import SentimentIntensityAnalyzer\n",
        "sid = SentimentIntensityAnalyzer()"
      ],
      "execution_count": null,
      "outputs": []
    },
    {
      "cell_type": "code",
      "metadata": {
        "id": "ESebaEaTcD6l"
      },
      "source": [
        "sid.polarity_scores(sentence)"
      ],
      "execution_count": null,
      "outputs": []
    },
    {
      "cell_type": "code",
      "metadata": {
        "id": "nfsz-MWVWHTH"
      },
      "source": [
        "visualise_sentiments({\n",
        "    \"Sentence\":[\"SENTENCE\"] + sentence.split(),\n",
        "    \"Sentiment\":[sid.polarity_scores(sentence)[\"compound\"]] + [sid.polarity_scores(word)[\"compound\"] for word in sentence.split()]\n",
        "})"
      ],
      "execution_count": null,
      "outputs": []
    },
    {
      "cell_type": "markdown",
      "metadata": {
        "id": "kacCYDY-Othv"
      },
      "source": [
        "## TextBlob"
      ]
    },
    {
      "cell_type": "code",
      "metadata": {
        "id": "dhAPgCx3dTj2"
      },
      "source": [
        "from textblob import TextBlob"
      ],
      "execution_count": null,
      "outputs": []
    },
    {
      "cell_type": "code",
      "metadata": {
        "id": "plSfiNGweYAx"
      },
      "source": [
        "TextBlob(sentence).sentiment"
      ],
      "execution_count": null,
      "outputs": []
    },
    {
      "cell_type": "code",
      "metadata": {
        "id": "RVYxpyUDdlqB"
      },
      "source": [
        "visualise_sentiments({\n",
        "      \"Sentence\":[\"SENTENCE\"] + sentence.split(),\n",
        "      \"Sentiment\":[TextBlob(sentence).polarity] + [TextBlob(word).polarity for word in sentence.split()],\n",
        "      \"Subjectivity\":[TextBlob(sentence).subjectivity] + [TextBlob(word).subjectivity for word in sentence.split()],\n",
        "})"
      ],
      "execution_count": null,
      "outputs": []
    },
    {
      "cell_type": "markdown",
      "metadata": {
        "id": "qjIbmONpOLCi"
      },
      "source": [
        "## Flair"
      ]
    },
    {
      "cell_type": "code",
      "metadata": {
        "id": "-PmZosdXhI5q"
      },
      "source": [
        "!pip3 install flair\n",
        "import flair\n",
        "flair_sentiment = flair.models.TextClassifier.load('en-sentiment')"
      ],
      "execution_count": null,
      "outputs": []
    },
    {
      "cell_type": "code",
      "metadata": {
        "id": "a7vcQnmhipCB"
      },
      "source": [
        "s = flair.data.Sentence(sentence)\n",
        "flair_sentiment.predict(s)\n",
        "total_sentiment = s.labels\n",
        "total_sentiment"
      ],
      "execution_count": null,
      "outputs": []
    },
    {
      "cell_type": "code",
      "metadata": {
        "id": "ND29Oz1akmCO"
      },
      "source": [
        "tokens = [token.text for token in s.tokens]\n",
        "ss = [flair.data.Sentence(s) for s in tokens]\n",
        "[flair_sentiment.predict(s) for s in ss]\n",
        "sentiments = [s.labels[0].score * (-1,1)[str(s.labels[0]).split()[0].startswith(\"POS\")] for s in ss]\n",
        "\n",
        "visualise_sentiments({\n",
        "      \"Sentence\":[\"SENTENCE\"] + tokens,\n",
        "      \"Sentiment\":[total_sentiment[0].score *(-1,1)[str(total_sentiment[0]).split()[0].startswith(\"POS\")]] + sentiments,\n",
        "})"
      ],
      "execution_count": null,
      "outputs": []
    },
    {
      "cell_type": "markdown",
      "metadata": {
        "id": "FDRXa8igOVC3"
      },
      "source": [
        "## DeepMoji (Emotions via Emojis)"
      ]
    },
    {
      "cell_type": "code",
      "source": [
        "!pip install --upgrade pip\n",
        "!pip install --upgrade pip setuptools wheel"
      ],
      "metadata": {
        "id": "556N7muDnsQD",
        "outputId": "3e949b3e-b4ea-410e-b1ea-32a5618b50a7",
        "colab": {
          "base_uri": "https://localhost:8080/"
        }
      },
      "execution_count": 1,
      "outputs": [
        {
          "output_type": "stream",
          "name": "stdout",
          "text": [
            "Requirement already satisfied: pip in /usr/local/lib/python3.7/dist-packages (21.1.3)\n",
            "Collecting pip\n",
            "  Downloading pip-22.0.4-py3-none-any.whl (2.1 MB)\n",
            "\u001b[K     |████████████████████████████████| 2.1 MB 5.0 MB/s \n",
            "\u001b[?25hInstalling collected packages: pip\n",
            "  Attempting uninstall: pip\n",
            "    Found existing installation: pip 21.1.3\n",
            "    Uninstalling pip-21.1.3:\n",
            "      Successfully uninstalled pip-21.1.3\n",
            "Successfully installed pip-22.0.4\n",
            "Requirement already satisfied: pip in /usr/local/lib/python3.7/dist-packages (22.0.4)\n",
            "Requirement already satisfied: setuptools in /usr/local/lib/python3.7/dist-packages (57.4.0)\n",
            "Collecting setuptools\n",
            "  Downloading setuptools-62.1.0-py3-none-any.whl (1.1 MB)\n",
            "\u001b[2K     \u001b[90m━━━━━━━━━━━━━━━━━━━━━━━━━━━━━━━━━━━━━━━━\u001b[0m \u001b[32m1.1/1.1 MB\u001b[0m \u001b[31m17.1 MB/s\u001b[0m eta \u001b[36m0:00:00\u001b[0m\n",
            "\u001b[?25hRequirement already satisfied: wheel in /usr/local/lib/python3.7/dist-packages (0.37.1)\n",
            "Installing collected packages: setuptools\n",
            "  Attempting uninstall: setuptools\n",
            "    Found existing installation: setuptools 57.4.0\n",
            "    Uninstalling setuptools-57.4.0:\n",
            "      Successfully uninstalled setuptools-57.4.0\n",
            "\u001b[31mERROR: pip's dependency resolver does not currently take into account all the packages that are installed. This behaviour is the source of the following dependency conflicts.\n",
            "tensorflow 2.8.0 requires tf-estimator-nightly==2.8.0.dev2021122109, which is not installed.\n",
            "datascience 0.10.6 requires folium==0.2.1, but you have folium 0.8.3 which is incompatible.\u001b[0m\u001b[31m\n",
            "\u001b[0mSuccessfully installed setuptools-62.1.0\n",
            "\u001b[33mWARNING: Running pip as the 'root' user can result in broken permissions and conflicting behaviour with the system package manager. It is recommended to use a virtual environment instead: https://pip.pypa.io/warnings/venv\u001b[0m\u001b[33m\n",
            "\u001b[0m"
          ]
        }
      ]
    },
    {
      "cell_type": "code",
      "metadata": {
        "id": "ZjGnyAcFsuD3",
        "colab": {
          "base_uri": "https://localhost:8080/"
        },
        "outputId": "ea86075d-1a4e-48b0-e115-fc5c71dbae9c"
      },
      "source": [
        "!pip install torch==1.0.1 -f https://download.pytorch.org/whl/cpu/stable \n",
        "!pip install scipy==1.5.2\n",
        "\n",
        "# !pip install numpy==1.13.1\n",
        "# !pip install scikit-learn==0.19.0\n",
        "# !pip install text-unidecode==1.0\n",
        "\n",
        "!pip install emoji==0.4.5\n",
        "\n"
      ],
      "execution_count": 1,
      "outputs": [
        {
          "output_type": "stream",
          "name": "stdout",
          "text": [
            "Looking in links: https://download.pytorch.org/whl/cpu/stable\n",
            "Collecting torch==1.0.1\n",
            "  Downloading torch-1.0.1-cp37-cp37m-manylinux1_x86_64.whl (560.1 MB)\n",
            "\u001b[K     |████████████████████████████████| 560.1 MB 22 kB/s \n",
            "\u001b[?25hInstalling collected packages: torch\n",
            "  Attempting uninstall: torch\n",
            "    Found existing installation: torch 1.10.0+cu111\n",
            "    Uninstalling torch-1.10.0+cu111:\n",
            "      Successfully uninstalled torch-1.10.0+cu111\n",
            "\u001b[31mERROR: pip's dependency resolver does not currently take into account all the packages that are installed. This behaviour is the source of the following dependency conflicts.\n",
            "torchvision 0.11.1+cu111 requires torch==1.10.0, but you have torch 1.0.1 which is incompatible.\n",
            "torchtext 0.11.0 requires torch==1.10.0, but you have torch 1.0.1 which is incompatible.\n",
            "torchaudio 0.10.0+cu111 requires torch==1.10.0, but you have torch 1.0.1 which is incompatible.\u001b[0m\n",
            "Successfully installed torch-1.0.1\n",
            "Collecting scipy==1.5.2\n",
            "  Downloading scipy-1.5.2-cp37-cp37m-manylinux1_x86_64.whl (25.9 MB)\n",
            "\u001b[K     |████████████████████████████████| 25.9 MB 37 kB/s \n",
            "\u001b[?25hRequirement already satisfied: numpy>=1.14.5 in /usr/local/lib/python3.7/dist-packages (from scipy==1.5.2) (1.21.6)\n",
            "Installing collected packages: scipy\n",
            "  Attempting uninstall: scipy\n",
            "    Found existing installation: scipy 1.4.1\n",
            "    Uninstalling scipy-1.4.1:\n",
            "      Successfully uninstalled scipy-1.4.1\n",
            "\u001b[31mERROR: pip's dependency resolver does not currently take into account all the packages that are installed. This behaviour is the source of the following dependency conflicts.\n",
            "albumentations 0.1.12 requires imgaug<0.2.7,>=0.2.5, but you have imgaug 0.2.9 which is incompatible.\u001b[0m\n",
            "Successfully installed scipy-1.5.2\n",
            "Collecting emoji==0.4.5\n",
            "  Downloading emoji-0.4.5.tar.gz (39 kB)\n",
            "Building wheels for collected packages: emoji\n",
            "  Building wheel for emoji (setup.py) ... \u001b[?25l\u001b[?25hdone\n",
            "  Created wheel for emoji: filename=emoji-0.4.5-py3-none-any.whl size=38216 sha256=9f2ac5c850898a80929b4d9256c1532c3c0d29a754aa45a477787474d1c4a452\n",
            "  Stored in directory: /root/.cache/pip/wheels/3c/ad/3c/fdf0516ae9acce0a28444bc119918ffadc96b9b580f21fe49e\n",
            "Successfully built emoji\n",
            "Installing collected packages: emoji\n",
            "Successfully installed emoji-0.4.5\n"
          ]
        }
      ]
    },
    {
      "cell_type": "code",
      "source": [
        "!git clone https://github.com/huggingface/torchMoji\n",
        "import os\n",
        "os.chdir('torchMoji')\n",
        "#!pip install -e ."
      ],
      "metadata": {
        "id": "IyUQzWaJS3M3",
        "outputId": "55f20446-c56c-470e-986f-e213ec31ac45",
        "colab": {
          "base_uri": "https://localhost:8080/"
        }
      },
      "execution_count": 2,
      "outputs": [
        {
          "output_type": "stream",
          "name": "stdout",
          "text": [
            "Cloning into 'torchMoji'...\n",
            "remote: Enumerating objects: 143, done.\u001b[K\n",
            "remote: Total 143 (delta 0), reused 0 (delta 0), pack-reused 143\u001b[K\n",
            "Receiving objects: 100% (143/143), 2.41 MiB | 10.04 MiB/s, done.\n",
            "Resolving deltas: 100% (49/49), done.\n"
          ]
        }
      ]
    },
    {
      "cell_type": "markdown",
      "metadata": {
        "id": "yfBLwAM0vjL4"
      },
      "source": [
        "type \"yes\" when prompted"
      ]
    },
    {
      "cell_type": "code",
      "metadata": {
        "id": "FhbEFFbo3EgG",
        "colab": {
          "base_uri": "https://localhost:8080/"
        },
        "outputId": "e56b5ae6-7de9-4868-fab8-47037775fb42"
      },
      "source": [
        "!python3 scripts/download_weights.py"
      ],
      "execution_count": 3,
      "outputs": [
        {
          "output_type": "stream",
          "name": "stdout",
          "text": [
            "About to download the pretrained weights file from https://www.dropbox.com/s/q8lax9ary32c7t9/pytorch_model.bin?dl=0#\n",
            "The size of the file is roughly 85MB. Continue? [y/n]\n",
            "y\n",
            "Downloading...\n",
            "Running system call: wget https://www.dropbox.com/s/q8lax9ary32c7t9/pytorch_model.bin?dl=0# -O /content/torchMoji/model/pytorch_model.bin\n",
            "--2022-04-21 23:45:07--  https://www.dropbox.com/s/q8lax9ary32c7t9/pytorch_model.bin?dl=0\n",
            "Resolving www.dropbox.com (www.dropbox.com)... 162.125.65.18, 2620:100:6021:18::a27d:4112\n",
            "Connecting to www.dropbox.com (www.dropbox.com)|162.125.65.18|:443... connected.\n",
            "HTTP request sent, awaiting response... 301 Moved Permanently\n",
            "Location: /s/raw/q8lax9ary32c7t9/pytorch_model.bin [following]\n",
            "--2022-04-21 23:45:07--  https://www.dropbox.com/s/raw/q8lax9ary32c7t9/pytorch_model.bin\n",
            "Reusing existing connection to www.dropbox.com:443.\n",
            "HTTP request sent, awaiting response... 302 Found\n",
            "Location: https://ucbe212d7f8c0677794c3fb886e2.dl.dropboxusercontent.com/cd/0/inline/Bj0RKk_TDod1gPpF1i4LMQUa8r_qiGCzl68UifgtmP3T22QWq1Zsmet32eeahTkb5AK_0acShk_jRAnMpTzaxYRtxOhssZUjTT4sHPBbR3zKRgmUTfBIf7Gy_96wRA_61-l_YwBe9eeSe029nRNnhQCTKMzyc025s9ZIbbQVS3vYDg/file# [following]\n",
            "--2022-04-21 23:45:08--  https://ucbe212d7f8c0677794c3fb886e2.dl.dropboxusercontent.com/cd/0/inline/Bj0RKk_TDod1gPpF1i4LMQUa8r_qiGCzl68UifgtmP3T22QWq1Zsmet32eeahTkb5AK_0acShk_jRAnMpTzaxYRtxOhssZUjTT4sHPBbR3zKRgmUTfBIf7Gy_96wRA_61-l_YwBe9eeSe029nRNnhQCTKMzyc025s9ZIbbQVS3vYDg/file\n",
            "Resolving ucbe212d7f8c0677794c3fb886e2.dl.dropboxusercontent.com (ucbe212d7f8c0677794c3fb886e2.dl.dropboxusercontent.com)... 162.125.65.15, 2620:100:6021:15::a27d:410f\n",
            "Connecting to ucbe212d7f8c0677794c3fb886e2.dl.dropboxusercontent.com (ucbe212d7f8c0677794c3fb886e2.dl.dropboxusercontent.com)|162.125.65.15|:443... connected.\n",
            "HTTP request sent, awaiting response... 302 Found\n",
            "Location: /cd/0/inline2/Bj0yShKgaJzhnWmAnB4nFdZQZrndmtqElXUWnbkiu_PWYxZX_lNgzaXAhK53Ce17YScs4NOtBF2fXa17gKvPS0H3vWniFb-Z9WIFPlwvvcmEERKkIJiP27bpvguqOrpgMh7slN2RzvbJiAI4-Rr52k6mwQzYdejzgcsJheD37Yb9tfA19L5o3Xq2yO_qBP0w9beh8A7T27xqIF13WrTvLWvL9gFxRHUcmS4wzFDkuGZBc4QETQ_eQdhiv42UXCV5U-jMW-1Phahjr0wpdquJrbrR2da_PQFaWhX235JPaaUsGnDAX2o7n_U9U5uKPnsYXTaeeoOQmXPAM_58X8teImaBWi4NvsfQLvQJyTK9V1et4AcAwI3ggvInV-YLhRz_k1jrsbQBHf-O4VPNwJQKMDEUE945Ry_dhO8dYrs0KQ1g2Q/file [following]\n",
            "--2022-04-21 23:45:08--  https://ucbe212d7f8c0677794c3fb886e2.dl.dropboxusercontent.com/cd/0/inline2/Bj0yShKgaJzhnWmAnB4nFdZQZrndmtqElXUWnbkiu_PWYxZX_lNgzaXAhK53Ce17YScs4NOtBF2fXa17gKvPS0H3vWniFb-Z9WIFPlwvvcmEERKkIJiP27bpvguqOrpgMh7slN2RzvbJiAI4-Rr52k6mwQzYdejzgcsJheD37Yb9tfA19L5o3Xq2yO_qBP0w9beh8A7T27xqIF13WrTvLWvL9gFxRHUcmS4wzFDkuGZBc4QETQ_eQdhiv42UXCV5U-jMW-1Phahjr0wpdquJrbrR2da_PQFaWhX235JPaaUsGnDAX2o7n_U9U5uKPnsYXTaeeoOQmXPAM_58X8teImaBWi4NvsfQLvQJyTK9V1et4AcAwI3ggvInV-YLhRz_k1jrsbQBHf-O4VPNwJQKMDEUE945Ry_dhO8dYrs0KQ1g2Q/file\n",
            "Reusing existing connection to ucbe212d7f8c0677794c3fb886e2.dl.dropboxusercontent.com:443.\n",
            "HTTP request sent, awaiting response... 200 OK\n",
            "Length: 89616062 (85M) [application/octet-stream]\n",
            "Saving to: ‘/content/torchMoji/model/pytorch_model.bin’\n",
            "\n",
            "/content/torchMoji/ 100%[===================>]  85.46M  17.8MB/s    in 5.2s    \n",
            "\n",
            "2022-04-21 23:45:13 (16.4 MB/s) - ‘/content/torchMoji/model/pytorch_model.bin’ saved [89616062/89616062]\n",
            "\n",
            "Downloaded weights to model/pytorch_model.bin\n"
          ]
        }
      ]
    },
    {
      "cell_type": "code",
      "source": [
        "sentence = \"Being a mom with an autoimmune disease means I am a grown ass woman that caught hand, foot, and mouth from my daughter. My Hashimotos sucks. Thanks for all the sicknesses I so graciously suffer and should not be suffering at 40.\""
      ],
      "metadata": {
        "id": "EVTNCYasfaJn"
      },
      "execution_count": 15,
      "outputs": []
    },
    {
      "cell_type": "code",
      "metadata": {
        "id": "hfyjDnld-WIP",
        "colab": {
          "base_uri": "https://localhost:8080/"
        },
        "outputId": "a93f8347-8dcd-4ffb-8dce-e48082ad091e"
      },
      "source": [
        "!python3 examples/text_emojize.py --text f\" {sentence} \""
      ],
      "execution_count": 16,
      "outputs": [
        {
          "output_type": "stream",
          "name": "stdout",
          "text": [
            "/content/torchMoji/torchmoji/model_def.py:159: UserWarning: nn.init.uniform is now deprecated in favor of nn.init.uniform_.\n",
            "  nn.init.uniform(self.embed.weight.data, a=-0.5, b=0.5)\n",
            "/content/torchMoji/torchmoji/model_def.py:161: UserWarning: nn.init.xavier_uniform is now deprecated in favor of nn.init.xavier_uniform_.\n",
            "  nn.init.xavier_uniform(t)\n",
            "/content/torchMoji/torchmoji/model_def.py:163: UserWarning: nn.init.orthogonal is now deprecated in favor of nn.init.orthogonal_.\n",
            "  nn.init.orthogonal(t)\n",
            "/content/torchMoji/torchmoji/model_def.py:165: UserWarning: nn.init.constant is now deprecated in favor of nn.init.constant_.\n",
            "  nn.init.constant(t, 0)\n",
            "/content/torchMoji/torchmoji/model_def.py:167: UserWarning: nn.init.xavier_uniform is now deprecated in favor of nn.init.xavier_uniform_.\n",
            "  nn.init.xavier_uniform(self.output_layer[0].weight.data)\n",
            "/usr/local/lib/python3.7/dist-packages/torch/nn/functional.py:1320: UserWarning: nn.functional.tanh is deprecated. Use torch.tanh instead.\n",
            "  warnings.warn(\"nn.functional.tanh is deprecated. Use torch.tanh instead.\")\n",
            "/usr/local/lib/python3.7/dist-packages/torch/nn/modules/container.py:92: UserWarning: Implicit dimension choice for softmax has been deprecated. Change the call to include dim=X as an argument.\n",
            "  input = module(input)\n",
            "f Being a mom with an autoimmune disease means I am a grown ass woman that caught hand, foot, and mouth from my daughter. My Hashimotos sucks. Thanks for all the sicknesses I so graciously suffer and should not be suffering at 40.  😡 😠 😷 😖 😤\n"
          ]
        }
      ]
    },
    {
      "cell_type": "code",
      "metadata": {
        "id": "peYMP00W_6nk",
        "colab": {
          "base_uri": "https://localhost:8080/"
        },
        "outputId": "155481c9-8af3-46d1-fe82-2b6d99974cd0"
      },
      "source": [
        "import numpy as np\n",
        "import emoji, json\n",
        "from torchmoji.global_variables import PRETRAINED_PATH, VOCAB_PATH\n",
        "from torchmoji.sentence_tokenizer import SentenceTokenizer\n",
        "from torchmoji.model_def import torchmoji_emojis\n",
        "  \n",
        "EMOJIS = \":joy: :unamused: :weary: :sob: :heart_eyes: :pensive: :ok_hand: :blush: :heart: :smirk: :grin: :notes: :flushed: :100: :sleeping: :relieved: :relaxed: :raised_hands: :two_hearts: :expressionless: :sweat_smile: :pray: :confused: :kissing_heart: :heartbeat: :neutral_face: :information_desk_person: :disappointed: :see_no_evil: :tired_face: :v: :sunglasses: :rage: :thumbsup: :cry: :sleepy: :yum: :triumph: :hand: :mask: :clap: :eyes: :gun: :persevere: :smiling_imp: :sweat: :broken_heart: :yellow_heart: :musical_note: :speak_no_evil: :wink: :skull: :confounded: :smile: :stuck_out_tongue_winking_eye: :angry: :no_good: :muscle: :facepunch: :purple_heart: :sparkling_heart: :blue_heart: :grimacing: :sparkles:\".split(' ')\n",
        "model = torchmoji_emojis(PRETRAINED_PATH)\n",
        "with open(VOCAB_PATH, 'r') as f:\n",
        "  vocabulary = json.load(f)\n",
        "st = SentenceTokenizer(vocabulary, 30)\n",
        "\n",
        "def deepmojify(sentence,top_n =5):\n",
        "  def top_elements(array, k):\n",
        "    ind = np.argpartition(array, -k)[-k:]\n",
        "    return ind[np.argsort(array[ind])][::-1]\n",
        "\n",
        "  tokenized, _, _ = st.tokenize_sentences([sentence])\n",
        "  prob = model(tokenized)[0]\n",
        "  emoji_ids = top_elements(prob, top_n)\n",
        "  emojis = map(lambda x: EMOJIS[x], emoji_ids)\n",
        "  return emoji.emojize(f\"{sentence} {' '.join(emojis)}\", use_aliases=True)"
      ],
      "execution_count": 6,
      "outputs": [
        {
          "output_type": "stream",
          "name": "stderr",
          "text": [
            "/content/torchMoji/torchmoji/model_def.py:159: UserWarning: nn.init.uniform is now deprecated in favor of nn.init.uniform_.\n",
            "  nn.init.uniform(self.embed.weight.data, a=-0.5, b=0.5)\n",
            "/content/torchMoji/torchmoji/model_def.py:161: UserWarning: nn.init.xavier_uniform is now deprecated in favor of nn.init.xavier_uniform_.\n",
            "  nn.init.xavier_uniform(t)\n",
            "/content/torchMoji/torchmoji/model_def.py:163: UserWarning: nn.init.orthogonal is now deprecated in favor of nn.init.orthogonal_.\n",
            "  nn.init.orthogonal(t)\n",
            "/content/torchMoji/torchmoji/model_def.py:165: UserWarning: nn.init.constant is now deprecated in favor of nn.init.constant_.\n",
            "  nn.init.constant(t, 0)\n",
            "/content/torchMoji/torchmoji/model_def.py:167: UserWarning: nn.init.xavier_uniform is now deprecated in favor of nn.init.xavier_uniform_.\n",
            "  nn.init.xavier_uniform(self.output_layer[0].weight.data)\n"
          ]
        }
      ]
    },
    {
      "cell_type": "code",
      "metadata": {
        "id": "MkRF-2LzCMxI",
        "colab": {
          "base_uri": "https://localhost:8080/",
          "height": 107
        },
        "outputId": "a98b1a42-721f-4117-ab76-b3c50bae38ad"
      },
      "source": [
        "deepmojify(sentence, top_n = 3)"
      ],
      "execution_count": 7,
      "outputs": [
        {
          "output_type": "stream",
          "name": "stderr",
          "text": [
            "/usr/local/lib/python3.7/dist-packages/torch/nn/functional.py:1320: UserWarning: nn.functional.tanh is deprecated. Use torch.tanh instead.\n",
            "  warnings.warn(\"nn.functional.tanh is deprecated. Use torch.tanh instead.\")\n",
            "/usr/local/lib/python3.7/dist-packages/torch/nn/modules/container.py:92: UserWarning: Implicit dimension choice for softmax has been deprecated. Change the call to include dim=X as an argument.\n",
            "  input = module(input)\n"
          ]
        },
        {
          "output_type": "execute_result",
          "data": {
            "text/plain": [
              "'I hate pizza! 😷 😖 🙅'"
            ],
            "application/vnd.google.colaboratory.intrinsic+json": {
              "type": "string"
            }
          },
          "metadata": {},
          "execution_count": 7
        }
      ]
    },
    {
      "cell_type": "code",
      "source": [
        "tokenized, _, _ = st.tokenize_sentences([sentence])\n",
        "model(tokenized)[0]"
      ],
      "metadata": {
        "colab": {
          "base_uri": "https://localhost:8080/"
        },
        "id": "tZH9ANt1hk0j",
        "outputId": "60c3b444-cf15-45b5-cb7c-9a26d5453868"
      },
      "execution_count": 8,
      "outputs": [
        {
          "output_type": "stream",
          "name": "stderr",
          "text": [
            "/usr/local/lib/python3.7/dist-packages/torch/nn/functional.py:1320: UserWarning: nn.functional.tanh is deprecated. Use torch.tanh instead.\n",
            "  warnings.warn(\"nn.functional.tanh is deprecated. Use torch.tanh instead.\")\n",
            "/usr/local/lib/python3.7/dist-packages/torch/nn/modules/container.py:92: UserWarning: Implicit dimension choice for softmax has been deprecated. Change the call to include dim=X as an argument.\n",
            "  input = module(input)\n"
          ]
        },
        {
          "output_type": "execute_result",
          "data": {
            "text/plain": [
              "array([1.4711780e-03, 1.1509295e-02, 8.7144300e-03, 4.9024303e-03,\n",
              "       3.4918488e-04, 2.9549554e-03, 8.1441115e-04, 5.1419600e-04,\n",
              "       6.1994366e-04, 4.5753084e-04, 3.7836686e-03, 7.9344158e-05,\n",
              "       3.8828154e-03, 4.7150391e-04, 3.3829399e-04, 4.0337216e-04,\n",
              "       5.0310633e-04, 4.0333002e-04, 1.4051734e-04, 1.4672055e-02,\n",
              "       1.5272809e-03, 1.9835425e-04, 4.3993955e-03, 7.4597381e-05,\n",
              "       5.7081308e-04, 8.1227692e-03, 3.8502281e-04, 4.9372609e-03,\n",
              "       3.1895111e-03, 2.3954699e-02, 8.9528260e-04, 2.4096158e-04,\n",
              "       4.7821973e-02, 5.7454192e-04, 3.9743199e-03, 5.0338064e-03,\n",
              "       4.7566313e-03, 2.4363132e-02, 5.8561903e-03, 3.9512235e-01,\n",
              "       5.6835217e-04, 2.6177891e-04, 8.7388456e-03, 4.2797681e-02,\n",
              "       3.8549420e-04, 3.9625932e-03, 5.5136643e-03, 5.2427786e-04,\n",
              "       6.5365391e-05, 1.0431479e-02, 1.7852674e-04, 3.0531830e-03,\n",
              "       1.6404124e-01, 1.6609123e-03, 8.9185516e-04, 4.8561934e-02,\n",
              "       9.4414420e-02, 1.6818878e-04, 1.0528595e-02, 2.1284648e-04,\n",
              "       1.9643917e-04, 1.5779334e-04, 9.6072713e-03, 9.2759445e-05],\n",
              "      dtype=float32)"
            ]
          },
          "metadata": {},
          "execution_count": 8
        }
      ]
    }
  ]
}
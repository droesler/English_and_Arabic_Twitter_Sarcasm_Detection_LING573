{
  "nbformat": 4,
  "nbformat_minor": 0,
  "metadata": {
    "colab": {
      "name": "Correct_Pytorch_Working_Torchmoji_Sentiment_Analysis.ipynb",
      "provenance": [],
      "collapsed_sections": [],
      "machine_shape": "hm"
    },
    "kernelspec": {
      "name": "python3",
      "display_name": "Python 3"
    }
  },
  "cells": [
    {
      "cell_type": "markdown",
      "metadata": {
        "id": "pS9lDblHONBx"
      },
      "source": [
        "# Sentiment Analysis\n",
        "![alt text](https://ai2-s2-public.s3.amazonaws.com/figures/2017-08-08/0cc39c70021d21fc0d2fd7a986ccd242bef86c29/6-Figure1-1.png)"
      ]
    },
    {
      "cell_type": "code",
      "metadata": {
        "id": "3E3QOWoqaJAn"
      },
      "source": [
        "import pandas as pd\n",
        "import seaborn as sns\n",
        "\n",
        "sns.set(rc={'figure.figsize':(30,1)})\n",
        "\n",
        "def visualise_sentiments(data):\n",
        "  sns.heatmap(pd.DataFrame(data).set_index(\"Sentence\").T,center=0, annot=True, cmap = \"PiYG\")"
      ],
      "execution_count": null,
      "outputs": []
    },
    {
      "cell_type": "code",
      "metadata": {
        "id": "QBpYqUI0SNiI"
      },
      "source": [
        "sentence = \"i really like you but you can be so dumb some times\""
      ],
      "execution_count": null,
      "outputs": []
    },
    {
      "cell_type": "markdown",
      "metadata": {
        "id": "PnFIqyY7OIuu"
      },
      "source": [
        "## NLTK Vader"
      ]
    },
    {
      "cell_type": "code",
      "metadata": {
        "id": "0PWxpQSAO6x2"
      },
      "source": [
        "import nltk\n",
        "nltk.download('vader_lexicon')\n",
        "from nltk.sentiment.vader import SentimentIntensityAnalyzer\n",
        "sid = SentimentIntensityAnalyzer()"
      ],
      "execution_count": null,
      "outputs": []
    },
    {
      "cell_type": "code",
      "metadata": {
        "id": "ESebaEaTcD6l"
      },
      "source": [
        "sid.polarity_scores(sentence)"
      ],
      "execution_count": null,
      "outputs": []
    },
    {
      "cell_type": "code",
      "metadata": {
        "id": "nfsz-MWVWHTH"
      },
      "source": [
        "visualise_sentiments({\n",
        "    \"Sentence\":[\"SENTENCE\"] + sentence.split(),\n",
        "    \"Sentiment\":[sid.polarity_scores(sentence)[\"compound\"]] + [sid.polarity_scores(word)[\"compound\"] for word in sentence.split()]\n",
        "})"
      ],
      "execution_count": null,
      "outputs": []
    },
    {
      "cell_type": "markdown",
      "metadata": {
        "id": "kacCYDY-Othv"
      },
      "source": [
        "## TextBlob"
      ]
    },
    {
      "cell_type": "code",
      "metadata": {
        "id": "dhAPgCx3dTj2"
      },
      "source": [
        "from textblob import TextBlob"
      ],
      "execution_count": null,
      "outputs": []
    },
    {
      "cell_type": "code",
      "metadata": {
        "id": "plSfiNGweYAx"
      },
      "source": [
        "TextBlob(sentence).sentiment"
      ],
      "execution_count": null,
      "outputs": []
    },
    {
      "cell_type": "code",
      "metadata": {
        "id": "RVYxpyUDdlqB"
      },
      "source": [
        "visualise_sentiments({\n",
        "      \"Sentence\":[\"SENTENCE\"] + sentence.split(),\n",
        "      \"Sentiment\":[TextBlob(sentence).polarity] + [TextBlob(word).polarity for word in sentence.split()],\n",
        "      \"Subjectivity\":[TextBlob(sentence).subjectivity] + [TextBlob(word).subjectivity for word in sentence.split()],\n",
        "})"
      ],
      "execution_count": null,
      "outputs": []
    },
    {
      "cell_type": "markdown",
      "metadata": {
        "id": "qjIbmONpOLCi"
      },
      "source": [
        "## Flair"
      ]
    },
    {
      "cell_type": "code",
      "metadata": {
        "id": "-PmZosdXhI5q"
      },
      "source": [
        "!pip3 install flair\n",
        "import flair\n",
        "flair_sentiment = flair.models.TextClassifier.load('en-sentiment')"
      ],
      "execution_count": null,
      "outputs": []
    },
    {
      "cell_type": "code",
      "metadata": {
        "id": "a7vcQnmhipCB"
      },
      "source": [
        "s = flair.data.Sentence(sentence)\n",
        "flair_sentiment.predict(s)\n",
        "total_sentiment = s.labels\n",
        "total_sentiment"
      ],
      "execution_count": null,
      "outputs": []
    },
    {
      "cell_type": "code",
      "metadata": {
        "id": "ND29Oz1akmCO"
      },
      "source": [
        "tokens = [token.text for token in s.tokens]\n",
        "ss = [flair.data.Sentence(s) for s in tokens]\n",
        "[flair_sentiment.predict(s) for s in ss]\n",
        "sentiments = [s.labels[0].score * (-1,1)[str(s.labels[0]).split()[0].startswith(\"POS\")] for s in ss]\n",
        "\n",
        "visualise_sentiments({\n",
        "      \"Sentence\":[\"SENTENCE\"] + tokens,\n",
        "      \"Sentiment\":[total_sentiment[0].score *(-1,1)[str(total_sentiment[0]).split()[0].startswith(\"POS\")]] + sentiments,\n",
        "})"
      ],
      "execution_count": null,
      "outputs": []
    },
    {
      "cell_type": "markdown",
      "metadata": {
        "id": "FDRXa8igOVC3"
      },
      "source": [
        "## DeepMoji (Emotions via Emojis)"
      ]
    },
    {
      "cell_type": "code",
      "source": [
        "# !pip install --upgrade pip\n",
        "# !pip install --upgrade pip setuptools wheel"
      ],
      "metadata": {
        "id": "556N7muDnsQD"
      },
      "execution_count": 1,
      "outputs": []
    },
    {
      "cell_type": "code",
      "metadata": {
        "id": "ZjGnyAcFsuD3",
        "colab": {
          "base_uri": "https://localhost:8080/"
        },
        "outputId": "f62f1827-c944-4f2a-b4ea-3353d0e1e956"
      },
      "source": [
        "#!pip install torch==1.0.1 -f https://download.pytorch.org/whl/cpu/stable \n",
        "!pip install torch==1.10.0+cu111 torchvision==0.11.0+cu111 torchaudio==0.10.0 -f https://download.pytorch.org/whl/torch_stable.html\n",
        "\n",
        "!pip install scipy==1.5.2\n",
        "\n",
        "# !pip install numpy==1.13.1\n",
        "# !pip install scikit-learn==0.19.0\n",
        "# !pip install text-unidecode==1.0\n",
        "\n",
        "# !pip install emoji==0.4.5\n",
        "!pip install emoji==0.6.0\n"
      ],
      "execution_count": 2,
      "outputs": [
        {
          "output_type": "stream",
          "name": "stdout",
          "text": [
            "Looking in links: https://download.pytorch.org/whl/torch_stable.html\n",
            "Collecting torch==1.10.0+cu111\n",
            "  Downloading https://download.pytorch.org/whl/cu111/torch-1.10.0%2Bcu111-cp37-cp37m-linux_x86_64.whl (2137.6 MB)\n",
            "\u001b[K     |████████████▌                   | 834.1 MB 1.2 MB/s eta 0:17:56tcmalloc: large alloc 1147494400 bytes == 0x394ce000 @  0x7fef7cb9e615 0x592b76 0x4df71e 0x59afff 0x515655 0x549576 0x593fce 0x548ae9 0x51566f 0x549576 0x593fce 0x548ae9 0x5127f1 0x598e3b 0x511f68 0x598e3b 0x511f68 0x598e3b 0x511f68 0x4bc98a 0x532e76 0x594b72 0x515600 0x549576 0x593fce 0x548ae9 0x5127f1 0x549576 0x593fce 0x5118f8 0x593dd7\n",
            "\u001b[K     |███████████████▉                | 1055.7 MB 1.3 MB/s eta 0:13:59tcmalloc: large alloc 1434370048 bytes == 0x7db24000 @  0x7fef7cb9e615 0x592b76 0x4df71e 0x59afff 0x515655 0x549576 0x593fce 0x548ae9 0x51566f 0x549576 0x593fce 0x548ae9 0x5127f1 0x598e3b 0x511f68 0x598e3b 0x511f68 0x598e3b 0x511f68 0x4bc98a 0x532e76 0x594b72 0x515600 0x549576 0x593fce 0x548ae9 0x5127f1 0x549576 0x593fce 0x5118f8 0x593dd7\n",
            "\u001b[K     |████████████████████            | 1336.2 MB 1.2 MB/s eta 0:11:05tcmalloc: large alloc 1792966656 bytes == 0x2956000 @  0x7fef7cb9e615 0x592b76 0x4df71e 0x59afff 0x515655 0x549576 0x593fce 0x548ae9 0x51566f 0x549576 0x593fce 0x548ae9 0x5127f1 0x598e3b 0x511f68 0x598e3b 0x511f68 0x598e3b 0x511f68 0x4bc98a 0x532e76 0x594b72 0x515600 0x549576 0x593fce 0x548ae9 0x5127f1 0x549576 0x593fce 0x5118f8 0x593dd7\n",
            "\u001b[K     |█████████████████████████▎      | 1691.1 MB 1.2 MB/s eta 0:06:14tcmalloc: large alloc 2241208320 bytes == 0x6d73e000 @  0x7fef7cb9e615 0x592b76 0x4df71e 0x59afff 0x515655 0x549576 0x593fce 0x548ae9 0x51566f 0x549576 0x593fce 0x548ae9 0x5127f1 0x598e3b 0x511f68 0x598e3b 0x511f68 0x598e3b 0x511f68 0x4bc98a 0x532e76 0x594b72 0x515600 0x549576 0x593fce 0x548ae9 0x5127f1 0x549576 0x593fce 0x5118f8 0x593dd7\n",
            "\u001b[K     |████████████████████████████████| 2137.6 MB 1.2 MB/s eta 0:00:01tcmalloc: large alloc 2137645056 bytes == 0xf30a0000 @  0x7fef7cb9d1e7 0x4a3940 0x4a39cc 0x592b76 0x4df71e 0x59afff 0x515655 0x549576 0x593fce 0x511e2c 0x549576 0x593fce 0x511e2c 0x549576 0x593fce 0x511e2c 0x549576 0x593fce 0x511e2c 0x549576 0x593fce 0x511e2c 0x593dd7 0x511e2c 0x549576 0x593fce 0x548ae9 0x5127f1 0x549576 0x593fce 0x548ae9\n",
            "tcmalloc: large alloc 2672058368 bytes == 0x1e6bc2000 @  0x7fef7cb9e615 0x592b76 0x4df71e 0x59afff 0x515655 0x549576 0x593fce 0x511e2c 0x549576 0x593fce 0x511e2c 0x549576 0x593fce 0x511e2c 0x549576 0x593fce 0x511e2c 0x549576 0x593fce 0x511e2c 0x593dd7 0x511e2c 0x549576 0x593fce 0x548ae9 0x5127f1 0x549576 0x593fce 0x548ae9 0x5127f1 0x549576\n",
            "\u001b[K     |████████████████████████████████| 2137.6 MB 363 bytes/s \n",
            "\u001b[?25hCollecting torchvision==0.11.0+cu111\n",
            "  Downloading https://download.pytorch.org/whl/cu111/torchvision-0.11.0%2Bcu111-cp37-cp37m-linux_x86_64.whl (21.9 MB)\n",
            "\u001b[K     |████████████████████████████████| 21.9 MB 91.8 MB/s \n",
            "\u001b[?25hCollecting torchaudio==0.10.0\n",
            "  Downloading https://download.pytorch.org/whl/rocm4.1/torchaudio-0.10.0%2Brocm4.1-cp37-cp37m-linux_x86_64.whl (2.7 MB)\n",
            "\u001b[K     |████████████████████████████████| 2.7 MB 27.6 MB/s \n",
            "\u001b[?25hRequirement already satisfied: typing-extensions in /usr/local/lib/python3.7/dist-packages (from torch==1.10.0+cu111) (4.2.0)\n",
            "Requirement already satisfied: pillow!=8.3.0,>=5.3.0 in /usr/local/lib/python3.7/dist-packages (from torchvision==0.11.0+cu111) (7.1.2)\n",
            "Requirement already satisfied: numpy in /usr/local/lib/python3.7/dist-packages (from torchvision==0.11.0+cu111) (1.21.6)\n",
            "Installing collected packages: torch, torchvision, torchaudio\n",
            "  Attempting uninstall: torch\n",
            "    Found existing installation: torch 1.11.0+cu113\n",
            "    Uninstalling torch-1.11.0+cu113:\n",
            "      Successfully uninstalled torch-1.11.0+cu113\n",
            "  Attempting uninstall: torchvision\n",
            "    Found existing installation: torchvision 0.12.0+cu113\n",
            "    Uninstalling torchvision-0.12.0+cu113:\n",
            "      Successfully uninstalled torchvision-0.12.0+cu113\n",
            "  Attempting uninstall: torchaudio\n",
            "    Found existing installation: torchaudio 0.11.0+cu113\n",
            "    Uninstalling torchaudio-0.11.0+cu113:\n",
            "      Successfully uninstalled torchaudio-0.11.0+cu113\n",
            "\u001b[31mERROR: pip's dependency resolver does not currently take into account all the packages that are installed. This behaviour is the source of the following dependency conflicts.\n",
            "torchtext 0.12.0 requires torch==1.11.0, but you have torch 1.10.0+cu111 which is incompatible.\u001b[0m\n",
            "Successfully installed torch-1.10.0+cu111 torchaudio-0.10.0+rocm4.1 torchvision-0.11.0+cu111\n",
            "Collecting scipy==1.5.2\n",
            "  Downloading scipy-1.5.2-cp37-cp37m-manylinux1_x86_64.whl (25.9 MB)\n",
            "\u001b[K     |████████████████████████████████| 25.9 MB 1.5 MB/s \n",
            "\u001b[?25hRequirement already satisfied: numpy>=1.14.5 in /usr/local/lib/python3.7/dist-packages (from scipy==1.5.2) (1.21.6)\n",
            "Installing collected packages: scipy\n",
            "  Attempting uninstall: scipy\n",
            "    Found existing installation: scipy 1.4.1\n",
            "    Uninstalling scipy-1.4.1:\n",
            "      Successfully uninstalled scipy-1.4.1\n",
            "\u001b[31mERROR: pip's dependency resolver does not currently take into account all the packages that are installed. This behaviour is the source of the following dependency conflicts.\n",
            "albumentations 0.1.12 requires imgaug<0.2.7,>=0.2.5, but you have imgaug 0.2.9 which is incompatible.\u001b[0m\n",
            "Successfully installed scipy-1.5.2\n",
            "Collecting emoji==0.6.0\n",
            "  Downloading emoji-0.6.0.tar.gz (51 kB)\n",
            "\u001b[K     |████████████████████████████████| 51 kB 2.5 MB/s \n",
            "\u001b[?25hBuilding wheels for collected packages: emoji\n",
            "  Building wheel for emoji (setup.py) ... \u001b[?25l\u001b[?25hdone\n",
            "  Created wheel for emoji: filename=emoji-0.6.0-py3-none-any.whl size=49734 sha256=b49e93e61f4dbd1b6f9abf75136ddc149fe3a798aeee656405e1fae5f0534d58\n",
            "  Stored in directory: /root/.cache/pip/wheels/4e/bf/6b/2e22b3708d14bf6384f862db539b044d6931bd6b14ad3c9adc\n",
            "Successfully built emoji\n",
            "Installing collected packages: emoji\n",
            "Successfully installed emoji-0.6.0\n"
          ]
        }
      ]
    },
    {
      "cell_type": "code",
      "source": [
        "# !git clone https://github.com/huggingface/torchMoji\n",
        "!git clone https://github.com/cw75/torchMoji\n",
        "import os\n",
        "os.chdir('torchMoji')\n",
        "#!pip install -e ."
      ],
      "metadata": {
        "id": "IyUQzWaJS3M3",
        "outputId": "dd47842a-6126-4abe-f41e-e9f5d8384acb",
        "colab": {
          "base_uri": "https://localhost:8080/"
        }
      },
      "execution_count": 3,
      "outputs": [
        {
          "output_type": "stream",
          "name": "stdout",
          "text": [
            "Cloning into 'torchMoji'...\n",
            "remote: Enumerating objects: 177, done.\u001b[K\n",
            "remote: Counting objects: 100% (44/44), done.\u001b[K\n",
            "remote: Compressing objects: 100% (10/10), done.\u001b[K\n",
            "remote: Total 177 (delta 37), reused 34 (delta 34), pack-reused 133\u001b[K\n",
            "Receiving objects: 100% (177/177), 2.41 MiB | 12.68 MiB/s, done.\n",
            "Resolving deltas: 100% (69/69), done.\n"
          ]
        }
      ]
    },
    {
      "cell_type": "markdown",
      "metadata": {
        "id": "yfBLwAM0vjL4"
      },
      "source": [
        "type \"yes\" when prompted"
      ]
    },
    {
      "cell_type": "code",
      "metadata": {
        "id": "FhbEFFbo3EgG",
        "colab": {
          "base_uri": "https://localhost:8080/"
        },
        "outputId": "7541913c-96db-43d7-b221-5198a3fe9d23"
      },
      "source": [
        "!python3 scripts/download_weights.py"
      ],
      "execution_count": 4,
      "outputs": [
        {
          "output_type": "stream",
          "name": "stdout",
          "text": [
            "About to download the pretrained weights file from https://www.dropbox.com/s/q8lax9ary32c7t9/pytorch_model.bin?dl=0#\n",
            "The size of the file is roughly 85MB. Continue? [y/n]\n",
            "y\n",
            "Downloading...\n",
            "Running system call: wget https://www.dropbox.com/s/q8lax9ary32c7t9/pytorch_model.bin?dl=0# -O /content/torchMoji/model/pytorch_model.bin\n",
            "--2022-04-27 01:34:50--  https://www.dropbox.com/s/q8lax9ary32c7t9/pytorch_model.bin?dl=0\n",
            "Resolving www.dropbox.com (www.dropbox.com)... 162.125.3.18, 2620:100:601b:18::a27d:812\n",
            "Connecting to www.dropbox.com (www.dropbox.com)|162.125.3.18|:443... connected.\n",
            "HTTP request sent, awaiting response... 301 Moved Permanently\n",
            "Location: /s/raw/q8lax9ary32c7t9/pytorch_model.bin [following]\n",
            "--2022-04-27 01:34:50--  https://www.dropbox.com/s/raw/q8lax9ary32c7t9/pytorch_model.bin\n",
            "Reusing existing connection to www.dropbox.com:443.\n",
            "HTTP request sent, awaiting response... 302 Found\n",
            "Location: https://uc89544baa1e856072c5583425d0.dl.dropboxusercontent.com/cd/0/inline/BkJRtbS9QuzyqQJTYJMD1HwE_MsQLZ0SGfuoVmO8L7tymfA9Kz_GoC5xLiP09CoI-Am02qPeIqOshipK66wMz_q3Wp2V14kKTrsPWmfVSYUbGseGhNlyXvTwcD9b_uz90fYvvOdrqdjd7xhQvrdteCTx4ZbgVUhbPvq-idPyQCOWxg/file# [following]\n",
            "--2022-04-27 01:34:50--  https://uc89544baa1e856072c5583425d0.dl.dropboxusercontent.com/cd/0/inline/BkJRtbS9QuzyqQJTYJMD1HwE_MsQLZ0SGfuoVmO8L7tymfA9Kz_GoC5xLiP09CoI-Am02qPeIqOshipK66wMz_q3Wp2V14kKTrsPWmfVSYUbGseGhNlyXvTwcD9b_uz90fYvvOdrqdjd7xhQvrdteCTx4ZbgVUhbPvq-idPyQCOWxg/file\n",
            "Resolving uc89544baa1e856072c5583425d0.dl.dropboxusercontent.com (uc89544baa1e856072c5583425d0.dl.dropboxusercontent.com)... 162.125.3.15, 2620:100:601b:15::a27d:80f\n",
            "Connecting to uc89544baa1e856072c5583425d0.dl.dropboxusercontent.com (uc89544baa1e856072c5583425d0.dl.dropboxusercontent.com)|162.125.3.15|:443... connected.\n",
            "HTTP request sent, awaiting response... 302 Found\n",
            "Location: /cd/0/inline2/BkL0ikTNTlbFrhpG0DGpHHF4EL--SinEndh0xdepRbKFfwo7bLkhlAXiqTANXeocEAhJuInT7-lNdx6ltzJImI4HQyzDXFL1QbIHcTXfuxukCnVCbzH89D2kzXUKfhU-KopEkCUJnogHOJ4Pe8_8UwiKtLc35aLMARYY9y0hp5lc9Q85nUIrKYpvg1FYS8DD0JpI2tEc6yzdliQSpgE7KH4rGx-eWbRtnejDzsvn_1zDTM57nxuQPz9jxtgHDw0vRlDIOt9ddJS9Z1G0QYBVNaCDiPPJgUUt8r2qLrpiGCWMUm3vNNDZzUX0RsCgMFf8tNRScrMMMOrFpkSXwlMtCgiSSy6VPqB9n_nkpqYahDx09yt8dhRrSF1g8nPK-Y7nrJY6jUlwFCC25oNw5_aw1r7uOlfxwmO9_ZJq7OoAC0qdVg/file [following]\n",
            "--2022-04-27 01:34:50--  https://uc89544baa1e856072c5583425d0.dl.dropboxusercontent.com/cd/0/inline2/BkL0ikTNTlbFrhpG0DGpHHF4EL--SinEndh0xdepRbKFfwo7bLkhlAXiqTANXeocEAhJuInT7-lNdx6ltzJImI4HQyzDXFL1QbIHcTXfuxukCnVCbzH89D2kzXUKfhU-KopEkCUJnogHOJ4Pe8_8UwiKtLc35aLMARYY9y0hp5lc9Q85nUIrKYpvg1FYS8DD0JpI2tEc6yzdliQSpgE7KH4rGx-eWbRtnejDzsvn_1zDTM57nxuQPz9jxtgHDw0vRlDIOt9ddJS9Z1G0QYBVNaCDiPPJgUUt8r2qLrpiGCWMUm3vNNDZzUX0RsCgMFf8tNRScrMMMOrFpkSXwlMtCgiSSy6VPqB9n_nkpqYahDx09yt8dhRrSF1g8nPK-Y7nrJY6jUlwFCC25oNw5_aw1r7uOlfxwmO9_ZJq7OoAC0qdVg/file\n",
            "Reusing existing connection to uc89544baa1e856072c5583425d0.dl.dropboxusercontent.com:443.\n",
            "HTTP request sent, awaiting response... 200 OK\n",
            "Length: 89616062 (85M) [application/octet-stream]\n",
            "Saving to: ‘/content/torchMoji/model/pytorch_model.bin’\n",
            "\n",
            "/content/torchMoji/ 100%[===================>]  85.46M  59.2MB/s    in 1.4s    \n",
            "\n",
            "2022-04-27 01:34:52 (59.2 MB/s) - ‘/content/torchMoji/model/pytorch_model.bin’ saved [89616062/89616062]\n",
            "\n",
            "Downloaded weights to model/pytorch_model.bin\n"
          ]
        }
      ]
    },
    {
      "cell_type": "code",
      "source": [
        "sentence = \"Being a mom with an autoimmune disease means I am a grown ass woman that caught hand, foot, and mouth from my daughter. My Hashimotos sucks. Thanks for all the sicknesses I so graciously suffer and should not be suffering at 40.\""
      ],
      "metadata": {
        "id": "EVTNCYasfaJn"
      },
      "execution_count": 5,
      "outputs": []
    },
    {
      "cell_type": "code",
      "metadata": {
        "id": "hfyjDnld-WIP",
        "colab": {
          "base_uri": "https://localhost:8080/"
        },
        "outputId": "266e8961-5042-4404-a263-b91482bb2ead"
      },
      "source": [
        "!python3 examples/text_emojize.py --text f\"{sentence}\""
      ],
      "execution_count": 6,
      "outputs": [
        {
          "output_type": "stream",
          "name": "stdout",
          "text": [
            "/content/torchMoji/torchmoji/model_def.py:163: UserWarning: nn.init.uniform is now deprecated in favor of nn.init.uniform_.\n",
            "  nn.init.uniform(self.embed.weight.data, a=-0.5, b=0.5)\n",
            "/content/torchMoji/torchmoji/model_def.py:165: UserWarning: nn.init.xavier_uniform is now deprecated in favor of nn.init.xavier_uniform_.\n",
            "  nn.init.xavier_uniform(t)\n",
            "/content/torchMoji/torchmoji/model_def.py:167: UserWarning: nn.init.orthogonal is now deprecated in favor of nn.init.orthogonal_.\n",
            "  nn.init.orthogonal(t)\n",
            "/content/torchMoji/torchmoji/model_def.py:169: UserWarning: nn.init.constant is now deprecated in favor of nn.init.constant_.\n",
            "  nn.init.constant(t, 0)\n",
            "/content/torchMoji/torchmoji/model_def.py:171: UserWarning: nn.init.xavier_uniform is now deprecated in favor of nn.init.xavier_uniform_.\n",
            "  nn.init.xavier_uniform(self.output_layer[0].weight.data)\n",
            "weight path is: \n",
            "/content/torchMoji/model/pytorch_model.bin\n",
            "return attention is: \n",
            "False\n",
            "/usr/local/lib/python3.7/dist-packages/torch/nn/functional.py:1795: UserWarning: nn.functional.tanh is deprecated. Use torch.tanh instead.\n",
            "  warnings.warn(\"nn.functional.tanh is deprecated. Use torch.tanh instead.\")\n",
            "/usr/local/lib/python3.7/dist-packages/torch/nn/modules/container.py:141: UserWarning: Implicit dimension choice for softmax has been deprecated. Change the call to include dim=X as an argument.\n",
            "  input = module(input)\n",
            "fBeing a mom with an autoimmune disease means I am a grown ass woman that caught hand, foot, and mouth from my daughter. My Hashimotos sucks. Thanks for all the sicknesses I so graciously suffer and should not be suffering at 40. 😷 😖 😠 😡 😣\n"
          ]
        }
      ]
    },
    {
      "cell_type": "code",
      "metadata": {
        "id": "peYMP00W_6nk",
        "colab": {
          "base_uri": "https://localhost:8080/"
        },
        "outputId": "25a60a35-1f93-4534-dc08-00e829624bfb"
      },
      "source": [
        "import numpy as np\n",
        "import emoji, json\n",
        "from torchmoji.global_variables import PRETRAINED_PATH, VOCAB_PATH\n",
        "from torchmoji.sentence_tokenizer import SentenceTokenizer\n",
        "from torchmoji.model_def import torchmoji_emojis\n",
        "  \n",
        "EMOJIS = \":joy: :unamused: :weary: :sob: :heart_eyes: :pensive: :ok_hand: :blush: :heart: :smirk: :grin: :notes: :flushed: :100: :sleeping: :relieved: :relaxed: :raised_hands: :two_hearts: :expressionless: :sweat_smile: :pray: :confused: :kissing_heart: :heartbeat: :neutral_face: :information_desk_person: :disappointed: :see_no_evil: :tired_face: :v: :sunglasses: :rage: :thumbsup: :cry: :sleepy: :yum: :triumph: :hand: :mask: :clap: :eyes: :gun: :persevere: :smiling_imp: :sweat: :broken_heart: :yellow_heart: :musical_note: :speak_no_evil: :wink: :skull: :confounded: :smile: :stuck_out_tongue_winking_eye: :angry: :no_good: :muscle: :facepunch: :purple_heart: :sparkling_heart: :blue_heart: :grimacing: :sparkles:\".split(' ')\n",
        "model = torchmoji_emojis(PRETRAINED_PATH)\n",
        "with open(VOCAB_PATH, 'r') as f:\n",
        "  vocabulary = json.load(f)\n",
        "st = SentenceTokenizer(vocabulary, 30)\n",
        "\n",
        "def deepmojify(sentence,top_n =5):\n",
        "  def top_elements(array, k):\n",
        "    ind = np.argpartition(array, -k)[-k:]\n",
        "    return ind[np.argsort(array[ind])][::-1]\n",
        "\n",
        "  tokenized, _, _ = st.tokenize_sentences([sentence])\n",
        "  prob = model(tokenized)[0]\n",
        "  emoji_ids = top_elements(prob, top_n)\n",
        "  emojis = map(lambda x: EMOJIS[x], emoji_ids)\n",
        "  return emoji.emojize(f\"{sentence} {' '.join(emojis)}\", use_aliases=True)"
      ],
      "execution_count": 7,
      "outputs": [
        {
          "output_type": "stream",
          "name": "stderr",
          "text": [
            "/content/torchMoji/torchmoji/model_def.py:163: UserWarning: nn.init.uniform is now deprecated in favor of nn.init.uniform_.\n",
            "  nn.init.uniform(self.embed.weight.data, a=-0.5, b=0.5)\n",
            "/content/torchMoji/torchmoji/model_def.py:165: UserWarning: nn.init.xavier_uniform is now deprecated in favor of nn.init.xavier_uniform_.\n",
            "  nn.init.xavier_uniform(t)\n",
            "/content/torchMoji/torchmoji/model_def.py:167: UserWarning: nn.init.orthogonal is now deprecated in favor of nn.init.orthogonal_.\n",
            "  nn.init.orthogonal(t)\n",
            "/content/torchMoji/torchmoji/model_def.py:169: UserWarning: nn.init.constant is now deprecated in favor of nn.init.constant_.\n",
            "  nn.init.constant(t, 0)\n",
            "/content/torchMoji/torchmoji/model_def.py:171: UserWarning: nn.init.xavier_uniform is now deprecated in favor of nn.init.xavier_uniform_.\n",
            "  nn.init.xavier_uniform(self.output_layer[0].weight.data)\n"
          ]
        },
        {
          "output_type": "stream",
          "name": "stdout",
          "text": [
            "weight path is: \n",
            "/content/torchMoji/model/pytorch_model.bin\n",
            "return attention is: \n",
            "False\n"
          ]
        }
      ]
    },
    {
      "cell_type": "code",
      "metadata": {
        "id": "MkRF-2LzCMxI",
        "colab": {
          "base_uri": "https://localhost:8080/",
          "height": 126
        },
        "outputId": "a6ab5baf-4abe-4ed7-ac93-dff534c88857"
      },
      "source": [
        "deepmojify(sentence, top_n = 5)"
      ],
      "execution_count": 8,
      "outputs": [
        {
          "output_type": "stream",
          "name": "stderr",
          "text": [
            "/usr/local/lib/python3.7/dist-packages/torch/nn/functional.py:1795: UserWarning: nn.functional.tanh is deprecated. Use torch.tanh instead.\n",
            "  warnings.warn(\"nn.functional.tanh is deprecated. Use torch.tanh instead.\")\n",
            "/usr/local/lib/python3.7/dist-packages/torch/nn/modules/container.py:141: UserWarning: Implicit dimension choice for softmax has been deprecated. Change the call to include dim=X as an argument.\n",
            "  input = module(input)\n"
          ]
        },
        {
          "output_type": "execute_result",
          "data": {
            "text/plain": [
              "'Being a mom with an autoimmune disease means I am a grown ass woman that caught hand, foot, and mouth from my daughter. My Hashimotos sucks. Thanks for all the sicknesses I so graciously suffer and should not be suffering at 40. 😷 😖 😠 😣 😡'"
            ],
            "application/vnd.google.colaboratory.intrinsic+json": {
              "type": "string"
            }
          },
          "metadata": {},
          "execution_count": 8
        }
      ]
    },
    {
      "cell_type": "code",
      "source": [
        "tokenized, _, _ = st.tokenize_sentences([sentence])\n",
        "model(tokenized)[0]"
      ],
      "metadata": {
        "id": "tZH9ANt1hk0j"
      },
      "execution_count": null,
      "outputs": []
    }
  ]
}
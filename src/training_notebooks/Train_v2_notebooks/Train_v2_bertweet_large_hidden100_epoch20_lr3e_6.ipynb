{
  "nbformat": 4,
  "nbformat_minor": 0,
  "metadata": {
    "colab": {
      "name": "Hybridtrain_v1_bertweet_large_hidden100_epoch20_lr3e_6.ipynb",
      "provenance": [],
      "collapsed_sections": [],
      "machine_shape": "hm"
    },
    "kernelspec": {
      "name": "python3",
      "display_name": "Python 3"
    },
    "accelerator": "GPU"
  },
  "cells": [
    {
      "cell_type": "markdown",
      "source": [
        "# BERTweet fine-tuned + Torchmoji fusion classifier for sarcasm detection\n",
        "\n",
        "Based on the notebook: https://chriskhanhtran.github.io/_posts/2019-12-25-bert-for-sentiment-analysis/"
      ],
      "metadata": {
        "id": "bIffiNzWb22r"
      }
    },
    {
      "cell_type": "markdown",
      "source": [
        "# Installs"
      ],
      "metadata": {
        "id": "6mhPadkqcpXd"
      }
    },
    {
      "cell_type": "code",
      "source": [
        "!pip install transformers\n",
        "!pip install emoji==0.6.0\n",
        "!pip install numpy==1.21.5\n",
        "!pip install torch==1.10.0+cu111 torchvision==0.11.0+cu111 torchaudio==0.10.0 -f https://download.pytorch.org/whl/torch_stable.html\n",
        "!pip install scipy==1.5.2"
      ],
      "metadata": {
        "colab": {
          "base_uri": "https://localhost:8080/"
        },
        "id": "tHNV0tLpbuYS",
        "outputId": "69e78905-9796-4c2b-ded7-40372d9e1c8d"
      },
      "execution_count": 1,
      "outputs": [
        {
          "output_type": "stream",
          "name": "stdout",
          "text": [
            "Requirement already satisfied: transformers in /usr/local/lib/python3.7/dist-packages (4.18.0)\n",
            "Requirement already satisfied: sacremoses in /usr/local/lib/python3.7/dist-packages (from transformers) (0.0.49)\n",
            "Requirement already satisfied: huggingface-hub<1.0,>=0.1.0 in /usr/local/lib/python3.7/dist-packages (from transformers) (0.5.1)\n",
            "Requirement already satisfied: numpy>=1.17 in /usr/local/lib/python3.7/dist-packages (from transformers) (1.21.5)\n",
            "Requirement already satisfied: tqdm>=4.27 in /usr/local/lib/python3.7/dist-packages (from transformers) (4.64.0)\n",
            "Requirement already satisfied: filelock in /usr/local/lib/python3.7/dist-packages (from transformers) (3.6.0)\n",
            "Requirement already satisfied: tokenizers!=0.11.3,<0.13,>=0.11.1 in /usr/local/lib/python3.7/dist-packages (from transformers) (0.12.1)\n",
            "Requirement already satisfied: pyyaml>=5.1 in /usr/local/lib/python3.7/dist-packages (from transformers) (6.0)\n",
            "Requirement already satisfied: importlib-metadata in /usr/local/lib/python3.7/dist-packages (from transformers) (4.11.3)\n",
            "Requirement already satisfied: packaging>=20.0 in /usr/local/lib/python3.7/dist-packages (from transformers) (21.3)\n",
            "Requirement already satisfied: regex!=2019.12.17 in /usr/local/lib/python3.7/dist-packages (from transformers) (2019.12.20)\n",
            "Requirement already satisfied: requests in /usr/local/lib/python3.7/dist-packages (from transformers) (2.23.0)\n",
            "Requirement already satisfied: typing-extensions>=3.7.4.3 in /usr/local/lib/python3.7/dist-packages (from huggingface-hub<1.0,>=0.1.0->transformers) (4.2.0)\n",
            "Requirement already satisfied: pyparsing!=3.0.5,>=2.0.2 in /usr/local/lib/python3.7/dist-packages (from packaging>=20.0->transformers) (3.0.8)\n",
            "Requirement already satisfied: zipp>=0.5 in /usr/local/lib/python3.7/dist-packages (from importlib-metadata->transformers) (3.8.0)\n",
            "Requirement already satisfied: idna<3,>=2.5 in /usr/local/lib/python3.7/dist-packages (from requests->transformers) (2.10)\n",
            "Requirement already satisfied: chardet<4,>=3.0.2 in /usr/local/lib/python3.7/dist-packages (from requests->transformers) (3.0.4)\n",
            "Requirement already satisfied: urllib3!=1.25.0,!=1.25.1,<1.26,>=1.21.1 in /usr/local/lib/python3.7/dist-packages (from requests->transformers) (1.24.3)\n",
            "Requirement already satisfied: certifi>=2017.4.17 in /usr/local/lib/python3.7/dist-packages (from requests->transformers) (2021.10.8)\n",
            "Requirement already satisfied: joblib in /usr/local/lib/python3.7/dist-packages (from sacremoses->transformers) (1.1.0)\n",
            "Requirement already satisfied: six in /usr/local/lib/python3.7/dist-packages (from sacremoses->transformers) (1.15.0)\n",
            "Requirement already satisfied: click in /usr/local/lib/python3.7/dist-packages (from sacremoses->transformers) (7.1.2)\n",
            "Requirement already satisfied: emoji==0.6.0 in /usr/local/lib/python3.7/dist-packages (0.6.0)\n",
            "Requirement already satisfied: numpy==1.21.5 in /usr/local/lib/python3.7/dist-packages (1.21.5)\n",
            "Looking in links: https://download.pytorch.org/whl/torch_stable.html\n",
            "Requirement already satisfied: torch==1.10.0+cu111 in /usr/local/lib/python3.7/dist-packages (1.10.0+cu111)\n",
            "Requirement already satisfied: torchvision==0.11.0+cu111 in /usr/local/lib/python3.7/dist-packages (0.11.0+cu111)\n",
            "Requirement already satisfied: torchaudio==0.10.0 in /usr/local/lib/python3.7/dist-packages (0.10.0+rocm4.1)\n",
            "Requirement already satisfied: typing-extensions in /usr/local/lib/python3.7/dist-packages (from torch==1.10.0+cu111) (4.2.0)\n",
            "Requirement already satisfied: numpy in /usr/local/lib/python3.7/dist-packages (from torchvision==0.11.0+cu111) (1.21.5)\n",
            "Requirement already satisfied: pillow!=8.3.0,>=5.3.0 in /usr/local/lib/python3.7/dist-packages (from torchvision==0.11.0+cu111) (7.1.2)\n",
            "Requirement already satisfied: scipy==1.5.2 in /usr/local/lib/python3.7/dist-packages (1.5.2)\n",
            "Requirement already satisfied: numpy>=1.14.5 in /usr/local/lib/python3.7/dist-packages (from scipy==1.5.2) (1.21.5)\n"
          ]
        }
      ]
    },
    {
      "cell_type": "markdown",
      "source": [
        "# **Restart the runtime after installs!**"
      ],
      "metadata": {
        "id": "gii2Cl3YraPD"
      }
    },
    {
      "cell_type": "markdown",
      "source": [
        "# Clone torchmoji repo\n",
        "This is a modified version of the original Torchmoji that works with pytorch 1.10. I forked this to my github in case the modder removes it.\n",
        "\n",
        "original: https://github.com/huggingface/torchMoji\n",
        "modded: https://github.com/cw75/torchMoji"
      ],
      "metadata": {
        "id": "pgK64YD7hkPf"
      }
    },
    {
      "cell_type": "code",
      "source": [
        "!git clone https://github.com/droesler/torchMoji"
      ],
      "metadata": {
        "colab": {
          "base_uri": "https://localhost:8080/"
        },
        "id": "07_r0JnYhGWT",
        "outputId": "03dcbfe3-396c-4eb7-dada-2ff64e40a1f3"
      },
      "execution_count": 6,
      "outputs": [
        {
          "output_type": "stream",
          "name": "stdout",
          "text": [
            "fatal: destination path 'torchMoji' already exists and is not an empty directory.\n"
          ]
        }
      ]
    },
    {
      "cell_type": "code",
      "source": [
        "# change to torchMoji directory to run scripts from\n",
        "import os\n",
        "os.chdir('torchMoji')"
      ],
      "metadata": {
        "id": "bWUWB_eILO1I"
      },
      "execution_count": 1,
      "outputs": []
    },
    {
      "cell_type": "markdown",
      "source": [
        "# Download torchmoji pre-trained weights (Type 'y' when prompted)\n",
        "These are the original huggingface pre-trained weights"
      ],
      "metadata": {
        "id": "b_Ug9u8lhUN7"
      }
    },
    {
      "cell_type": "code",
      "source": [
        "!python3 scripts/download_weights.py"
      ],
      "metadata": {
        "colab": {
          "base_uri": "https://localhost:8080/"
        },
        "id": "6r4ZHeH9hSoN",
        "outputId": "994acc49-68f4-418a-aeee-eea2dd252c83"
      },
      "execution_count": 2,
      "outputs": [
        {
          "output_type": "stream",
          "name": "stdout",
          "text": [
            "Weight file already exists at model/pytorch_model.bin. Would you like to redownload it anyway? [y/n]\n",
            "n\n",
            "Exiting.\n"
          ]
        }
      ]
    },
    {
      "cell_type": "markdown",
      "source": [
        "# Imports"
      ],
      "metadata": {
        "id": "ROwDbjkKhsnf"
      }
    },
    {
      "cell_type": "code",
      "metadata": {
        "id": "a7BiHWYaihMK"
      },
      "source": [
        "from tqdm import tqdm\n",
        "import numpy as np\n",
        "import pandas as pd\n",
        "import matplotlib.pyplot as plt\n",
        "import torch\n",
        "import random\n",
        "import time\n",
        "import torch\n",
        "import torch.nn as nn\n",
        "import torch.nn.functional as F\n",
        "\n",
        "import emoji\n",
        "import json\n",
        "from torchmoji.global_variables import PRETRAINED_PATH, VOCAB_PATH\n",
        "from torchmoji.sentence_tokenizer import SentenceTokenizer\n",
        "from torchmoji.model_def import torchmoji_emojis  # for emoji probability representations\n",
        "from torchmoji.model_def import torchmoji_feature_encoding # for affective feature representations\n",
        "\n",
        "from transformers import AutoModel, AutoTokenizer\n",
        "from transformers import AdamW, get_linear_schedule_with_warmup\n",
        "%matplotlib inline"
      ],
      "execution_count": 2,
      "outputs": []
    },
    {
      "cell_type": "markdown",
      "source": [
        "# Check GPU for reproducibility"
      ],
      "metadata": {
        "id": "DHT5XWKjbcr9"
      }
    },
    {
      "cell_type": "code",
      "metadata": {
        "colab": {
          "base_uri": "https://localhost:8080/"
        },
        "id": "1VOf1V1ijWYs",
        "outputId": "2fb03b5f-9310-4d6b-8b38-e787ee692740"
      },
      "source": [
        "# setup GPU\n",
        "if torch.cuda.is_available():       \n",
        "    device = torch.device(\"cuda\")\n",
        "    print(f'There are {torch.cuda.device_count()} GPU(s) available.')\n",
        "    print('Device name:', torch.cuda.get_device_name(0))\n",
        "\n",
        "else:\n",
        "    print('No GPU available, using the CPU instead.')\n",
        "    device = torch.device(\"cpu\")"
      ],
      "execution_count": 3,
      "outputs": [
        {
          "output_type": "stream",
          "name": "stdout",
          "text": [
            "There are 1 GPU(s) available.\n",
            "Device name: Tesla P100-PCIE-16GB\n"
          ]
        }
      ]
    },
    {
      "cell_type": "markdown",
      "source": [
        "# Load dataset"
      ],
      "metadata": {
        "id": "dOWFeUqJg30O"
      }
    },
    {
      "cell_type": "code",
      "source": [
        "training_data = pd.read_csv('/content/balanced_train_En.csv')\n",
        "training_data"
      ],
      "metadata": {
        "colab": {
          "base_uri": "https://localhost:8080/",
          "height": 423
        },
        "id": "K8qoU-0TRZW3",
        "outputId": "d3fe0529-ba12-4bfa-b081-73f3a7c4fdbc"
      },
      "execution_count": 4,
      "outputs": [
        {
          "output_type": "execute_result",
          "data": {
            "text/plain": [
              "      Unnamed: 0  Unnamed: 0.1  \\\n",
              "0            341           341   \n",
              "1            138           138   \n",
              "2            241           241   \n",
              "3           1359          1359   \n",
              "4            588           588   \n",
              "...          ...           ...   \n",
              "1557        1635          1635   \n",
              "1558        2306          2306   \n",
              "1559        3149          3149   \n",
              "1560        1153          1153   \n",
              "1561        1061          1061   \n",
              "\n",
              "                                                  tweet  sarcastic  \\\n",
              "0                          @Dancruz07 Sureeeeeee you do          1   \n",
              "1     @BoardroomBoy Few links for you. To summarise,...          1   \n",
              "2     #bbcqt It sure would be nice if Ms May decided...          1   \n",
              "3     Someone in Walmart asked my mom if I was a boy...          0   \n",
              "4     Being a mom with an autoimmune disease means I...          1   \n",
              "...                                                 ...        ...   \n",
              "1557  i was so bored today that i let my computer re...          0   \n",
              "1558  It is midnight. On a Thursday. My roommates de...          0   \n",
              "1559  when i was taken off anesthesia today, i told ...          0   \n",
              "1560  @savingfilm @_celia_bedelia_ I have zero tampo...          0   \n",
              "1561  people in london are always asking me for dire...          0   \n",
              "\n",
              "                                               rephrase  sarcasm  irony  \\\n",
              "0     I could've replied \"You do not despise me, you...      1.0    0.0   \n",
              "1                 I would omit the \"who'da thunk\" part.      1.0    0.0   \n",
              "2        Theresa May just needs to answer the question.      1.0    0.0   \n",
              "3                                                   NaN      NaN    NaN   \n",
              "4     I wouldn't because sarcasm is the only weapon ...      1.0    0.0   \n",
              "...                                                 ...      ...    ...   \n",
              "1557                                                NaN      NaN    NaN   \n",
              "1558                                                NaN      NaN    NaN   \n",
              "1559                                                NaN      NaN    NaN   \n",
              "1560                                                NaN      NaN    NaN   \n",
              "1561                                                NaN      NaN    NaN   \n",
              "\n",
              "      satire  understatement  overstatement  rhetorical_question  \n",
              "0        0.0             0.0            0.0                  0.0  \n",
              "1        0.0             0.0            0.0                  1.0  \n",
              "2        0.0             0.0            0.0                  0.0  \n",
              "3        NaN             NaN            NaN                  NaN  \n",
              "4        0.0             0.0            0.0                  0.0  \n",
              "...      ...             ...            ...                  ...  \n",
              "1557     NaN             NaN            NaN                  NaN  \n",
              "1558     NaN             NaN            NaN                  NaN  \n",
              "1559     NaN             NaN            NaN                  NaN  \n",
              "1560     NaN             NaN            NaN                  NaN  \n",
              "1561     NaN             NaN            NaN                  NaN  \n",
              "\n",
              "[1562 rows x 11 columns]"
            ],
            "text/html": [
              "\n",
              "  <div id=\"df-e22eef8c-a48c-4fea-bd4c-b332bca03160\">\n",
              "    <div class=\"colab-df-container\">\n",
              "      <div>\n",
              "<style scoped>\n",
              "    .dataframe tbody tr th:only-of-type {\n",
              "        vertical-align: middle;\n",
              "    }\n",
              "\n",
              "    .dataframe tbody tr th {\n",
              "        vertical-align: top;\n",
              "    }\n",
              "\n",
              "    .dataframe thead th {\n",
              "        text-align: right;\n",
              "    }\n",
              "</style>\n",
              "<table border=\"1\" class=\"dataframe\">\n",
              "  <thead>\n",
              "    <tr style=\"text-align: right;\">\n",
              "      <th></th>\n",
              "      <th>Unnamed: 0</th>\n",
              "      <th>Unnamed: 0.1</th>\n",
              "      <th>tweet</th>\n",
              "      <th>sarcastic</th>\n",
              "      <th>rephrase</th>\n",
              "      <th>sarcasm</th>\n",
              "      <th>irony</th>\n",
              "      <th>satire</th>\n",
              "      <th>understatement</th>\n",
              "      <th>overstatement</th>\n",
              "      <th>rhetorical_question</th>\n",
              "    </tr>\n",
              "  </thead>\n",
              "  <tbody>\n",
              "    <tr>\n",
              "      <th>0</th>\n",
              "      <td>341</td>\n",
              "      <td>341</td>\n",
              "      <td>@Dancruz07 Sureeeeeee you do</td>\n",
              "      <td>1</td>\n",
              "      <td>I could've replied \"You do not despise me, you...</td>\n",
              "      <td>1.0</td>\n",
              "      <td>0.0</td>\n",
              "      <td>0.0</td>\n",
              "      <td>0.0</td>\n",
              "      <td>0.0</td>\n",
              "      <td>0.0</td>\n",
              "    </tr>\n",
              "    <tr>\n",
              "      <th>1</th>\n",
              "      <td>138</td>\n",
              "      <td>138</td>\n",
              "      <td>@BoardroomBoy Few links for you. To summarise,...</td>\n",
              "      <td>1</td>\n",
              "      <td>I would omit the \"who'da thunk\" part.</td>\n",
              "      <td>1.0</td>\n",
              "      <td>0.0</td>\n",
              "      <td>0.0</td>\n",
              "      <td>0.0</td>\n",
              "      <td>0.0</td>\n",
              "      <td>1.0</td>\n",
              "    </tr>\n",
              "    <tr>\n",
              "      <th>2</th>\n",
              "      <td>241</td>\n",
              "      <td>241</td>\n",
              "      <td>#bbcqt It sure would be nice if Ms May decided...</td>\n",
              "      <td>1</td>\n",
              "      <td>Theresa May just needs to answer the question.</td>\n",
              "      <td>1.0</td>\n",
              "      <td>0.0</td>\n",
              "      <td>0.0</td>\n",
              "      <td>0.0</td>\n",
              "      <td>0.0</td>\n",
              "      <td>0.0</td>\n",
              "    </tr>\n",
              "    <tr>\n",
              "      <th>3</th>\n",
              "      <td>1359</td>\n",
              "      <td>1359</td>\n",
              "      <td>Someone in Walmart asked my mom if I was a boy...</td>\n",
              "      <td>0</td>\n",
              "      <td>NaN</td>\n",
              "      <td>NaN</td>\n",
              "      <td>NaN</td>\n",
              "      <td>NaN</td>\n",
              "      <td>NaN</td>\n",
              "      <td>NaN</td>\n",
              "      <td>NaN</td>\n",
              "    </tr>\n",
              "    <tr>\n",
              "      <th>4</th>\n",
              "      <td>588</td>\n",
              "      <td>588</td>\n",
              "      <td>Being a mom with an autoimmune disease means I...</td>\n",
              "      <td>1</td>\n",
              "      <td>I wouldn't because sarcasm is the only weapon ...</td>\n",
              "      <td>1.0</td>\n",
              "      <td>0.0</td>\n",
              "      <td>0.0</td>\n",
              "      <td>0.0</td>\n",
              "      <td>0.0</td>\n",
              "      <td>0.0</td>\n",
              "    </tr>\n",
              "    <tr>\n",
              "      <th>...</th>\n",
              "      <td>...</td>\n",
              "      <td>...</td>\n",
              "      <td>...</td>\n",
              "      <td>...</td>\n",
              "      <td>...</td>\n",
              "      <td>...</td>\n",
              "      <td>...</td>\n",
              "      <td>...</td>\n",
              "      <td>...</td>\n",
              "      <td>...</td>\n",
              "      <td>...</td>\n",
              "    </tr>\n",
              "    <tr>\n",
              "      <th>1557</th>\n",
              "      <td>1635</td>\n",
              "      <td>1635</td>\n",
              "      <td>i was so bored today that i let my computer re...</td>\n",
              "      <td>0</td>\n",
              "      <td>NaN</td>\n",
              "      <td>NaN</td>\n",
              "      <td>NaN</td>\n",
              "      <td>NaN</td>\n",
              "      <td>NaN</td>\n",
              "      <td>NaN</td>\n",
              "      <td>NaN</td>\n",
              "    </tr>\n",
              "    <tr>\n",
              "      <th>1558</th>\n",
              "      <td>2306</td>\n",
              "      <td>2306</td>\n",
              "      <td>It is midnight. On a Thursday. My roommates de...</td>\n",
              "      <td>0</td>\n",
              "      <td>NaN</td>\n",
              "      <td>NaN</td>\n",
              "      <td>NaN</td>\n",
              "      <td>NaN</td>\n",
              "      <td>NaN</td>\n",
              "      <td>NaN</td>\n",
              "      <td>NaN</td>\n",
              "    </tr>\n",
              "    <tr>\n",
              "      <th>1559</th>\n",
              "      <td>3149</td>\n",
              "      <td>3149</td>\n",
              "      <td>when i was taken off anesthesia today, i told ...</td>\n",
              "      <td>0</td>\n",
              "      <td>NaN</td>\n",
              "      <td>NaN</td>\n",
              "      <td>NaN</td>\n",
              "      <td>NaN</td>\n",
              "      <td>NaN</td>\n",
              "      <td>NaN</td>\n",
              "      <td>NaN</td>\n",
              "    </tr>\n",
              "    <tr>\n",
              "      <th>1560</th>\n",
              "      <td>1153</td>\n",
              "      <td>1153</td>\n",
              "      <td>@savingfilm @_celia_bedelia_ I have zero tampo...</td>\n",
              "      <td>0</td>\n",
              "      <td>NaN</td>\n",
              "      <td>NaN</td>\n",
              "      <td>NaN</td>\n",
              "      <td>NaN</td>\n",
              "      <td>NaN</td>\n",
              "      <td>NaN</td>\n",
              "      <td>NaN</td>\n",
              "    </tr>\n",
              "    <tr>\n",
              "      <th>1561</th>\n",
              "      <td>1061</td>\n",
              "      <td>1061</td>\n",
              "      <td>people in london are always asking me for dire...</td>\n",
              "      <td>0</td>\n",
              "      <td>NaN</td>\n",
              "      <td>NaN</td>\n",
              "      <td>NaN</td>\n",
              "      <td>NaN</td>\n",
              "      <td>NaN</td>\n",
              "      <td>NaN</td>\n",
              "      <td>NaN</td>\n",
              "    </tr>\n",
              "  </tbody>\n",
              "</table>\n",
              "<p>1562 rows × 11 columns</p>\n",
              "</div>\n",
              "      <button class=\"colab-df-convert\" onclick=\"convertToInteractive('df-e22eef8c-a48c-4fea-bd4c-b332bca03160')\"\n",
              "              title=\"Convert this dataframe to an interactive table.\"\n",
              "              style=\"display:none;\">\n",
              "        \n",
              "  <svg xmlns=\"http://www.w3.org/2000/svg\" height=\"24px\"viewBox=\"0 0 24 24\"\n",
              "       width=\"24px\">\n",
              "    <path d=\"M0 0h24v24H0V0z\" fill=\"none\"/>\n",
              "    <path d=\"M18.56 5.44l.94 2.06.94-2.06 2.06-.94-2.06-.94-.94-2.06-.94 2.06-2.06.94zm-11 1L8.5 8.5l.94-2.06 2.06-.94-2.06-.94L8.5 2.5l-.94 2.06-2.06.94zm10 10l.94 2.06.94-2.06 2.06-.94-2.06-.94-.94-2.06-.94 2.06-2.06.94z\"/><path d=\"M17.41 7.96l-1.37-1.37c-.4-.4-.92-.59-1.43-.59-.52 0-1.04.2-1.43.59L10.3 9.45l-7.72 7.72c-.78.78-.78 2.05 0 2.83L4 21.41c.39.39.9.59 1.41.59.51 0 1.02-.2 1.41-.59l7.78-7.78 2.81-2.81c.8-.78.8-2.07 0-2.86zM5.41 20L4 18.59l7.72-7.72 1.47 1.35L5.41 20z\"/>\n",
              "  </svg>\n",
              "      </button>\n",
              "      \n",
              "  <style>\n",
              "    .colab-df-container {\n",
              "      display:flex;\n",
              "      flex-wrap:wrap;\n",
              "      gap: 12px;\n",
              "    }\n",
              "\n",
              "    .colab-df-convert {\n",
              "      background-color: #E8F0FE;\n",
              "      border: none;\n",
              "      border-radius: 50%;\n",
              "      cursor: pointer;\n",
              "      display: none;\n",
              "      fill: #1967D2;\n",
              "      height: 32px;\n",
              "      padding: 0 0 0 0;\n",
              "      width: 32px;\n",
              "    }\n",
              "\n",
              "    .colab-df-convert:hover {\n",
              "      background-color: #E2EBFA;\n",
              "      box-shadow: 0px 1px 2px rgba(60, 64, 67, 0.3), 0px 1px 3px 1px rgba(60, 64, 67, 0.15);\n",
              "      fill: #174EA6;\n",
              "    }\n",
              "\n",
              "    [theme=dark] .colab-df-convert {\n",
              "      background-color: #3B4455;\n",
              "      fill: #D2E3FC;\n",
              "    }\n",
              "\n",
              "    [theme=dark] .colab-df-convert:hover {\n",
              "      background-color: #434B5C;\n",
              "      box-shadow: 0px 1px 3px 1px rgba(0, 0, 0, 0.15);\n",
              "      filter: drop-shadow(0px 1px 2px rgba(0, 0, 0, 0.3));\n",
              "      fill: #FFFFFF;\n",
              "    }\n",
              "  </style>\n",
              "\n",
              "      <script>\n",
              "        const buttonEl =\n",
              "          document.querySelector('#df-e22eef8c-a48c-4fea-bd4c-b332bca03160 button.colab-df-convert');\n",
              "        buttonEl.style.display =\n",
              "          google.colab.kernel.accessAllowed ? 'block' : 'none';\n",
              "\n",
              "        async function convertToInteractive(key) {\n",
              "          const element = document.querySelector('#df-e22eef8c-a48c-4fea-bd4c-b332bca03160');\n",
              "          const dataTable =\n",
              "            await google.colab.kernel.invokeFunction('convertToInteractive',\n",
              "                                                     [key], {});\n",
              "          if (!dataTable) return;\n",
              "\n",
              "          const docLinkHtml = 'Like what you see? Visit the ' +\n",
              "            '<a target=\"_blank\" href=https://colab.research.google.com/notebooks/data_table.ipynb>data table notebook</a>'\n",
              "            + ' to learn more about interactive tables.';\n",
              "          element.innerHTML = '';\n",
              "          dataTable['output_type'] = 'display_data';\n",
              "          await google.colab.output.renderOutput(dataTable, element);\n",
              "          const docLink = document.createElement('div');\n",
              "          docLink.innerHTML = docLinkHtml;\n",
              "          element.appendChild(docLink);\n",
              "        }\n",
              "      </script>\n",
              "    </div>\n",
              "  </div>\n",
              "  "
            ]
          },
          "metadata": {},
          "execution_count": 4
        }
      ]
    },
    {
      "cell_type": "code",
      "source": [
        "validation_data = pd.read_csv('/content/balanced_validation_En.csv')\n",
        "validation_data"
      ],
      "metadata": {
        "colab": {
          "base_uri": "https://localhost:8080/",
          "height": 423
        },
        "id": "GB5iColL4hTw",
        "outputId": "9b5af751-de35-4f0e-847f-a43b5730d838"
      },
      "execution_count": 5,
      "outputs": [
        {
          "output_type": "execute_result",
          "data": {
            "text/plain": [
              "     Unnamed: 0  Unnamed: 0.1  \\\n",
              "0          2708          2708   \n",
              "1          3416          3416   \n",
              "2          3254          3254   \n",
              "3           293           293   \n",
              "4             1             1   \n",
              "..          ...           ...   \n",
              "167         656           656   \n",
              "168        1653          1653   \n",
              "169        3074          3074   \n",
              "170          43            43   \n",
              "171        2235          2235   \n",
              "\n",
              "                                                 tweet  sarcastic  \\\n",
              "0    The meaning behind Little Talks - @monstersand...          0   \n",
              "1    Kyle is out of town so i made a baked ziti and...          0   \n",
              "2         Applying for jobs is so weird and feels fake          0   \n",
              "3    @lora__ SHOCKED. How am I supposed to tell the...          1   \n",
              "4    I love it when professors draw a big question ...          1   \n",
              "..                                                 ...        ...   \n",
              "167                                   Is spunk a slur?          1   \n",
              "168  OH MY GOD I AM IN LOVE WITH MY FIANCÉ. https:/...          0   \n",
              "169                 Just get yer jab and shut yer moof          0   \n",
              "170  I suppose though, we did sign one for the futu...          1   \n",
              "171  i know i’m going through it when i can’t even ...          0   \n",
              "\n",
              "                                              rephrase  sarcasm  irony  \\\n",
              "0                                                  NaN      NaN    NaN   \n",
              "1                                                  NaN      NaN    NaN   \n",
              "2                                                  NaN      NaN    NaN   \n",
              "3    These people were aware of the risks when they...      1.0    0.0   \n",
              "4    I do not like when professors don’t write out ...      1.0    0.0   \n",
              "..                                                 ...      ...    ...   \n",
              "167  I am worried that I may have used a slur by sa...      0.0    1.0   \n",
              "168                                                NaN      NaN    NaN   \n",
              "169                                                NaN      NaN    NaN   \n",
              "170  I wish we could have signed a player for the f...      1.0    0.0   \n",
              "171                                                NaN      NaN    NaN   \n",
              "\n",
              "     satire  understatement  overstatement  rhetorical_question  \n",
              "0       NaN             NaN            NaN                  NaN  \n",
              "1       NaN             NaN            NaN                  NaN  \n",
              "2       NaN             NaN            NaN                  NaN  \n",
              "3       0.0             0.0            0.0                  0.0  \n",
              "4       0.0             0.0            0.0                  0.0  \n",
              "..      ...             ...            ...                  ...  \n",
              "167     0.0             0.0            0.0                  1.0  \n",
              "168     NaN             NaN            NaN                  NaN  \n",
              "169     NaN             NaN            NaN                  NaN  \n",
              "170     0.0             1.0            0.0                  0.0  \n",
              "171     NaN             NaN            NaN                  NaN  \n",
              "\n",
              "[172 rows x 11 columns]"
            ],
            "text/html": [
              "\n",
              "  <div id=\"df-16f4f158-fabb-40a9-8026-ff6084a03cd3\">\n",
              "    <div class=\"colab-df-container\">\n",
              "      <div>\n",
              "<style scoped>\n",
              "    .dataframe tbody tr th:only-of-type {\n",
              "        vertical-align: middle;\n",
              "    }\n",
              "\n",
              "    .dataframe tbody tr th {\n",
              "        vertical-align: top;\n",
              "    }\n",
              "\n",
              "    .dataframe thead th {\n",
              "        text-align: right;\n",
              "    }\n",
              "</style>\n",
              "<table border=\"1\" class=\"dataframe\">\n",
              "  <thead>\n",
              "    <tr style=\"text-align: right;\">\n",
              "      <th></th>\n",
              "      <th>Unnamed: 0</th>\n",
              "      <th>Unnamed: 0.1</th>\n",
              "      <th>tweet</th>\n",
              "      <th>sarcastic</th>\n",
              "      <th>rephrase</th>\n",
              "      <th>sarcasm</th>\n",
              "      <th>irony</th>\n",
              "      <th>satire</th>\n",
              "      <th>understatement</th>\n",
              "      <th>overstatement</th>\n",
              "      <th>rhetorical_question</th>\n",
              "    </tr>\n",
              "  </thead>\n",
              "  <tbody>\n",
              "    <tr>\n",
              "      <th>0</th>\n",
              "      <td>2708</td>\n",
              "      <td>2708</td>\n",
              "      <td>The meaning behind Little Talks - @monstersand...</td>\n",
              "      <td>0</td>\n",
              "      <td>NaN</td>\n",
              "      <td>NaN</td>\n",
              "      <td>NaN</td>\n",
              "      <td>NaN</td>\n",
              "      <td>NaN</td>\n",
              "      <td>NaN</td>\n",
              "      <td>NaN</td>\n",
              "    </tr>\n",
              "    <tr>\n",
              "      <th>1</th>\n",
              "      <td>3416</td>\n",
              "      <td>3416</td>\n",
              "      <td>Kyle is out of town so i made a baked ziti and...</td>\n",
              "      <td>0</td>\n",
              "      <td>NaN</td>\n",
              "      <td>NaN</td>\n",
              "      <td>NaN</td>\n",
              "      <td>NaN</td>\n",
              "      <td>NaN</td>\n",
              "      <td>NaN</td>\n",
              "      <td>NaN</td>\n",
              "    </tr>\n",
              "    <tr>\n",
              "      <th>2</th>\n",
              "      <td>3254</td>\n",
              "      <td>3254</td>\n",
              "      <td>Applying for jobs is so weird and feels fake</td>\n",
              "      <td>0</td>\n",
              "      <td>NaN</td>\n",
              "      <td>NaN</td>\n",
              "      <td>NaN</td>\n",
              "      <td>NaN</td>\n",
              "      <td>NaN</td>\n",
              "      <td>NaN</td>\n",
              "      <td>NaN</td>\n",
              "    </tr>\n",
              "    <tr>\n",
              "      <th>3</th>\n",
              "      <td>293</td>\n",
              "      <td>293</td>\n",
              "      <td>@lora__ SHOCKED. How am I supposed to tell the...</td>\n",
              "      <td>1</td>\n",
              "      <td>These people were aware of the risks when they...</td>\n",
              "      <td>1.0</td>\n",
              "      <td>0.0</td>\n",
              "      <td>0.0</td>\n",
              "      <td>0.0</td>\n",
              "      <td>0.0</td>\n",
              "      <td>0.0</td>\n",
              "    </tr>\n",
              "    <tr>\n",
              "      <th>4</th>\n",
              "      <td>1</td>\n",
              "      <td>1</td>\n",
              "      <td>I love it when professors draw a big question ...</td>\n",
              "      <td>1</td>\n",
              "      <td>I do not like when professors don’t write out ...</td>\n",
              "      <td>1.0</td>\n",
              "      <td>0.0</td>\n",
              "      <td>0.0</td>\n",
              "      <td>0.0</td>\n",
              "      <td>0.0</td>\n",
              "      <td>0.0</td>\n",
              "    </tr>\n",
              "    <tr>\n",
              "      <th>...</th>\n",
              "      <td>...</td>\n",
              "      <td>...</td>\n",
              "      <td>...</td>\n",
              "      <td>...</td>\n",
              "      <td>...</td>\n",
              "      <td>...</td>\n",
              "      <td>...</td>\n",
              "      <td>...</td>\n",
              "      <td>...</td>\n",
              "      <td>...</td>\n",
              "      <td>...</td>\n",
              "    </tr>\n",
              "    <tr>\n",
              "      <th>167</th>\n",
              "      <td>656</td>\n",
              "      <td>656</td>\n",
              "      <td>Is spunk a slur?</td>\n",
              "      <td>1</td>\n",
              "      <td>I am worried that I may have used a slur by sa...</td>\n",
              "      <td>0.0</td>\n",
              "      <td>1.0</td>\n",
              "      <td>0.0</td>\n",
              "      <td>0.0</td>\n",
              "      <td>0.0</td>\n",
              "      <td>1.0</td>\n",
              "    </tr>\n",
              "    <tr>\n",
              "      <th>168</th>\n",
              "      <td>1653</td>\n",
              "      <td>1653</td>\n",
              "      <td>OH MY GOD I AM IN LOVE WITH MY FIANCÉ. https:/...</td>\n",
              "      <td>0</td>\n",
              "      <td>NaN</td>\n",
              "      <td>NaN</td>\n",
              "      <td>NaN</td>\n",
              "      <td>NaN</td>\n",
              "      <td>NaN</td>\n",
              "      <td>NaN</td>\n",
              "      <td>NaN</td>\n",
              "    </tr>\n",
              "    <tr>\n",
              "      <th>169</th>\n",
              "      <td>3074</td>\n",
              "      <td>3074</td>\n",
              "      <td>Just get yer jab and shut yer moof</td>\n",
              "      <td>0</td>\n",
              "      <td>NaN</td>\n",
              "      <td>NaN</td>\n",
              "      <td>NaN</td>\n",
              "      <td>NaN</td>\n",
              "      <td>NaN</td>\n",
              "      <td>NaN</td>\n",
              "      <td>NaN</td>\n",
              "    </tr>\n",
              "    <tr>\n",
              "      <th>170</th>\n",
              "      <td>43</td>\n",
              "      <td>43</td>\n",
              "      <td>I suppose though, we did sign one for the futu...</td>\n",
              "      <td>1</td>\n",
              "      <td>I wish we could have signed a player for the f...</td>\n",
              "      <td>1.0</td>\n",
              "      <td>0.0</td>\n",
              "      <td>0.0</td>\n",
              "      <td>1.0</td>\n",
              "      <td>0.0</td>\n",
              "      <td>0.0</td>\n",
              "    </tr>\n",
              "    <tr>\n",
              "      <th>171</th>\n",
              "      <td>2235</td>\n",
              "      <td>2235</td>\n",
              "      <td>i know i’m going through it when i can’t even ...</td>\n",
              "      <td>0</td>\n",
              "      <td>NaN</td>\n",
              "      <td>NaN</td>\n",
              "      <td>NaN</td>\n",
              "      <td>NaN</td>\n",
              "      <td>NaN</td>\n",
              "      <td>NaN</td>\n",
              "      <td>NaN</td>\n",
              "    </tr>\n",
              "  </tbody>\n",
              "</table>\n",
              "<p>172 rows × 11 columns</p>\n",
              "</div>\n",
              "      <button class=\"colab-df-convert\" onclick=\"convertToInteractive('df-16f4f158-fabb-40a9-8026-ff6084a03cd3')\"\n",
              "              title=\"Convert this dataframe to an interactive table.\"\n",
              "              style=\"display:none;\">\n",
              "        \n",
              "  <svg xmlns=\"http://www.w3.org/2000/svg\" height=\"24px\"viewBox=\"0 0 24 24\"\n",
              "       width=\"24px\">\n",
              "    <path d=\"M0 0h24v24H0V0z\" fill=\"none\"/>\n",
              "    <path d=\"M18.56 5.44l.94 2.06.94-2.06 2.06-.94-2.06-.94-.94-2.06-.94 2.06-2.06.94zm-11 1L8.5 8.5l.94-2.06 2.06-.94-2.06-.94L8.5 2.5l-.94 2.06-2.06.94zm10 10l.94 2.06.94-2.06 2.06-.94-2.06-.94-.94-2.06-.94 2.06-2.06.94z\"/><path d=\"M17.41 7.96l-1.37-1.37c-.4-.4-.92-.59-1.43-.59-.52 0-1.04.2-1.43.59L10.3 9.45l-7.72 7.72c-.78.78-.78 2.05 0 2.83L4 21.41c.39.39.9.59 1.41.59.51 0 1.02-.2 1.41-.59l7.78-7.78 2.81-2.81c.8-.78.8-2.07 0-2.86zM5.41 20L4 18.59l7.72-7.72 1.47 1.35L5.41 20z\"/>\n",
              "  </svg>\n",
              "      </button>\n",
              "      \n",
              "  <style>\n",
              "    .colab-df-container {\n",
              "      display:flex;\n",
              "      flex-wrap:wrap;\n",
              "      gap: 12px;\n",
              "    }\n",
              "\n",
              "    .colab-df-convert {\n",
              "      background-color: #E8F0FE;\n",
              "      border: none;\n",
              "      border-radius: 50%;\n",
              "      cursor: pointer;\n",
              "      display: none;\n",
              "      fill: #1967D2;\n",
              "      height: 32px;\n",
              "      padding: 0 0 0 0;\n",
              "      width: 32px;\n",
              "    }\n",
              "\n",
              "    .colab-df-convert:hover {\n",
              "      background-color: #E2EBFA;\n",
              "      box-shadow: 0px 1px 2px rgba(60, 64, 67, 0.3), 0px 1px 3px 1px rgba(60, 64, 67, 0.15);\n",
              "      fill: #174EA6;\n",
              "    }\n",
              "\n",
              "    [theme=dark] .colab-df-convert {\n",
              "      background-color: #3B4455;\n",
              "      fill: #D2E3FC;\n",
              "    }\n",
              "\n",
              "    [theme=dark] .colab-df-convert:hover {\n",
              "      background-color: #434B5C;\n",
              "      box-shadow: 0px 1px 3px 1px rgba(0, 0, 0, 0.15);\n",
              "      filter: drop-shadow(0px 1px 2px rgba(0, 0, 0, 0.3));\n",
              "      fill: #FFFFFF;\n",
              "    }\n",
              "  </style>\n",
              "\n",
              "      <script>\n",
              "        const buttonEl =\n",
              "          document.querySelector('#df-16f4f158-fabb-40a9-8026-ff6084a03cd3 button.colab-df-convert');\n",
              "        buttonEl.style.display =\n",
              "          google.colab.kernel.accessAllowed ? 'block' : 'none';\n",
              "\n",
              "        async function convertToInteractive(key) {\n",
              "          const element = document.querySelector('#df-16f4f158-fabb-40a9-8026-ff6084a03cd3');\n",
              "          const dataTable =\n",
              "            await google.colab.kernel.invokeFunction('convertToInteractive',\n",
              "                                                     [key], {});\n",
              "          if (!dataTable) return;\n",
              "\n",
              "          const docLinkHtml = 'Like what you see? Visit the ' +\n",
              "            '<a target=\"_blank\" href=https://colab.research.google.com/notebooks/data_table.ipynb>data table notebook</a>'\n",
              "            + ' to learn more about interactive tables.';\n",
              "          element.innerHTML = '';\n",
              "          dataTable['output_type'] = 'display_data';\n",
              "          await google.colab.output.renderOutput(dataTable, element);\n",
              "          const docLink = document.createElement('div');\n",
              "          docLink.innerHTML = docLinkHtml;\n",
              "          element.appendChild(docLink);\n",
              "        }\n",
              "      </script>\n",
              "    </div>\n",
              "  </div>\n",
              "  "
            ]
          },
          "metadata": {},
          "execution_count": 5
        }
      ]
    },
    {
      "cell_type": "code",
      "source": [
        "# Set label to use in binary classifcation\n",
        "LABEL_TO_CLASSIFY = 'sarcastic'"
      ],
      "metadata": {
        "id": "0ZihzvZICeNA"
      },
      "execution_count": 6,
      "outputs": []
    },
    {
      "cell_type": "code",
      "source": [
        "# Get training and validation input(X) and label(y) sets\n",
        "X_train = training_data['tweet']\n",
        "X_val = validation_data['tweet']\n",
        "\n",
        "# X2 is for Torchmoji inputs, make a deep copy to allow for separate preprocessing\n",
        "X2_train = training_data['tweet'].copy(deep=True)\n",
        "X2_val = validation_data['tweet'].copy(deep=True)\n",
        "\n",
        "\n",
        "y_train = training_data[LABEL_TO_CLASSIFY]\n",
        "y_val = validation_data[LABEL_TO_CLASSIFY]"
      ],
      "metadata": {
        "id": "9d4-Y8FX421y"
      },
      "execution_count": 7,
      "outputs": []
    },
    {
      "cell_type": "markdown",
      "source": [
        "# Pre-process Torchmoji inputs"
      ],
      "metadata": {
        "id": "QMo6FTasna5b"
      }
    },
    {
      "cell_type": "code",
      "source": [
        "# Demo preprocessing\n",
        "print('Original tweet:\\n', X2_train[18], '\\n')\n",
        "print('Preprocessed tweet:\\n', emoji.get_emoji_regexp().sub(r'', X2_train.at[18]))"
      ],
      "metadata": {
        "colab": {
          "base_uri": "https://localhost:8080/"
        },
        "id": "t9CcpK0jvcgM",
        "outputId": "024e17e4-aeef-46b7-e2a8-1a05b20d5eed"
      },
      "execution_count": 8,
      "outputs": [
        {
          "output_type": "stream",
          "name": "stdout",
          "text": [
            "Original tweet:\n",
            " I love drawing feets 👹👹👹\r\n",
            "Must draw more feet 👹✨ \n",
            "\n",
            "Preprocessed tweet:\n",
            " I love drawing feets \n",
            "Must draw more feet \n"
          ]
        }
      ]
    },
    {
      "cell_type": "code",
      "source": [
        "def preprocessing_for_torchmoji(data):\n",
        "  \"\"\"Perform required preprocessing steps for pretrained Torchmoji model.\"\"\"\n",
        "\n",
        "  with open(VOCAB_PATH, 'r') as f:\n",
        "    vocabulary = json.load(f)\n",
        "  st = SentenceTokenizer(vocabulary, 30)\n",
        "\n",
        "  # remove emojis from the torchmoji input\n",
        "  for index, sent in data.iteritems():\n",
        "    data.at[index] = emoji.get_emoji_regexp().sub(r'', sent)\n",
        "\n",
        "  # send to torchmoji tokenizer\n",
        "  tokenized, _, _ = st.tokenize_sentences(data)\n",
        "\n",
        "  # model for affective features - output length is 2304\n",
        "  torchmoji_model = torchmoji_feature_encoding(PRETRAINED_PATH)\n",
        "\n",
        "  torchmoji_outs = torchmoji_model(tokenized)\n",
        "\n",
        "  # convert to tensor\n",
        "  torchmoji_outs = torch.tensor(torchmoji_outs)\n",
        "\n",
        "  return torchmoji_outs"
      ],
      "metadata": {
        "id": "lkULRctgpN2q"
      },
      "execution_count": 9,
      "outputs": []
    },
    {
      "cell_type": "code",
      "source": [
        "# run preprocessing for torchmoji\n",
        "torchmoji_train_inputs = preprocessing_for_torchmoji(X2_train)\n",
        "torchmoji_val_inputs = preprocessing_for_torchmoji(X2_val)"
      ],
      "metadata": {
        "colab": {
          "base_uri": "https://localhost:8080/"
        },
        "id": "73x4Oq5tweAM",
        "outputId": "33d5a06a-13c9-493f-e9d3-0ea7545afe1a"
      },
      "execution_count": 10,
      "outputs": [
        {
          "output_type": "stream",
          "name": "stderr",
          "text": [
            "/content/torchMoji/torchmoji/model_def.py:163: UserWarning: nn.init.uniform is now deprecated in favor of nn.init.uniform_.\n",
            "  nn.init.uniform(self.embed.weight.data, a=-0.5, b=0.5)\n",
            "/content/torchMoji/torchmoji/model_def.py:165: UserWarning: nn.init.xavier_uniform is now deprecated in favor of nn.init.xavier_uniform_.\n",
            "  nn.init.xavier_uniform(t)\n",
            "/content/torchMoji/torchmoji/model_def.py:167: UserWarning: nn.init.orthogonal is now deprecated in favor of nn.init.orthogonal_.\n",
            "  nn.init.orthogonal(t)\n",
            "/content/torchMoji/torchmoji/model_def.py:169: UserWarning: nn.init.constant is now deprecated in favor of nn.init.constant_.\n",
            "  nn.init.constant(t, 0)\n"
          ]
        },
        {
          "output_type": "stream",
          "name": "stdout",
          "text": [
            "Loading weights for embed.weight\n",
            "Loading weights for lstm_0.weight_ih_l0\n",
            "Loading weights for lstm_0.weight_hh_l0\n",
            "Loading weights for lstm_0.bias_ih_l0\n",
            "Loading weights for lstm_0.bias_hh_l0\n",
            "Loading weights for lstm_0.weight_ih_l0_reverse\n",
            "Loading weights for lstm_0.weight_hh_l0_reverse\n",
            "Loading weights for lstm_0.bias_ih_l0_reverse\n",
            "Loading weights for lstm_0.bias_hh_l0_reverse\n",
            "Loading weights for lstm_1.weight_ih_l0\n",
            "Loading weights for lstm_1.weight_hh_l0\n",
            "Loading weights for lstm_1.bias_ih_l0\n",
            "Loading weights for lstm_1.bias_hh_l0\n",
            "Loading weights for lstm_1.weight_ih_l0_reverse\n",
            "Loading weights for lstm_1.weight_hh_l0_reverse\n",
            "Loading weights for lstm_1.bias_ih_l0_reverse\n",
            "Loading weights for lstm_1.bias_hh_l0_reverse\n",
            "Loading weights for attention_layer.attention_vector\n",
            "Ignoring weights for output_layer.0.weight\n",
            "Ignoring weights for output_layer.0.bias\n"
          ]
        },
        {
          "output_type": "stream",
          "name": "stderr",
          "text": [
            "/usr/local/lib/python3.7/dist-packages/torch/nn/functional.py:1795: UserWarning: nn.functional.tanh is deprecated. Use torch.tanh instead.\n",
            "  warnings.warn(\"nn.functional.tanh is deprecated. Use torch.tanh instead.\")\n"
          ]
        },
        {
          "output_type": "stream",
          "name": "stdout",
          "text": [
            "Loading weights for embed.weight\n",
            "Loading weights for lstm_0.weight_ih_l0\n",
            "Loading weights for lstm_0.weight_hh_l0\n",
            "Loading weights for lstm_0.bias_ih_l0\n",
            "Loading weights for lstm_0.bias_hh_l0\n",
            "Loading weights for lstm_0.weight_ih_l0_reverse\n",
            "Loading weights for lstm_0.weight_hh_l0_reverse\n",
            "Loading weights for lstm_0.bias_ih_l0_reverse\n",
            "Loading weights for lstm_0.bias_hh_l0_reverse\n",
            "Loading weights for lstm_1.weight_ih_l0\n",
            "Loading weights for lstm_1.weight_hh_l0\n",
            "Loading weights for lstm_1.bias_ih_l0\n",
            "Loading weights for lstm_1.bias_hh_l0\n",
            "Loading weights for lstm_1.weight_ih_l0_reverse\n",
            "Loading weights for lstm_1.weight_hh_l0_reverse\n",
            "Loading weights for lstm_1.bias_ih_l0_reverse\n",
            "Loading weights for lstm_1.bias_hh_l0_reverse\n",
            "Loading weights for attention_layer.attention_vector\n",
            "Ignoring weights for output_layer.0.weight\n",
            "Ignoring weights for output_layer.0.bias\n"
          ]
        }
      ]
    },
    {
      "cell_type": "code",
      "source": [
        "# check sizes of results\n",
        "torchmoji_train_inputs.shape"
      ],
      "metadata": {
        "colab": {
          "base_uri": "https://localhost:8080/"
        },
        "id": "NKG9UvBFwkSW",
        "outputId": "3ba89aa6-908b-4b51-f4dc-306f5f6bb287"
      },
      "execution_count": 11,
      "outputs": [
        {
          "output_type": "execute_result",
          "data": {
            "text/plain": [
              "torch.Size([1562, 2304])"
            ]
          },
          "metadata": {},
          "execution_count": 11
        }
      ]
    },
    {
      "cell_type": "code",
      "source": [
        "torchmoji_val_inputs.shape"
      ],
      "metadata": {
        "colab": {
          "base_uri": "https://localhost:8080/"
        },
        "id": "b9nglorC9w8H",
        "outputId": "1d8c0966-ad8d-4581-a727-21553ee4e098"
      },
      "execution_count": 12,
      "outputs": [
        {
          "output_type": "execute_result",
          "data": {
            "text/plain": [
              "torch.Size([172, 2304])"
            ]
          },
          "metadata": {},
          "execution_count": 12
        }
      ]
    },
    {
      "cell_type": "markdown",
      "source": [
        "# Define BERTweet preprocessing\n",
        "BERTweet-large does not have pre-processing built into its huggingface tokenizer, so we have to do it ourselves here. This code is from: https://github.com/VinAIResearch/BERTweet/blob/master/TweetNormalizer.py"
      ],
      "metadata": {
        "id": "6tcmVxBFeM3L"
      }
    },
    {
      "cell_type": "code",
      "source": [
        "# Define preprocessing function for BERTweet-large (not needed for base version)\n",
        "\n",
        "from nltk.tokenize import TweetTokenizer\n",
        "from emoji import demojize\n",
        "\n",
        "bertweet_preprocessing_tokenizer = TweetTokenizer()\n",
        "\n",
        "def normalizeToken(token):\n",
        "    lowercased_token = token.lower()\n",
        "    if token.startswith(\"@\"):\n",
        "        return \"@USER\"\n",
        "    elif lowercased_token.startswith(\"http\") or lowercased_token.startswith(\"www\"):\n",
        "        return \"HTTPURL\"\n",
        "    elif len(token) == 1:\n",
        "        return demojize(token)\n",
        "    else:\n",
        "        if token == \"’\":\n",
        "            return \"'\"\n",
        "        elif token == \"…\":\n",
        "            return \"...\"\n",
        "        else:\n",
        "            return token\n",
        "\n",
        "def normalizeTweet(tweet):\n",
        "    tokens = bertweet_preprocessing_tokenizer.tokenize(tweet.replace(\"’\", \"'\").replace(\"…\", \"...\"))\n",
        "    normTweet = \" \".join([normalizeToken(token) for token in tokens])\n",
        "\n",
        "    normTweet = (\n",
        "        normTweet.replace(\"cannot \", \"can not \")\n",
        "        .replace(\"n't \", \" n't \")\n",
        "        .replace(\"n 't \", \" n't \")\n",
        "        .replace(\"ca n't\", \"can't\")\n",
        "        .replace(\"ai n't\", \"ain't\")\n",
        "    )\n",
        "    normTweet = (\n",
        "        normTweet.replace(\"'m \", \" 'm \")\n",
        "        .replace(\"'re \", \" 're \")\n",
        "        .replace(\"'s \", \" 's \")\n",
        "        .replace(\"'ll \", \" 'll \")\n",
        "        .replace(\"'d \", \" 'd \")\n",
        "        .replace(\"'ve \", \" 've \")\n",
        "    )\n",
        "    normTweet = (\n",
        "        normTweet.replace(\" p . m .\", \"  p.m.\")\n",
        "        .replace(\" p . m \", \" p.m \")\n",
        "        .replace(\" a . m .\", \" a.m.\")\n",
        "        .replace(\" a . m \", \" a.m \")\n",
        "    )\n",
        "\n",
        "    return \" \".join(normTweet.split())"
      ],
      "metadata": {
        "id": "jgoIsywMbSeg"
      },
      "execution_count": 13,
      "outputs": []
    },
    {
      "cell_type": "markdown",
      "source": [
        "# Tokenize the BERTweet inputs\n",
        "Normalization is set to false because we are doing it using the 'normalizeTweet' function above."
      ],
      "metadata": {
        "id": "Y-F3UyPG9dvJ"
      }
    },
    {
      "cell_type": "code",
      "metadata": {
        "id": "2FOnxtpPkxWt"
      },
      "source": [
        "# Load the tokenizer\n",
        "tokenizer = AutoTokenizer.from_pretrained(\"vinai/bertweet-large\", normalization=False, use_fast=False)\n",
        "\n",
        "# Define function to do BERT family preprocessing\n",
        "def preprocessing_for_bert(data):\n",
        "    \"\"\"Perform required preprocessing steps for pretrained BERT.\n",
        "    @param    data (np.array): Array of texts to be processed.\n",
        "    @return   input_ids (torch.Tensor): Tensor of token ids to be fed to a model.\n",
        "    @return   attention_masks (torch.Tensor): Tensor of indices specifying which\n",
        "                  tokens should be attended to by the model.\n",
        "    \"\"\"\n",
        "    # Create empty lists to store outputs\n",
        "    input_ids = []\n",
        "    attention_masks = []\n",
        "\n",
        "    # For every sentence...\n",
        "    for sent in data:\n",
        "        # `encode_plus` will:\n",
        "        #    (1) Tokenize the sentence\n",
        "        #    (2) Add the `[CLS]` and `[SEP]` token to the start and end\n",
        "        #    (3) Truncate/Pad sentence to max length\n",
        "        #    (4) Map tokens to their IDs\n",
        "        #    (5) Create attention mask\n",
        "        #    (6) Return a dictionary of outputs\n",
        "        encoded_sent = tokenizer.encode_plus(\n",
        "            text=sent,\n",
        "            add_special_tokens=True,        # Add `[CLS]` and `[SEP]`\n",
        "            max_length=MAX_LEN,                  # Max length to truncate/pad\n",
        "            pad_to_max_length=True,         # Pad sentence to max length\n",
        "            #return_tensors='pt',           # Return PyTorch tensor\n",
        "            return_attention_mask=True      # Return attention mask\n",
        "            )\n",
        "        \n",
        "        # Add the outputs to the lists\n",
        "        input_ids.append(encoded_sent.get('input_ids'))\n",
        "        attention_masks.append(encoded_sent.get('attention_mask'))\n",
        "\n",
        "    # Convert lists to tensors\n",
        "    input_ids = torch.tensor(input_ids)\n",
        "    attention_masks = torch.tensor(attention_masks)\n",
        "\n",
        "    return input_ids, attention_masks"
      ],
      "execution_count": 14,
      "outputs": []
    },
    {
      "cell_type": "code",
      "metadata": {
        "id": "bf0MGhN2k-8M",
        "colab": {
          "base_uri": "https://localhost:8080/",
          "height": 463
        },
        "outputId": "53f7d0e0-356a-40c4-edbf-35de841c0877"
      },
      "source": [
        "# Analyze post lengths after processing. This block is not required.\n",
        "\n",
        "all_posts = pd.concat([training_data, validation_data])['tweet']\n",
        "\n",
        "# preprocess tweets using BERTweet normalizer\n",
        "all_posts = [normalizeTweet(sent) for sent in all_posts]\n",
        "\n",
        "# Encode our concatenated data\n",
        "encoded_posts = [tokenizer.encode(sent, add_special_tokens=True) for sent in all_posts]\n",
        "\n",
        "# get length of all the messages in the train set\n",
        "seq_len = [len(i) for i in encoded_posts]\n",
        "\n",
        "print(\"\\nLength of encoded posts:\")\n",
        "pd.Series(seq_len).hist(bins = 30)\n",
        "\n",
        "pd.Series(seq_len).describe()"
      ],
      "execution_count": 15,
      "outputs": [
        {
          "output_type": "stream",
          "name": "stdout",
          "text": [
            "\n",
            "Length of encoded posts:\n"
          ]
        },
        {
          "output_type": "execute_result",
          "data": {
            "text/plain": [
              "count    1734.000000\n",
              "mean       28.310265\n",
              "std        15.434860\n",
              "min         4.000000\n",
              "25%        17.000000\n",
              "50%        25.000000\n",
              "75%        36.000000\n",
              "max       105.000000\n",
              "dtype: float64"
            ]
          },
          "metadata": {},
          "execution_count": 15
        },
        {
          "output_type": "display_data",
          "data": {
            "text/plain": [
              "<Figure size 432x288 with 1 Axes>"
            ],
            "image/png": "[encoded data removed]"
          },
          "metadata": {
            "needs_background": "light"
          }
        }
      ]
    },
    {
      "cell_type": "code",
      "metadata": {
        "id": "7FcudmvtlDUV",
        "colab": {
          "base_uri": "https://localhost:8080/"
        },
        "outputId": "0a31bc72-fb20-4c40-ed44-2d8599017e5e"
      },
      "source": [
        "# Specify `MAX_LEN`\n",
        "MAX_LEN = 100\n",
        "\n",
        "# Print sentence 1 and its encoded token ids\n",
        "normalized_example = normalizeTweet(X_train[0])\n",
        "token_ids = list(preprocessing_for_bert([normalized_example])[0].squeeze().numpy())\n",
        "print('Original: ', X_train[0])\n",
        "print('Normalized tweet:', normalized_example)\n",
        "print('Token IDs: ', token_ids)\n",
        "\n",
        "# normalize all tweets for BERTweet\n",
        "for index, value in X_train.iteritems():\n",
        "  X_train.at[index] = normalizeTweet(value)\n",
        "for index, value in X_val.iteritems():\n",
        "  X_val.at[index] = normalizeTweet(value)\n",
        "\n",
        "# Run function `preprocessing_for_bert` on the train set and the validation set\n",
        "train_inputs, train_masks = preprocessing_for_bert(X_train)\n",
        "val_inputs, val_masks = preprocessing_for_bert(X_val)"
      ],
      "execution_count": 16,
      "outputs": [
        {
          "output_type": "stream",
          "name": "stderr",
          "text": [
            "Truncation was not explicitly activated but `max_length` is provided a specific value, please use `truncation=True` to explicitly truncate examples to max length. Defaulting to 'longest_first' truncation strategy. If you encode pairs of sequences (GLUE-style) with the tokenizer you can select this strategy more precisely by providing a specific strategy to `truncation`.\n",
            "/usr/local/lib/python3.7/dist-packages/transformers/tokenization_utils_base.py:2269: FutureWarning: The `pad_to_max_length` argument is deprecated and will be removed in a future version, use `padding=True` or `padding='longest'` to pad to the longest sequence in the batch, or use `padding='max_length'` to pad to a max length. In this case, you can give a specific length with `max_length` (e.g. `max_length=45`) or leave max_length to None to pad to the maximal input size of the model (e.g. 512 for Bert).\n",
            "  FutureWarning,\n"
          ]
        },
        {
          "output_type": "stream",
          "name": "stdout",
          "text": [
            "Original:  @Dancruz07 Sureeeeeee you do\n",
            "Normalized tweet: @USER Sureeeeeee you do\n",
            "Token IDs:  [0, 1039, 47955, 9136, 45835, 1942, 47, 109, 2, 1, 1, 1, 1, 1, 1, 1, 1, 1, 1, 1, 1, 1, 1, 1, 1, 1, 1, 1, 1, 1, 1, 1, 1, 1, 1, 1, 1, 1, 1, 1, 1, 1, 1, 1, 1, 1, 1, 1, 1, 1, 1, 1, 1, 1, 1, 1, 1, 1, 1, 1, 1, 1, 1, 1, 1, 1, 1, 1, 1, 1, 1, 1, 1, 1, 1, 1, 1, 1, 1, 1, 1, 1, 1, 1, 1, 1, 1, 1, 1, 1, 1, 1, 1, 1, 1, 1, 1, 1, 1, 1]\n"
          ]
        }
      ]
    },
    {
      "cell_type": "markdown",
      "source": [
        "# Create dataloaders"
      ],
      "metadata": {
        "id": "JEOvUl8Wi7_g"
      }
    },
    {
      "cell_type": "code",
      "metadata": {
        "id": "v-GcEK4ZlM5T"
      },
      "source": [
        "from torch.utils.data import TensorDataset, DataLoader, RandomSampler, SequentialSampler\n",
        "\n",
        "# Convert other data types to torch.Tensor\n",
        "train_labels = torch.tensor(y_train.values)\n",
        "val_labels = torch.tensor(y_val.values)\n",
        "\n",
        "# For fine-tuning BERT, the authors recommend a batch size of 16 or 32.\n",
        "batch_size = 32\n",
        "\n",
        "# Create the DataLoaders for our training set\n",
        "\n",
        "train_data = TensorDataset(train_inputs, train_masks, train_labels, torchmoji_train_inputs)\n",
        "train_sampler = RandomSampler(train_data)\n",
        "train_dataloader = DataLoader(train_data, sampler=train_sampler, batch_size=batch_size)\n",
        "\n",
        "# Create the DataLoaders for our validation set\n",
        "val_data = TensorDataset(val_inputs, val_masks, val_labels, torchmoji_val_inputs)\n",
        "val_sampler = SequentialSampler(val_data)\n",
        "val_dataloader = DataLoader(val_data, sampler=val_sampler, batch_size=batch_size)"
      ],
      "execution_count": 17,
      "outputs": []
    },
    {
      "cell_type": "markdown",
      "source": [
        "# Define model class"
      ],
      "metadata": {
        "id": "X4zmPtVQjF6D"
      }
    },
    {
      "cell_type": "code",
      "metadata": {
        "id": "PNpW1NyHlUkT"
      },
      "source": [
        "class BertClassifier(nn.Module):\n",
        "    \"\"\"Bert Model for Classification Tasks.\n",
        "    \"\"\"\n",
        "    def __init__(self, freeze_bert=False):\n",
        "        \"\"\"\n",
        "        @param    bert: a BertModel object\n",
        "        @param    classifier: a torch.nn.Module classifier\n",
        "        @param    freeze_bert (bool): Set `False` to fine-tune the BERT model\n",
        "        \"\"\"\n",
        "        super(BertClassifier, self).__init__()\n",
        "\n",
        "        # bertweet output size: 768 for small, 1024 for large\n",
        "        # bertweet_out_size = 768\n",
        "        bertweet_out_size = 1024\n",
        "\n",
        "        # Specify hidden size of BERT, hidden size of our classifier, and number of labels\n",
        "        D_in, H, D_out = bertweet_out_size, 100, 2\n",
        "\n",
        "        # size of torchmoji outputs: 2304 or 0 if not using torchmoji\n",
        "        # torchmoji_out_size = 2304\n",
        "        torchmoji_out_size = 0\n",
        "\n",
        "        # Instantiate BERT model\n",
        "        self.bert = AutoModel.from_pretrained(\"vinai/bertweet-large\")\n",
        "\n",
        "        # # Instantiate torchmoji model\n",
        "        # self.torchmoji = torchmoji_emojis(PRETRAINED_PATH)\n",
        "\n",
        "        # self.dropoutlayer = nn.Dropout(0.33)\n",
        "        # self.layernorm = nn.LayerNorm(D_in + torchmoji_out_size)\n",
        "\n",
        "        # Instantiate an one-layer feed-forward classifier\n",
        "        self.classifier = nn.Sequential(\n",
        "            nn.Linear(D_in + torchmoji_out_size, H),\n",
        "            nn.ReLU(),\n",
        "            nn.Dropout(0.33),\n",
        "            nn.Linear(H, D_out)\n",
        "        )\n",
        "\n",
        "        # Freeze the BERT model\n",
        "        if freeze_bert:\n",
        "            for param in self.bert.parameters():\n",
        "                param.requires_grad = False\n",
        "        \n",
        "    def forward(self, input_ids, attention_mask, torchmoji_input_ids):\n",
        "        \"\"\"\n",
        "        Feed input to BERT and the classifier to compute logits.\n",
        "        @param    input_ids (torch.Tensor): an input tensor with shape (batch_size,\n",
        "                      max_length)\n",
        "        @param    attention_mask (torch.Tensor): a tensor that hold attention mask\n",
        "                      information with shape (batch_size, max_length)\n",
        "        @return   logits (torch.Tensor): an output tensor with shape (batch_size,\n",
        "                      num_labels)\n",
        "        \"\"\"\n",
        "        # Feed input to BERT\n",
        "        bert_outputs = self.bert(input_ids=input_ids,\n",
        "                            attention_mask=attention_mask)\n",
        "        \n",
        "        # Extract the last hidden state of the token `[CLS]` for classification task\n",
        "        last_hidden_state_cls = bert_outputs[0][:, 0, :]\n",
        "\n",
        "        # # Feed input to torchmoji\n",
        "        # torchmoji_outputs = self.torchmoji(torchmoji_input_ids) \n",
        "\n",
        "        # fused_outputs = torch.cat((last_hidden_state_cls, torchmoji_input_ids), dim=1)\n",
        "        fused_outputs = last_hidden_state_cls  # if not using torchmoji\n",
        "\n",
        "        # fused_outputs = self.layernorm(fused_outputs)\n",
        "        # fused_outputs = self.dropoutlayer(fused_outputs)\n",
        "\n",
        "        # Feed input to classifier to compute logits\n",
        "        logits = self.classifier(fused_outputs)\n",
        "\n",
        "        return logits"
      ],
      "execution_count": 18,
      "outputs": []
    },
    {
      "cell_type": "code",
      "metadata": {
        "id": "uzyKG7FmlZnc"
      },
      "source": [
        "def initialize_model(current_train_dataloader, epochs=5, learning_rate=1e-3):\n",
        "    \"\"\"Initialize the Bert Classifier, the optimizer and the learning rate scheduler.\n",
        "    \"\"\"\n",
        "    # Instantiate Bert Classifier\n",
        "    bert_classifier = BertClassifier(freeze_bert=False)\n",
        "\n",
        "    # Tell PyTorch to run the model on GPU\n",
        "    bert_classifier.to(device)\n",
        "\n",
        "    # Create the optimizer\n",
        "    optimizer = AdamW(bert_classifier.parameters(),\n",
        "                      lr=learning_rate,    # Default learning rate is 1e-3\n",
        "                      eps=1e-8,    # Default epsilon value is 1e-6\n",
        "                      weight_decay=.01\n",
        "                      )\n",
        "   \n",
        "    # Total number of training steps\n",
        "    total_steps = len(current_train_dataloader) * epochs\n",
        "\n",
        "    # Set up the learning rate scheduler\n",
        "    scheduler = get_linear_schedule_with_warmup(optimizer,\n",
        "                                                num_warmup_steps=0, # Default value\n",
        "                                                num_training_steps=total_steps)\n",
        "    return bert_classifier, optimizer, scheduler"
      ],
      "execution_count": 19,
      "outputs": []
    },
    {
      "cell_type": "markdown",
      "source": [
        "# Define training and evaluation loops"
      ],
      "metadata": {
        "id": "eV2hf43bjj-H"
      }
    },
    {
      "cell_type": "code",
      "metadata": {
        "id": "dfQI_6cflcLU"
      },
      "source": [
        "# Specify loss function\n",
        "loss_fn = nn.CrossEntropyLoss()\n",
        "\n",
        "def set_seed(seed_value=42):\n",
        "    \"\"\"Set seed for reproducibility.\n",
        "    \"\"\"\n",
        "    random.seed(seed_value)\n",
        "    np.random.seed(seed_value)\n",
        "    torch.manual_seed(seed_value)\n",
        "    torch.cuda.manual_seed_all(seed_value)\n",
        "\n",
        "def train(model, train_dataloader, val_dataloader=None, epochs=4, evaluation=False):\n",
        "    \"\"\"Train the BertClassifier model.\n",
        "    \"\"\"\n",
        "\n",
        "    # set initial best validation accuracy to negative infinity\n",
        "    best_val_accuracy = -float('inf')\n",
        "    \n",
        "    # Start training loop\n",
        "    print(\"Start training...\\n\")\n",
        "    for epoch_i in range(epochs):\n",
        "\n",
        "        # Print the header of the result table\n",
        "        print(f\"{'Epoch':^7} | {'Batch':^7} | {'Train Loss':^12} | {'Val Loss':^10} | {'Val Acc':^9} | {'Elapsed':^9}\")\n",
        "        print(\"-\"*70)\n",
        "\n",
        "        # Measure the elapsed time of each epoch\n",
        "        t0_epoch, t0_batch = time.time(), time.time()\n",
        "\n",
        "        # Reset tracking variables at the beginning of each epoch\n",
        "        total_loss, batch_loss, batch_counts = 0, 0, 0\n",
        "\n",
        "        # Put the model into the training mode\n",
        "        model.train()\n",
        "\n",
        "        # For each batch of training data...\n",
        "        for step, batch in enumerate(train_dataloader):\n",
        "            batch_counts +=1\n",
        "            # Load batch to GPU\n",
        "            b_input_ids, b_attn_mask, b_labels, b_torchmoji_input_ids = tuple(t.to(device) for t in batch)\n",
        "\n",
        "            # Zero out any previously calculated gradients\n",
        "            model.zero_grad()\n",
        "\n",
        "            # Perform a forward pass. This will return logits.\n",
        "            logits = model(b_input_ids, b_attn_mask, b_torchmoji_input_ids)\n",
        "\n",
        "            # Compute loss and accumulate the loss values\n",
        "            loss = loss_fn(logits, b_labels)\n",
        "            batch_loss += loss.item()\n",
        "            total_loss += loss.item()\n",
        "\n",
        "            # Perform a backward pass to calculate gradients\n",
        "            loss.backward()\n",
        "\n",
        "            # Clip the norm of the gradients to 1.0 to prevent \"exploding gradients\"\n",
        "            torch.nn.utils.clip_grad_norm_(model.parameters(), 1.0)\n",
        "\n",
        "            # Update parameters and the learning rate\n",
        "            optimizer.step()\n",
        "            scheduler.step()\n",
        "\n",
        "            # Print the loss values and time elapsed for every 20 batches\n",
        "            if (step % 20 == 0 and step != 0) or (step == len(train_dataloader) - 1):\n",
        "                # Calculate time elapsed for 20 batches\n",
        "                time_elapsed = time.time() - t0_batch\n",
        "\n",
        "                # Print training results\n",
        "                print(f\"{epoch_i + 1:^7} | {step:^7} | {batch_loss / batch_counts:^12.6f} | {'-':^10} | {'-':^9} | {time_elapsed:^9.2f}\")\n",
        "\n",
        "                # Reset batch tracking variables\n",
        "                batch_loss, batch_counts = 0, 0\n",
        "                t0_batch = time.time()\n",
        "\n",
        "        # Calculate the average loss over the entire training data\n",
        "        avg_train_loss = total_loss / len(train_dataloader)\n",
        "\n",
        "        print(\"-\"*70)\n",
        "\n",
        "        if evaluation == True:\n",
        "            # After the completion of each training epoch, measure the model's performance\n",
        "            # on our validation set.\n",
        "            val_loss, val_accuracy = evaluate(model, val_dataloader)\n",
        "\n",
        "            #save the best model\n",
        "            if val_accuracy > best_val_accuracy:\n",
        "                best_val_accuracy = val_accuracy\n",
        "                torch.save(model.state_dict(), 'saved_weights.pt')\n",
        "\n",
        "            # Print performance over the entire training data\n",
        "            time_elapsed = time.time() - t0_epoch\n",
        "            \n",
        "            print(f\"{epoch_i + 1:^7} | {'-':^7} | {avg_train_loss:^12.6f} | {val_loss:^10.6f} | {val_accuracy:^9.2f} | {time_elapsed:^9.2f}\")\n",
        "            print(\"-\"*70)\n",
        "        print(\"\\n\")\n",
        "    \n",
        "    print(\"Training complete!\")\n",
        "\n",
        "\n",
        "def evaluate(model, val_dataloader):\n",
        "    \"\"\"After the completion of each training epoch, measure the model's performance\n",
        "    on our validation set.\n",
        "    \"\"\"\n",
        "    # Put the model into the evaluation mode. The dropout layers are disabled during\n",
        "    # the test time.\n",
        "    model.eval()\n",
        "\n",
        "    # Tracking variables\n",
        "    val_accuracy = []\n",
        "    val_loss = []\n",
        "\n",
        "    # For each batch in our validation set...\n",
        "    for batch in val_dataloader:\n",
        "        # Load batch to GPU\n",
        "        b_input_ids, b_attn_mask, b_labels, b_torchmoji_input_ids = tuple(t.to(device) for t in batch)\n",
        "\n",
        "        # Compute logits\n",
        "        with torch.no_grad():\n",
        "            logits = model(b_input_ids, b_attn_mask, b_torchmoji_input_ids)\n",
        "\n",
        "        # Compute loss\n",
        "        loss = loss_fn(logits, b_labels)\n",
        "        val_loss.append(loss.item())\n",
        "\n",
        "        # Get the predictions\n",
        "        preds = torch.argmax(logits, dim=1).flatten()\n",
        "\n",
        "        # Calculate the accuracy rate\n",
        "        accuracy = (preds == b_labels).cpu().numpy().mean() * 100\n",
        "        val_accuracy.append(accuracy)\n",
        "\n",
        "    # Compute the average accuracy and loss over the validation set.\n",
        "    val_loss = np.mean(val_loss)\n",
        "    val_accuracy = np.mean(val_accuracy)\n",
        "\n",
        "    return val_loss, val_accuracy"
      ],
      "execution_count": 20,
      "outputs": []
    },
    {
      "cell_type": "code",
      "metadata": {
        "id": "WXyU05lBjxIG"
      },
      "source": [
        "# AUC/Accuracy evaluation function\n",
        "\n",
        "from sklearn.metrics import accuracy_score, roc_curve, auc\n",
        "\n",
        "def evaluate_roc(probs, y_true):\n",
        "    \"\"\"\n",
        "    - Print AUC and accuracy on the test set\n",
        "    - Plot ROC\n",
        "    @params    probs (np.array): an array of predicted probabilities with shape (len(y_true), 2)\n",
        "    @params    y_true (np.array): an array of the true values with shape (len(y_true),)\n",
        "    \"\"\"\n",
        "    preds = probs[:, 1]\n",
        "    fpr, tpr, threshold = roc_curve(y_true, preds)\n",
        "    roc_auc = auc(fpr, tpr)\n",
        "    print(f'AUC: {roc_auc:.4f}')\n",
        "       \n",
        "    # Get accuracy over the test set\n",
        "    y_pred = np.where(preds >= 0.5, 1, 0)\n",
        "    accuracy = accuracy_score(y_true, y_pred)\n",
        "    print(f'Accuracy: {accuracy*100:.2f}%')\n",
        "    \n",
        "    # Plot ROC AUC\n",
        "    plt.title('Receiver Operating Characteristic')\n",
        "    plt.plot(fpr, tpr, 'b', label = 'AUC = %0.2f' % roc_auc)\n",
        "    plt.legend(loc = 'lower right')\n",
        "    plt.plot([0, 1], [0, 1],'r--')\n",
        "    plt.xlim([0, 1])\n",
        "    plt.ylim([0, 1])\n",
        "    plt.ylabel('True Positive Rate')\n",
        "    plt.xlabel('False Positive Rate')\n",
        "    plt.show()"
      ],
      "execution_count": 21,
      "outputs": []
    },
    {
      "cell_type": "markdown",
      "source": [
        "# Train model"
      ],
      "metadata": {
        "id": "OU1yfUNCkNfk"
      }
    },
    {
      "cell_type": "code",
      "metadata": {
        "id": "ZSlg5lXblmH6",
        "colab": {
          "base_uri": "https://localhost:8080/"
        },
        "outputId": "94142dec-4019-467a-c7a8-64a430283514"
      },
      "source": [
        "set_seed(42)    # Set seed for reproducibility\n",
        "EPOCHS = 20\n",
        "LEARNING_RATE = 3e-6\n",
        "\n",
        "bert_classifier, optimizer, scheduler = initialize_model(train_dataloader, epochs=EPOCHS, learning_rate=LEARNING_RATE)\n",
        "train(bert_classifier, train_dataloader, val_dataloader, epochs=EPOCHS, evaluation=True)"
      ],
      "execution_count": 22,
      "outputs": [
        {
          "output_type": "stream",
          "name": "stderr",
          "text": [
            "Some weights of the model checkpoint at vinai/bertweet-large were not used when initializing RobertaModel: ['lm_head.layer_norm.weight', 'lm_head.layer_norm.bias', 'lm_head.bias', 'lm_head.dense.bias', 'lm_head.decoder.weight', 'lm_head.decoder.bias', 'lm_head.dense.weight']\n",
            "- This IS expected if you are initializing RobertaModel from the checkpoint of a model trained on another task or with another architecture (e.g. initializing a BertForSequenceClassification model from a BertForPreTraining model).\n",
            "- This IS NOT expected if you are initializing RobertaModel from the checkpoint of a model that you expect to be exactly identical (initializing a BertForSequenceClassification model from a BertForSequenceClassification model).\n",
            "Some weights of RobertaModel were not initialized from the model checkpoint at vinai/bertweet-large and are newly initialized: ['roberta.pooler.dense.bias', 'roberta.pooler.dense.weight']\n",
            "You should probably TRAIN this model on a down-stream task to be able to use it for predictions and inference.\n",
            "/usr/local/lib/python3.7/dist-packages/transformers/optimization.py:309: FutureWarning: This implementation of AdamW is deprecated and will be removed in a future version. Use the PyTorch implementation torch.optim.AdamW instead, or set `no_deprecation_warning=True` to disable this warning\n",
            "  FutureWarning,\n"
          ]
        },
        {
          "output_type": "stream",
          "name": "stdout",
          "text": [
            "Start training...\n",
            "\n",
            " Epoch  |  Batch  |  Train Loss  |  Val Loss  |  Val Acc  |  Elapsed \n",
            "----------------------------------------------------------------------\n",
            "   1    |   20    |   0.704546   |     -      |     -     |   20.80  \n",
            "   1    |   40    |   0.703158   |     -      |     -     |   19.78  \n",
            "   1    |   48    |   0.704023   |     -      |     -     |   7.77   \n",
            "----------------------------------------------------------------------\n",
            "   1    |    -    |   0.703894   |  0.694416  |   50.00   |   54.57  \n",
            "----------------------------------------------------------------------\n",
            "\n",
            "\n",
            " Epoch  |  Batch  |  Train Loss  |  Val Loss  |  Val Acc  |  Elapsed \n",
            "----------------------------------------------------------------------\n",
            "   2    |   20    |   0.700153   |     -      |     -     |   20.79  \n",
            "   2    |   40    |   0.691512   |     -      |     -     |   19.80  \n",
            "   2    |   48    |   0.691123   |     -      |     -     |   7.79   \n",
            "----------------------------------------------------------------------\n",
            "   2    |    -    |   0.695152   |  0.695753  |   48.26   |   50.10  \n",
            "----------------------------------------------------------------------\n",
            "\n",
            "\n",
            " Epoch  |  Batch  |  Train Loss  |  Val Loss  |  Val Acc  |  Elapsed \n",
            "----------------------------------------------------------------------\n",
            "   3    |   20    |   0.693663   |     -      |     -     |   20.77  \n",
            "   3    |   40    |   0.697256   |     -      |     -     |   19.78  \n",
            "   3    |   48    |   0.696621   |     -      |     -     |   7.79   \n",
            "----------------------------------------------------------------------\n",
            "   3    |    -    |   0.695613   |  0.691484  |   55.03   |   54.72  \n",
            "----------------------------------------------------------------------\n",
            "\n",
            "\n",
            " Epoch  |  Batch  |  Train Loss  |  Val Loss  |  Val Acc  |  Elapsed \n",
            "----------------------------------------------------------------------\n",
            "   4    |   20    |   0.704485   |     -      |     -     |   20.81  \n",
            "   4    |   40    |   0.687269   |     -      |     -     |   19.81  \n",
            "   4    |   48    |   0.678755   |     -      |     -     |   7.80   \n",
            "----------------------------------------------------------------------\n",
            "   4    |    -    |   0.693257   |  0.686510  |   57.47   |   54.78  \n",
            "----------------------------------------------------------------------\n",
            "\n",
            "\n",
            " Epoch  |  Batch  |  Train Loss  |  Val Loss  |  Val Acc  |  Elapsed \n",
            "----------------------------------------------------------------------\n",
            "   5    |   20    |   0.683104   |     -      |     -     |   20.81  \n",
            "   5    |   40    |   0.680863   |     -      |     -     |   19.79  \n",
            "   5    |   48    |   0.672742   |     -      |     -     |   7.78   \n",
            "----------------------------------------------------------------------\n",
            "   5    |    -    |   0.680498   |  0.664510  |   63.54   |   54.66  \n",
            "----------------------------------------------------------------------\n",
            "\n",
            "\n",
            " Epoch  |  Batch  |  Train Loss  |  Val Loss  |  Val Acc  |  Elapsed \n",
            "----------------------------------------------------------------------\n",
            "   6    |   20    |   0.655412   |     -      |     -     |   20.79  \n",
            "   6    |   40    |   0.645730   |     -      |     -     |   19.78  \n",
            "   6    |   48    |   0.625803   |     -      |     -     |   7.79   \n",
            "----------------------------------------------------------------------\n",
            "   6    |    -    |   0.646626   |  0.599930  |   70.31   |   54.67  \n",
            "----------------------------------------------------------------------\n",
            "\n",
            "\n",
            " Epoch  |  Batch  |  Train Loss  |  Val Loss  |  Val Acc  |  Elapsed \n",
            "----------------------------------------------------------------------\n",
            "   7    |   20    |   0.613243   |     -      |     -     |   20.80  \n",
            "   7    |   40    |   0.569907   |     -      |     -     |   19.78  \n",
            "   7    |   48    |   0.530853   |     -      |     -     |   7.80   \n",
            "----------------------------------------------------------------------\n",
            "   7    |    -    |   0.582103   |  0.546272  |   71.35   |   54.69  \n",
            "----------------------------------------------------------------------\n",
            "\n",
            "\n",
            " Epoch  |  Batch  |  Train Loss  |  Val Loss  |  Val Acc  |  Elapsed \n",
            "----------------------------------------------------------------------\n",
            "   8    |   20    |   0.536324   |     -      |     -     |   20.80  \n",
            "   8    |   40    |   0.548748   |     -      |     -     |   19.80  \n",
            "   8    |   48    |   0.500970   |     -      |     -     |   7.84   \n",
            "----------------------------------------------------------------------\n",
            "   8    |    -    |   0.535623   |  0.509475  |   75.35   |   54.85  \n",
            "----------------------------------------------------------------------\n",
            "\n",
            "\n",
            " Epoch  |  Batch  |  Train Loss  |  Val Loss  |  Val Acc  |  Elapsed \n",
            "----------------------------------------------------------------------\n",
            "   9    |   20    |   0.458368   |     -      |     -     |   20.79  \n",
            "   9    |   40    |   0.493213   |     -      |     -     |   19.78  \n",
            "   9    |   48    |   0.534920   |     -      |     -     |   7.79   \n",
            "----------------------------------------------------------------------\n",
            "   9    |    -    |   0.485089   |  0.542418  |   74.83   |   50.08  \n",
            "----------------------------------------------------------------------\n",
            "\n",
            "\n",
            " Epoch  |  Batch  |  Train Loss  |  Val Loss  |  Val Acc  |  Elapsed \n",
            "----------------------------------------------------------------------\n",
            "  10    |   20    |   0.432834   |     -      |     -     |   20.77  \n",
            "  10    |   40    |   0.442234   |     -      |     -     |   19.81  \n",
            "  10    |   48    |   0.495446   |     -      |     -     |   7.79   \n",
            "----------------------------------------------------------------------\n",
            "  10    |    -    |   0.446893   |  0.549497  |   73.78   |   50.09  \n",
            "----------------------------------------------------------------------\n",
            "\n",
            "\n",
            " Epoch  |  Batch  |  Train Loss  |  Val Loss  |  Val Acc  |  Elapsed \n",
            "----------------------------------------------------------------------\n",
            "  11    |   20    |   0.398897   |     -      |     -     |   20.78  \n",
            "  11    |   40    |   0.429004   |     -      |     -     |   19.78  \n",
            "  11    |   48    |   0.383987   |     -      |     -     |   7.79   \n",
            "----------------------------------------------------------------------\n",
            "  11    |    -    |   0.408751   |  0.541398  |   76.39   |   54.72  \n",
            "----------------------------------------------------------------------\n",
            "\n",
            "\n",
            " Epoch  |  Batch  |  Train Loss  |  Val Loss  |  Val Acc  |  Elapsed \n",
            "----------------------------------------------------------------------\n",
            "  12    |   20    |   0.366587   |     -      |     -     |   20.79  \n",
            "  12    |   40    |   0.373466   |     -      |     -     |   19.79  \n",
            "  12    |   48    |   0.342659   |     -      |     -     |   7.80   \n",
            "----------------------------------------------------------------------\n",
            "  12    |    -    |   0.365488   |  0.549873  |   76.74   |   54.66  \n",
            "----------------------------------------------------------------------\n",
            "\n",
            "\n",
            " Epoch  |  Batch  |  Train Loss  |  Val Loss  |  Val Acc  |  Elapsed \n",
            "----------------------------------------------------------------------\n",
            "  13    |   20    |   0.340528   |     -      |     -     |   20.80  \n",
            "  13    |   40    |   0.286528   |     -      |     -     |   19.80  \n",
            "  13    |   48    |   0.389256   |     -      |     -     |   7.79   \n",
            "----------------------------------------------------------------------\n",
            "  13    |    -    |   0.326443   |  0.576910  |   76.74   |   50.11  \n",
            "----------------------------------------------------------------------\n",
            "\n",
            "\n",
            " Epoch  |  Batch  |  Train Loss  |  Val Loss  |  Val Acc  |  Elapsed \n",
            "----------------------------------------------------------------------\n",
            "  14    |   20    |   0.314752   |     -      |     -     |   20.77  \n",
            "  14    |   40    |   0.319949   |     -      |     -     |   19.80  \n",
            "  14    |   48    |   0.227268   |     -      |     -     |   7.79   \n",
            "----------------------------------------------------------------------\n",
            "  14    |    -    |   0.302590   |  0.590562  |   77.26   |   54.72  \n",
            "----------------------------------------------------------------------\n",
            "\n",
            "\n",
            " Epoch  |  Batch  |  Train Loss  |  Val Loss  |  Val Acc  |  Elapsed \n",
            "----------------------------------------------------------------------\n",
            "  15    |   20    |   0.272897   |     -      |     -     |   20.78  \n",
            "  15    |   40    |   0.268236   |     -      |     -     |   19.80  \n",
            "  15    |   48    |   0.281826   |     -      |     -     |   7.79   \n",
            "----------------------------------------------------------------------\n",
            "  15    |    -    |   0.272452   |  0.600701  |   76.91   |   50.10  \n",
            "----------------------------------------------------------------------\n",
            "\n",
            "\n",
            " Epoch  |  Batch  |  Train Loss  |  Val Loss  |  Val Acc  |  Elapsed \n",
            "----------------------------------------------------------------------\n",
            "  16    |   20    |   0.219991   |     -      |     -     |   20.79  \n",
            "  16    |   40    |   0.262997   |     -      |     -     |   19.79  \n",
            "  16    |   48    |   0.284893   |     -      |     -     |   7.79   \n",
            "----------------------------------------------------------------------\n",
            "  16    |    -    |   0.248141   |  0.611444  |   77.43   |   54.67  \n",
            "----------------------------------------------------------------------\n",
            "\n",
            "\n",
            " Epoch  |  Batch  |  Train Loss  |  Val Loss  |  Val Acc  |  Elapsed \n",
            "----------------------------------------------------------------------\n",
            "  17    |   20    |   0.231434   |     -      |     -     |   20.79  \n",
            "  17    |   40    |   0.228804   |     -      |     -     |   19.79  \n",
            "  17    |   48    |   0.232985   |     -      |     -     |   7.79   \n",
            "----------------------------------------------------------------------\n",
            "  17    |    -    |   0.230614   |  0.620310  |   76.91   |   50.09  \n",
            "----------------------------------------------------------------------\n",
            "\n",
            "\n",
            " Epoch  |  Batch  |  Train Loss  |  Val Loss  |  Val Acc  |  Elapsed \n",
            "----------------------------------------------------------------------\n",
            "  18    |   20    |   0.190225   |     -      |     -     |   20.78  \n",
            "  18    |   40    |   0.230570   |     -      |     -     |   19.79  \n",
            "  18    |   48    |   0.230539   |     -      |     -     |   7.79   \n",
            "----------------------------------------------------------------------\n",
            "  18    |    -    |   0.213274   |  0.628152  |   77.95   |   54.72  \n",
            "----------------------------------------------------------------------\n",
            "\n",
            "\n",
            " Epoch  |  Batch  |  Train Loss  |  Val Loss  |  Val Acc  |  Elapsed \n",
            "----------------------------------------------------------------------\n",
            "  19    |   20    |   0.215673   |     -      |     -     |   20.78  \n",
            "  19    |   40    |   0.206990   |     -      |     -     |   19.78  \n",
            "  19    |   48    |   0.187225   |     -      |     -     |   7.80   \n",
            "----------------------------------------------------------------------\n",
            "  19    |    -    |   0.207484   |  0.643473  |   78.47   |   54.68  \n",
            "----------------------------------------------------------------------\n",
            "\n",
            "\n",
            " Epoch  |  Batch  |  Train Loss  |  Val Loss  |  Val Acc  |  Elapsed \n",
            "----------------------------------------------------------------------\n",
            "  20    |   20    |   0.179638   |     -      |     -     |   20.79  \n",
            "  20    |   40    |   0.194729   |     -      |     -     |   19.80  \n",
            "  20    |   48    |   0.226935   |     -      |     -     |   7.79   \n",
            "----------------------------------------------------------------------\n",
            "  20    |    -    |   0.193520   |  0.635477  |   78.47   |   50.09  \n",
            "----------------------------------------------------------------------\n",
            "\n",
            "\n",
            "Training complete!\n"
          ]
        }
      ]
    },
    {
      "cell_type": "markdown",
      "source": [
        "# Define predictor function"
      ],
      "metadata": {
        "id": "q3kYsL6T3Q8g"
      }
    },
    {
      "cell_type": "code",
      "metadata": {
        "id": "MzFc_hBloDW5"
      },
      "source": [
        "def bert_predict(model, test_dataloader):\n",
        "    \"\"\"Perform a forward pass on the trained BERT model to predict probabilities\n",
        "    on the test set.\n",
        "    \"\"\"\n",
        "    # Put the model into the evaluation mode.\n",
        "    model.eval()\n",
        "\n",
        "    all_logits = []\n",
        "\n",
        "    # For each batch in our test set...\n",
        "    for batch in test_dataloader:\n",
        "        # Load batch to GPU\n",
        "        # The '_' value is for labels, which we do not need\n",
        "        b_input_ids, b_attn_mask, _, b_torchmoji_input_ids = tuple(t.to(device) for t in batch)\n",
        "\n",
        "        # Compute logits\n",
        "        with torch.no_grad():\n",
        "            logits = model(b_input_ids, b_attn_mask, b_torchmoji_input_ids)\n",
        "        all_logits.append(logits)\n",
        "    \n",
        "    # Concatenate logits from each batch\n",
        "    all_logits = torch.cat(all_logits, dim=0)\n",
        "\n",
        "    # Apply softmax to calculate probabilities\n",
        "    probs = F.softmax(all_logits, dim=1).cpu().numpy()\n",
        "\n",
        "    return probs"
      ],
      "execution_count": 23,
      "outputs": []
    },
    {
      "cell_type": "markdown",
      "source": [
        "# Evaluation"
      ],
      "metadata": {
        "id": "hTnxtw4x9vje"
      }
    },
    {
      "cell_type": "code",
      "metadata": {
        "id": "ZkpDGcR6oFWp",
        "colab": {
          "base_uri": "https://localhost:8080/",
          "height": 331
        },
        "outputId": "2b9e42c8-5ea6-45b1-cc78-585c6b4aeb50"
      },
      "source": [
        "# Load model with best validation accuracy\n",
        "path = 'saved_weights.pt'\n",
        "bert_classifier.load_state_dict(torch.load(path))\n",
        "\n",
        "# Compute predicted probabilities on the test set\n",
        "probs = bert_predict(bert_classifier, val_dataloader)\n",
        "\n",
        "# Evaluate the Bert classifier\n",
        "evaluate_roc(probs, y_val)"
      ],
      "execution_count": 24,
      "outputs": [
        {
          "output_type": "stream",
          "name": "stdout",
          "text": [
            "AUC: 0.8332\n",
            "Accuracy: 77.91%\n"
          ]
        },
        {
          "output_type": "display_data",
          "data": {
            "text/plain": [
              "<Figure size 432x288 with 1 Axes>"
            ],
            "image/png": "[encoded data removed]"
          },
          "metadata": {
            "needs_background": "light"
          }
        }
      ]
    },
    {
      "cell_type": "code",
      "source": [
        "# Get predictions from the probabilities\n",
        "preds = np.argmax(probs, axis = 1)\n",
        "\n",
        "# Number of tweets predicted non-negative\n",
        "print(\"Number of posts predicted non-negative: \", preds.sum())"
      ],
      "metadata": {
        "id": "YHHytMx1X5j2",
        "colab": {
          "base_uri": "https://localhost:8080/"
        },
        "outputId": "019edb7f-d9f8-481c-acec-29ec5f796ac4"
      },
      "execution_count": 25,
      "outputs": [
        {
          "output_type": "stream",
          "name": "stdout",
          "text": [
            "Number of posts predicted non-negative:  88\n"
          ]
        }
      ]
    },
    {
      "cell_type": "code",
      "source": [
        "from sklearn.metrics import classification_report\n",
        "# preds = np.argmax(preds, axis = 1)\n",
        "print(classification_report(y_val, preds))"
      ],
      "metadata": {
        "id": "DoHdTjWAYCF7",
        "colab": {
          "base_uri": "https://localhost:8080/"
        },
        "outputId": "12cf7ba1-ebb8-4043-84a4-288b898375de"
      },
      "execution_count": 26,
      "outputs": [
        {
          "output_type": "stream",
          "name": "stdout",
          "text": [
            "              precision    recall  f1-score   support\n",
            "\n",
            "           0       0.79      0.77      0.78        86\n",
            "           1       0.77      0.79      0.78        86\n",
            "\n",
            "    accuracy                           0.78       172\n",
            "   macro avg       0.78      0.78      0.78       172\n",
            "weighted avg       0.78      0.78      0.78       172\n",
            "\n"
          ]
        }
      ]
    },
    {
      "cell_type": "code",
      "source": [
        "print('Incorrect negative predictions:\\n--------------------')\n",
        "for sent in X_val[(preds==0) & (y_val.values==1)]:\n",
        "  print(sent)\n",
        "print()\n",
        "print('Incorrect positive predictions:\\n--------------------')\n",
        "for sent in X_val[(preds==1) & (y_val.values==0)]:\n",
        "  print(sent)"
      ],
      "metadata": {
        "id": "04VxO1LEHS-S",
        "colab": {
          "base_uri": "https://localhost:8080/"
        },
        "outputId": "a6e48452-e4a1-4666-9c1a-0ae4821dcca6"
      },
      "execution_count": 27,
      "outputs": [
        {
          "output_type": "stream",
          "name": "stdout",
          "text": [
            "Incorrect negative predictions:\n",
            "--------------------\n",
            "Men will literally fake an injury on the football field instead of going to therapy\n",
            "So staying up late was worth it ... :sleepy_face: :weary_face:\n",
            "Does anyone not know Prince Harry got engaged ? I do n't think there 's been enough in the news about it .\n",
            "Great night last night ! Muggins here is the commis chef crouched down in the corner . Seriously an honour to help raise money for @USER and work alongside these stellar chefs . Thanks for having us @USER @USER ! HTTPURL HTTPURL\n",
            "It was the jerseys\n",
            "Why would Alexa 's recipe for Yorkshire pudding be a bhaji yorkshire pudding ? ? @USER\n",
            "@USER Sounds like a strong contender for GOTY\n",
            "finished the queen 's gambit , i loved a look into the 1960s in the american south with no racism just vibes\n",
            "rewatching degrassi for the millionth time\n",
            "@USER you can copy mine\n",
            "So my Twitter feed has to show me what tweets people I follow like . ... :neutral_face: If I unfollowed you , just know I 'm tired of seeing porn\n",
            "Someone should 've had me committed the day I decided to buy a pair of non-stretch denim jeans\n",
            "Fav this and I wo n't send you a name of a random person , I 'll just get a fav on my tweet\n",
            "I 'm hoping my social work class party is going to involve tequila and chip and salsa :woman_dancing: :tropical_drink: :party_popper: :man:\n",
            "Happy birthday to me ! ! I 'm 30 ! :loudly_crying_face:\n",
            "what i love about mine and summers work schedules is that she will finish at 8p m and then i 'll start work at 9pm and then when i get home at 7am she 'll start work at 8am :red_heart:\n",
            "we happy ! ! !\n",
            "@USER Thank you for your well balanced and thoughtful input\n",
            "\n",
            "Incorrect positive predictions:\n",
            "--------------------\n",
            "hey twitter , how do you twitter now a days .\n",
            "I 'm sorry but high school was the longest 4 years of my life and I will not miss it at all\n",
            "our waitress at dinner tonight complimented my muscles so i guess you could say i 've made it\n",
            "Can anyone provide crutches in the eastleigh area ? #help\n",
            "@USER Im a football and actually cant stand rugby but i am a Rob Burrow fan\n",
            "People who drive under the speed limit . Death Penalty .\n",
            "@USER @USER @USER @USER It 's probably something closer to Xenophobia . Which is someone hating someone else just because they 're foreign . I mean , you are an English teacher , are n't you ? Figured you might know that .\n",
            "If your flight is delayed more than the length of the flight itself everyone should get free booze cc : @USER\n",
            "oh cool I drive to school in less than 12 hours and I 'm frantically looking up fun facts about the final destination franchise for absolutely no reason it 's fine everything 's fiNE\n",
            "dabbing is a gateway drug\n",
            "80 % of #LittleHouseonthePrairie episodes involve Laura befriending weird old men .\n",
            "Damn Instagram engagement is slow :loudly_crying_face: 2 likes in 41 minutes HTTPURL HTTPURL\n",
            "shut the hell up HTTPURL\n",
            "True bliss is laying in an ice cold bath during the hottest part of the year\n",
            "If I was a wealthy Boomer and I saw a bunch of angry Millennials coming for my money , I 'd be nervous . We already killed Applebee 's , we will kill again #EatTheRich\n",
            "#bbccricket @USER how often do two batters reach their century in the same over ? #AskingForAFriend\n",
            "I 've decided that I 'm ready for the Schrute Farms offshoot show now .\n",
            "Ca n't wait to watch Phillip schofield opening his gin advent calendar every morning again\n",
            "Best bullpen in baseball selling rn to Stanton and Judge . Not a place you want to do it .\n",
            "extremely dangerous of chicago style to give the illusion that what i 'm writing is mature and sophisticated simply because it has footnotes\n"
          ]
        }
      ]
    },
    {
      "cell_type": "markdown",
      "source": [
        "# Save model to file"
      ],
      "metadata": {
        "id": "GhAI_8i_9qaz"
      }
    },
    {
      "cell_type": "code",
      "source": [
        "# torch.save(bert_classifier, 'test_model.pth')"
      ],
      "metadata": {
        "id": "5ybjzTvNHUUI"
      },
      "execution_count": 28,
      "outputs": []
    },
    {
      "cell_type": "code",
      "source": [
        "# !tar -czvf \"test_model.tar.gz\" \"test_model.pth\""
      ],
      "metadata": {
        "id": "-HAeT26Zh3Vi"
      },
      "execution_count": 29,
      "outputs": []
    }
  ]
}
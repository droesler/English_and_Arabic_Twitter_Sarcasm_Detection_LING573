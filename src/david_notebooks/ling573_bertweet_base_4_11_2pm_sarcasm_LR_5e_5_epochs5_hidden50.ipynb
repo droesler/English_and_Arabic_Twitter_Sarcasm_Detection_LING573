{
  "nbformat": 4,
  "nbformat_minor": 0,
  "metadata": {
    "colab": {
      "name": "ling573_bertweet-base_4_11_2pm_sarcasm_LR_5e-5_epochs5_hidden50.ipynb",
      "provenance": [],
      "collapsed_sections": [],
      "machine_shape": "hm"
    },
    "kernelspec": {
      "name": "python3",
      "display_name": "Python 3"
    },
    "accelerator": "GPU"
  },
  "cells": [
    {
      "cell_type": "markdown",
      "source": [
        "# BERT fine-tuned classifier for stigma project\n",
        "\n",
        "Source of original notebook: https://chriskhanhtran.github.io/_posts/2019-12-25-bert-for-sentiment-analysis/"
      ],
      "metadata": {
        "id": "bIffiNzWb22r"
      }
    },
    {
      "cell_type": "markdown",
      "source": [
        "# Installs/imports"
      ],
      "metadata": {
        "id": "6mhPadkqcpXd"
      }
    },
    {
      "cell_type": "code",
      "source": [
        "!pip install transformers"
      ],
      "metadata": {
        "colab": {
          "base_uri": "https://localhost:8080/"
        },
        "id": "tHNV0tLpbuYS",
        "outputId": "060b56db-2a3a-4e9d-b143-2041248484ec"
      },
      "execution_count": 1,
      "outputs": [
        {
          "output_type": "stream",
          "name": "stdout",
          "text": [
            "Requirement already satisfied: transformers in /usr/local/lib/python3.7/dist-packages (4.18.0)\n",
            "Requirement already satisfied: regex!=2019.12.17 in /usr/local/lib/python3.7/dist-packages (from transformers) (2019.12.20)\n",
            "Requirement already satisfied: importlib-metadata in /usr/local/lib/python3.7/dist-packages (from transformers) (4.11.3)\n",
            "Requirement already satisfied: sacremoses in /usr/local/lib/python3.7/dist-packages (from transformers) (0.0.49)\n",
            "Requirement already satisfied: requests in /usr/local/lib/python3.7/dist-packages (from transformers) (2.23.0)\n",
            "Requirement already satisfied: numpy>=1.17 in /usr/local/lib/python3.7/dist-packages (from transformers) (1.21.5)\n",
            "Requirement already satisfied: packaging>=20.0 in /usr/local/lib/python3.7/dist-packages (from transformers) (21.3)\n",
            "Requirement already satisfied: huggingface-hub<1.0,>=0.1.0 in /usr/local/lib/python3.7/dist-packages (from transformers) (0.5.1)\n",
            "Requirement already satisfied: tokenizers!=0.11.3,<0.13,>=0.11.1 in /usr/local/lib/python3.7/dist-packages (from transformers) (0.11.6)\n",
            "Requirement already satisfied: pyyaml>=5.1 in /usr/local/lib/python3.7/dist-packages (from transformers) (6.0)\n",
            "Requirement already satisfied: tqdm>=4.27 in /usr/local/lib/python3.7/dist-packages (from transformers) (4.63.0)\n",
            "Requirement already satisfied: filelock in /usr/local/lib/python3.7/dist-packages (from transformers) (3.6.0)\n",
            "Requirement already satisfied: typing-extensions>=3.7.4.3 in /usr/local/lib/python3.7/dist-packages (from huggingface-hub<1.0,>=0.1.0->transformers) (3.10.0.2)\n",
            "Requirement already satisfied: pyparsing!=3.0.5,>=2.0.2 in /usr/local/lib/python3.7/dist-packages (from packaging>=20.0->transformers) (3.0.7)\n",
            "Requirement already satisfied: zipp>=0.5 in /usr/local/lib/python3.7/dist-packages (from importlib-metadata->transformers) (3.7.0)\n",
            "Requirement already satisfied: urllib3!=1.25.0,!=1.25.1,<1.26,>=1.21.1 in /usr/local/lib/python3.7/dist-packages (from requests->transformers) (1.24.3)\n",
            "Requirement already satisfied: idna<3,>=2.5 in /usr/local/lib/python3.7/dist-packages (from requests->transformers) (2.10)\n",
            "Requirement already satisfied: chardet<4,>=3.0.2 in /usr/local/lib/python3.7/dist-packages (from requests->transformers) (3.0.4)\n",
            "Requirement already satisfied: certifi>=2017.4.17 in /usr/local/lib/python3.7/dist-packages (from requests->transformers) (2021.10.8)\n",
            "Requirement already satisfied: joblib in /usr/local/lib/python3.7/dist-packages (from sacremoses->transformers) (1.1.0)\n",
            "Requirement already satisfied: click in /usr/local/lib/python3.7/dist-packages (from sacremoses->transformers) (7.1.2)\n",
            "Requirement already satisfied: six in /usr/local/lib/python3.7/dist-packages (from sacremoses->transformers) (1.15.0)\n"
          ]
        }
      ]
    },
    {
      "cell_type": "code",
      "source": [
        "!pip install emoji"
      ],
      "metadata": {
        "colab": {
          "base_uri": "https://localhost:8080/"
        },
        "id": "6wootJ4nWyOF",
        "outputId": "5b2e15e7-47fc-4c0a-9efd-984ace207f00"
      },
      "execution_count": 2,
      "outputs": [
        {
          "output_type": "stream",
          "name": "stdout",
          "text": [
            "Requirement already satisfied: emoji in /usr/local/lib/python3.7/dist-packages (1.7.0)\n"
          ]
        }
      ]
    },
    {
      "cell_type": "code",
      "metadata": {
        "id": "a7BiHWYaihMK"
      },
      "source": [
        "import os\n",
        "import re\n",
        "from tqdm import tqdm\n",
        "import numpy as np\n",
        "import pandas as pd\n",
        "import matplotlib.pyplot as plt\n",
        "import torch\n",
        "import random\n",
        "import time\n",
        "import torch\n",
        "import torch.nn as nn\n",
        "import torch.nn.functional as F\n",
        "\n",
        "from sklearn.model_selection import train_test_split\n",
        "# from transformers import BertTokenizer, BertModel\n",
        "# from transformers import RobertaTokenizer, RobertaModel\n",
        "from transformers import AutoModel, AutoTokenizer\n",
        "\n",
        "from transformers import AdamW, get_linear_schedule_with_warmup\n",
        "\n",
        "%matplotlib inline"
      ],
      "execution_count": 3,
      "outputs": []
    },
    {
      "cell_type": "code",
      "metadata": {
        "colab": {
          "base_uri": "https://localhost:8080/"
        },
        "id": "1VOf1V1ijWYs",
        "outputId": "1beda855-5b05-4b8d-fb61-cd86c7e3aead"
      },
      "source": [
        "# setup GPU\n",
        "if torch.cuda.is_available():       \n",
        "    device = torch.device(\"cuda\")\n",
        "    print(f'There are {torch.cuda.device_count()} GPU(s) available.')\n",
        "    print('Device name:', torch.cuda.get_device_name(0))\n",
        "\n",
        "else:\n",
        "    print('No GPU available, using the CPU instead.')\n",
        "    device = torch.device(\"cpu\")"
      ],
      "execution_count": 4,
      "outputs": [
        {
          "output_type": "stream",
          "name": "stdout",
          "text": [
            "There are 1 GPU(s) available.\n",
            "Device name: Tesla P100-PCIE-16GB\n"
          ]
        }
      ]
    },
    {
      "cell_type": "markdown",
      "source": [
        "# Load dataset"
      ],
      "metadata": {
        "id": "dOWFeUqJg30O"
      }
    },
    {
      "cell_type": "code",
      "metadata": {
        "id": "aZH9lhuf1X3g"
      },
      "source": [
        "# # mount google drive if needed\n",
        "\n",
        "# from google.colab import drive\n",
        "# drive.mount('/content/gdrive')"
      ],
      "execution_count": 5,
      "outputs": []
    },
    {
      "cell_type": "code",
      "source": [
        "data = pd.read_csv('/content/train.En.csv')\n",
        "data"
      ],
      "metadata": {
        "colab": {
          "base_uri": "https://localhost:8080/",
          "height": 423
        },
        "id": "K8qoU-0TRZW3",
        "outputId": "e585fefb-93fe-43a9-d344-7de15669cde3"
      },
      "execution_count": 6,
      "outputs": [
        {
          "output_type": "execute_result",
          "data": {
            "text/plain": [
              "      Unnamed: 0                                              tweet  \\\n",
              "0              0  The only thing I got from college is a caffein...   \n",
              "1              1  I love it when professors draw a big question ...   \n",
              "2              2  Remember the hundred emails from companies whe...   \n",
              "3              3  Today my pop-pop told me I was not “forced” to...   \n",
              "4              4  @VolphanCarol @littlewhitty @mysticalmanatee I...   \n",
              "...          ...                                                ...   \n",
              "3463        3463  The population spike in Chicago in 9 months is...   \n",
              "3464        3464  You'd think in the second to last English clas...   \n",
              "3465        3465  I’m finally surfacing after a holiday to Scotl...   \n",
              "3466        3466  Couldn't be prouder today. Well done to every ...   \n",
              "3467        3467  Overheard as my 13 year old games with a frien...   \n",
              "\n",
              "      sarcastic                                           rephrase  sarcasm  \\\n",
              "0             1  College is really difficult, expensive, tiring...      0.0   \n",
              "1             1  I do not like when professors don’t write out ...      1.0   \n",
              "2             1  I, at the bare minimum, wish companies actuall...      0.0   \n",
              "3             1  Today my pop-pop told me I was not \"forced\" to...      1.0   \n",
              "4             1  I would say Ted Cruz is an asshole and doesn’t...      1.0   \n",
              "...         ...                                                ...      ...   \n",
              "3463          0                                                NaN      NaN   \n",
              "3464          0                                                NaN      NaN   \n",
              "3465          0                                                NaN      NaN   \n",
              "3466          0                                                NaN      NaN   \n",
              "3467          0                                                NaN      NaN   \n",
              "\n",
              "      irony  satire  understatement  overstatement  rhetorical_question  \n",
              "0       1.0     0.0             0.0            0.0                  0.0  \n",
              "1       0.0     0.0             0.0            0.0                  0.0  \n",
              "2       1.0     0.0             0.0            0.0                  0.0  \n",
              "3       0.0     0.0             0.0            0.0                  0.0  \n",
              "4       0.0     0.0             0.0            0.0                  0.0  \n",
              "...     ...     ...             ...            ...                  ...  \n",
              "3463    NaN     NaN             NaN            NaN                  NaN  \n",
              "3464    NaN     NaN             NaN            NaN                  NaN  \n",
              "3465    NaN     NaN             NaN            NaN                  NaN  \n",
              "3466    NaN     NaN             NaN            NaN                  NaN  \n",
              "3467    NaN     NaN             NaN            NaN                  NaN  \n",
              "\n",
              "[3468 rows x 10 columns]"
            ],
            "text/html": [
              "\n",
              "  <div id=\"df-7e56b21c-72aa-4e5e-a661-81f8dbdb7791\">\n",
              "    <div class=\"colab-df-container\">\n",
              "      <div>\n",
              "<style scoped>\n",
              "    .dataframe tbody tr th:only-of-type {\n",
              "        vertical-align: middle;\n",
              "    }\n",
              "\n",
              "    .dataframe tbody tr th {\n",
              "        vertical-align: top;\n",
              "    }\n",
              "\n",
              "    .dataframe thead th {\n",
              "        text-align: right;\n",
              "    }\n",
              "</style>\n",
              "<table border=\"1\" class=\"dataframe\">\n",
              "  <thead>\n",
              "    <tr style=\"text-align: right;\">\n",
              "      <th></th>\n",
              "      <th>Unnamed: 0</th>\n",
              "      <th>tweet</th>\n",
              "      <th>sarcastic</th>\n",
              "      <th>rephrase</th>\n",
              "      <th>sarcasm</th>\n",
              "      <th>irony</th>\n",
              "      <th>satire</th>\n",
              "      <th>understatement</th>\n",
              "      <th>overstatement</th>\n",
              "      <th>rhetorical_question</th>\n",
              "    </tr>\n",
              "  </thead>\n",
              "  <tbody>\n",
              "    <tr>\n",
              "      <th>0</th>\n",
              "      <td>0</td>\n",
              "      <td>The only thing I got from college is a caffein...</td>\n",
              "      <td>1</td>\n",
              "      <td>College is really difficult, expensive, tiring...</td>\n",
              "      <td>0.0</td>\n",
              "      <td>1.0</td>\n",
              "      <td>0.0</td>\n",
              "      <td>0.0</td>\n",
              "      <td>0.0</td>\n",
              "      <td>0.0</td>\n",
              "    </tr>\n",
              "    <tr>\n",
              "      <th>1</th>\n",
              "      <td>1</td>\n",
              "      <td>I love it when professors draw a big question ...</td>\n",
              "      <td>1</td>\n",
              "      <td>I do not like when professors don’t write out ...</td>\n",
              "      <td>1.0</td>\n",
              "      <td>0.0</td>\n",
              "      <td>0.0</td>\n",
              "      <td>0.0</td>\n",
              "      <td>0.0</td>\n",
              "      <td>0.0</td>\n",
              "    </tr>\n",
              "    <tr>\n",
              "      <th>2</th>\n",
              "      <td>2</td>\n",
              "      <td>Remember the hundred emails from companies whe...</td>\n",
              "      <td>1</td>\n",
              "      <td>I, at the bare minimum, wish companies actuall...</td>\n",
              "      <td>0.0</td>\n",
              "      <td>1.0</td>\n",
              "      <td>0.0</td>\n",
              "      <td>0.0</td>\n",
              "      <td>0.0</td>\n",
              "      <td>0.0</td>\n",
              "    </tr>\n",
              "    <tr>\n",
              "      <th>3</th>\n",
              "      <td>3</td>\n",
              "      <td>Today my pop-pop told me I was not “forced” to...</td>\n",
              "      <td>1</td>\n",
              "      <td>Today my pop-pop told me I was not \"forced\" to...</td>\n",
              "      <td>1.0</td>\n",
              "      <td>0.0</td>\n",
              "      <td>0.0</td>\n",
              "      <td>0.0</td>\n",
              "      <td>0.0</td>\n",
              "      <td>0.0</td>\n",
              "    </tr>\n",
              "    <tr>\n",
              "      <th>4</th>\n",
              "      <td>4</td>\n",
              "      <td>@VolphanCarol @littlewhitty @mysticalmanatee I...</td>\n",
              "      <td>1</td>\n",
              "      <td>I would say Ted Cruz is an asshole and doesn’t...</td>\n",
              "      <td>1.0</td>\n",
              "      <td>0.0</td>\n",
              "      <td>0.0</td>\n",
              "      <td>0.0</td>\n",
              "      <td>0.0</td>\n",
              "      <td>0.0</td>\n",
              "    </tr>\n",
              "    <tr>\n",
              "      <th>...</th>\n",
              "      <td>...</td>\n",
              "      <td>...</td>\n",
              "      <td>...</td>\n",
              "      <td>...</td>\n",
              "      <td>...</td>\n",
              "      <td>...</td>\n",
              "      <td>...</td>\n",
              "      <td>...</td>\n",
              "      <td>...</td>\n",
              "      <td>...</td>\n",
              "    </tr>\n",
              "    <tr>\n",
              "      <th>3463</th>\n",
              "      <td>3463</td>\n",
              "      <td>The population spike in Chicago in 9 months is...</td>\n",
              "      <td>0</td>\n",
              "      <td>NaN</td>\n",
              "      <td>NaN</td>\n",
              "      <td>NaN</td>\n",
              "      <td>NaN</td>\n",
              "      <td>NaN</td>\n",
              "      <td>NaN</td>\n",
              "      <td>NaN</td>\n",
              "    </tr>\n",
              "    <tr>\n",
              "      <th>3464</th>\n",
              "      <td>3464</td>\n",
              "      <td>You'd think in the second to last English clas...</td>\n",
              "      <td>0</td>\n",
              "      <td>NaN</td>\n",
              "      <td>NaN</td>\n",
              "      <td>NaN</td>\n",
              "      <td>NaN</td>\n",
              "      <td>NaN</td>\n",
              "      <td>NaN</td>\n",
              "      <td>NaN</td>\n",
              "    </tr>\n",
              "    <tr>\n",
              "      <th>3465</th>\n",
              "      <td>3465</td>\n",
              "      <td>I’m finally surfacing after a holiday to Scotl...</td>\n",
              "      <td>0</td>\n",
              "      <td>NaN</td>\n",
              "      <td>NaN</td>\n",
              "      <td>NaN</td>\n",
              "      <td>NaN</td>\n",
              "      <td>NaN</td>\n",
              "      <td>NaN</td>\n",
              "      <td>NaN</td>\n",
              "    </tr>\n",
              "    <tr>\n",
              "      <th>3466</th>\n",
              "      <td>3466</td>\n",
              "      <td>Couldn't be prouder today. Well done to every ...</td>\n",
              "      <td>0</td>\n",
              "      <td>NaN</td>\n",
              "      <td>NaN</td>\n",
              "      <td>NaN</td>\n",
              "      <td>NaN</td>\n",
              "      <td>NaN</td>\n",
              "      <td>NaN</td>\n",
              "      <td>NaN</td>\n",
              "    </tr>\n",
              "    <tr>\n",
              "      <th>3467</th>\n",
              "      <td>3467</td>\n",
              "      <td>Overheard as my 13 year old games with a frien...</td>\n",
              "      <td>0</td>\n",
              "      <td>NaN</td>\n",
              "      <td>NaN</td>\n",
              "      <td>NaN</td>\n",
              "      <td>NaN</td>\n",
              "      <td>NaN</td>\n",
              "      <td>NaN</td>\n",
              "      <td>NaN</td>\n",
              "    </tr>\n",
              "  </tbody>\n",
              "</table>\n",
              "<p>3468 rows × 10 columns</p>\n",
              "</div>\n",
              "      <button class=\"colab-df-convert\" onclick=\"convertToInteractive('df-7e56b21c-72aa-4e5e-a661-81f8dbdb7791')\"\n",
              "              title=\"Convert this dataframe to an interactive table.\"\n",
              "              style=\"display:none;\">\n",
              "        \n",
              "  <svg xmlns=\"http://www.w3.org/2000/svg\" height=\"24px\"viewBox=\"0 0 24 24\"\n",
              "       width=\"24px\">\n",
              "    <path d=\"M0 0h24v24H0V0z\" fill=\"none\"/>\n",
              "    <path d=\"M18.56 5.44l.94 2.06.94-2.06 2.06-.94-2.06-.94-.94-2.06-.94 2.06-2.06.94zm-11 1L8.5 8.5l.94-2.06 2.06-.94-2.06-.94L8.5 2.5l-.94 2.06-2.06.94zm10 10l.94 2.06.94-2.06 2.06-.94-2.06-.94-.94-2.06-.94 2.06-2.06.94z\"/><path d=\"M17.41 7.96l-1.37-1.37c-.4-.4-.92-.59-1.43-.59-.52 0-1.04.2-1.43.59L10.3 9.45l-7.72 7.72c-.78.78-.78 2.05 0 2.83L4 21.41c.39.39.9.59 1.41.59.51 0 1.02-.2 1.41-.59l7.78-7.78 2.81-2.81c.8-.78.8-2.07 0-2.86zM5.41 20L4 18.59l7.72-7.72 1.47 1.35L5.41 20z\"/>\n",
              "  </svg>\n",
              "      </button>\n",
              "      \n",
              "  <style>\n",
              "    .colab-df-container {\n",
              "      display:flex;\n",
              "      flex-wrap:wrap;\n",
              "      gap: 12px;\n",
              "    }\n",
              "\n",
              "    .colab-df-convert {\n",
              "      background-color: #E8F0FE;\n",
              "      border: none;\n",
              "      border-radius: 50%;\n",
              "      cursor: pointer;\n",
              "      display: none;\n",
              "      fill: #1967D2;\n",
              "      height: 32px;\n",
              "      padding: 0 0 0 0;\n",
              "      width: 32px;\n",
              "    }\n",
              "\n",
              "    .colab-df-convert:hover {\n",
              "      background-color: #E2EBFA;\n",
              "      box-shadow: 0px 1px 2px rgba(60, 64, 67, 0.3), 0px 1px 3px 1px rgba(60, 64, 67, 0.15);\n",
              "      fill: #174EA6;\n",
              "    }\n",
              "\n",
              "    [theme=dark] .colab-df-convert {\n",
              "      background-color: #3B4455;\n",
              "      fill: #D2E3FC;\n",
              "    }\n",
              "\n",
              "    [theme=dark] .colab-df-convert:hover {\n",
              "      background-color: #434B5C;\n",
              "      box-shadow: 0px 1px 3px 1px rgba(0, 0, 0, 0.15);\n",
              "      filter: drop-shadow(0px 1px 2px rgba(0, 0, 0, 0.3));\n",
              "      fill: #FFFFFF;\n",
              "    }\n",
              "  </style>\n",
              "\n",
              "      <script>\n",
              "        const buttonEl =\n",
              "          document.querySelector('#df-7e56b21c-72aa-4e5e-a661-81f8dbdb7791 button.colab-df-convert');\n",
              "        buttonEl.style.display =\n",
              "          google.colab.kernel.accessAllowed ? 'block' : 'none';\n",
              "\n",
              "        async function convertToInteractive(key) {\n",
              "          const element = document.querySelector('#df-7e56b21c-72aa-4e5e-a661-81f8dbdb7791');\n",
              "          const dataTable =\n",
              "            await google.colab.kernel.invokeFunction('convertToInteractive',\n",
              "                                                     [key], {});\n",
              "          if (!dataTable) return;\n",
              "\n",
              "          const docLinkHtml = 'Like what you see? Visit the ' +\n",
              "            '<a target=\"_blank\" href=https://colab.research.google.com/notebooks/data_table.ipynb>data table notebook</a>'\n",
              "            + ' to learn more about interactive tables.';\n",
              "          element.innerHTML = '';\n",
              "          dataTable['output_type'] = 'display_data';\n",
              "          await google.colab.output.renderOutput(dataTable, element);\n",
              "          const docLink = document.createElement('div');\n",
              "          docLink.innerHTML = docLinkHtml;\n",
              "          element.appendChild(docLink);\n",
              "        }\n",
              "      </script>\n",
              "    </div>\n",
              "  </div>\n",
              "  "
            ]
          },
          "metadata": {},
          "execution_count": 6
        }
      ]
    },
    {
      "cell_type": "code",
      "source": [
        "# Drop any examples where the length is likely to exceed BERT input limit\n",
        "data = data[data['tweet'].str.len() < 1100]"
      ],
      "metadata": {
        "id": "oiOTz98_xkh-"
      },
      "execution_count": 7,
      "outputs": []
    },
    {
      "cell_type": "code",
      "source": [
        "# Set label to use in binary classifcation\n",
        "LABEL_TO_CLASSIFY = 'sarcastic'"
      ],
      "metadata": {
        "id": "0ZihzvZICeNA"
      },
      "execution_count": 8,
      "outputs": []
    },
    {
      "cell_type": "code",
      "source": [
        "# Drop any rows where there is no label (NaN) for the given construct\n",
        "data = data[data[LABEL_TO_CLASSIFY].notna()]"
      ],
      "metadata": {
        "id": "0gfCIiNCcZZT"
      },
      "execution_count": 9,
      "outputs": []
    },
    {
      "cell_type": "code",
      "source": [
        "positive_samples = data[data[LABEL_TO_CLASSIFY] == 1]\n",
        "len(positive_samples)"
      ],
      "metadata": {
        "id": "6DcFkCvE2MIk",
        "colab": {
          "base_uri": "https://localhost:8080/"
        },
        "outputId": "ec05666a-fa87-436e-e6d2-f4a6da9e8f96"
      },
      "execution_count": 10,
      "outputs": [
        {
          "output_type": "execute_result",
          "data": {
            "text/plain": [
              "867"
            ]
          },
          "metadata": {},
          "execution_count": 10
        }
      ]
    },
    {
      "cell_type": "code",
      "source": [
        "negative_samples = data[data[LABEL_TO_CLASSIFY] == 0]\n",
        "len(negative_samples)"
      ],
      "metadata": {
        "id": "SzKtSQYp2R0f",
        "colab": {
          "base_uri": "https://localhost:8080/"
        },
        "outputId": "58cef20d-6fd2-466b-91b4-bf2c3c2379c2"
      },
      "execution_count": 11,
      "outputs": [
        {
          "output_type": "execute_result",
          "data": {
            "text/plain": [
              "2600"
            ]
          },
          "metadata": {},
          "execution_count": 11
        }
      ]
    },
    {
      "cell_type": "code",
      "source": [
        "# Sample randomly from negative examples to get equal number of positives and negatives\n",
        "positive_samples = data[data[LABEL_TO_CLASSIFY] == 1]\n",
        "negative_samples = data[data[LABEL_TO_CLASSIFY] == 0].sample(n=len(positive_samples), random_state=2020)"
      ],
      "metadata": {
        "id": "gqWLkdMVtZPn"
      },
      "execution_count": 12,
      "outputs": []
    },
    {
      "cell_type": "code",
      "source": [
        "data = pd.concat([positive_samples,negative_samples]).reset_index(drop=True)"
      ],
      "metadata": {
        "id": "3Zxr13I0vHWE"
      },
      "execution_count": 13,
      "outputs": []
    },
    {
      "cell_type": "code",
      "source": [
        "data['label'] = data[LABEL_TO_CLASSIFY].astype(int)"
      ],
      "metadata": {
        "id": "3fbc78lNtp9r"
      },
      "execution_count": 14,
      "outputs": []
    },
    {
      "cell_type": "code",
      "metadata": {
        "id": "FpnSK2WBjESG"
      },
      "source": [
        "# Split dataset into train, validation, and test sets\n",
        "\n",
        "# X_train, temp_text, y_train, temp_labels = train_test_split(data['text'], data['label'], \n",
        "#                                                                     random_state=2020, \n",
        "#                                                                     test_size=0.25,\n",
        "#                                                                     stratify=data['label'])\n",
        "\n",
        "# # we will use temp_text and temp_labels to create validation and test set\n",
        "# X_val, test_text, y_val, test_labels = train_test_split(temp_text, temp_labels, \n",
        "#                                                                 random_state=2020, \n",
        "#                                                                 test_size=0.5,\n",
        "#                                                                 stratify=temp_labels)\n",
        "\n",
        "X_train, temp_text, y_train, temp_labels = train_test_split(data['tweet'], data['label'], \n",
        "                                                                    random_state=2020, \n",
        "                                                                    test_size=0.25)\n",
        "\n",
        "# we will use temp_text and temp_labels to create validation and test set\n",
        "X_val, test_text, y_val, test_labels = train_test_split(temp_text, temp_labels, \n",
        "                                                                random_state=2020, \n",
        "                                                                test_size=0.5)"
      ],
      "execution_count": 15,
      "outputs": []
    },
    {
      "cell_type": "code",
      "metadata": {
        "id": "2FOnxtpPkxWt",
        "colab": {
          "base_uri": "https://localhost:8080/"
        },
        "outputId": "6b8b1c21-dfa1-414c-d31c-824eb1dcad04"
      },
      "source": [
        "# Load the BERT tokenizer\n",
        "tokenizer = AutoTokenizer.from_pretrained(\"vinai/bertweet-base\", normalization=True)\n",
        "# tokenizer = BertTokenizer.from_pretrained('bert-base-cased', do_lower_case=False)\n",
        "# tokenizer = RobertaTokenizer.from_pretrained(\"roberta-base\", do_lower_case=False)\n",
        "\n",
        "# Create a function to tokenize a set of texts\n",
        "def preprocessing_for_bert(data):\n",
        "    \"\"\"Perform required preprocessing steps for pretrained BERT.\n",
        "    @param    data (np.array): Array of texts to be processed.\n",
        "    @return   input_ids (torch.Tensor): Tensor of token ids to be fed to a model.\n",
        "    @return   attention_masks (torch.Tensor): Tensor of indices specifying which\n",
        "                  tokens should be attended to by the model.\n",
        "    \"\"\"\n",
        "    # Create empty lists to store outputs\n",
        "    input_ids = []\n",
        "    attention_masks = []\n",
        "\n",
        "    # For every sentence...\n",
        "    for sent in data:\n",
        "        # `encode_plus` will:\n",
        "        #    (1) Tokenize the sentence\n",
        "        #    (2) Add the `[CLS]` and `[SEP]` token to the start and end\n",
        "        #    (3) Truncate/Pad sentence to max length\n",
        "        #    (4) Map tokens to their IDs\n",
        "        #    (5) Create attention mask\n",
        "        #    (6) Return a dictionary of outputs\n",
        "        encoded_sent = tokenizer.encode_plus(\n",
        "            text=sent,\n",
        "            add_special_tokens=True,        # Add `[CLS]` and `[SEP]`\n",
        "            max_length=MAX_LEN,                  # Max length to truncate/pad\n",
        "            pad_to_max_length=True,         # Pad sentence to max length\n",
        "            #return_tensors='pt',           # Return PyTorch tensor\n",
        "            return_attention_mask=True      # Return attention mask\n",
        "            )\n",
        "        \n",
        "        # Add the outputs to the lists\n",
        "        input_ids.append(encoded_sent.get('input_ids'))\n",
        "        attention_masks.append(encoded_sent.get('attention_mask'))\n",
        "\n",
        "    # Convert lists to tensors\n",
        "    input_ids = torch.tensor(input_ids)\n",
        "    attention_masks = torch.tensor(attention_masks)\n",
        "\n",
        "    return input_ids, attention_masks"
      ],
      "execution_count": 16,
      "outputs": [
        {
          "output_type": "stream",
          "name": "stderr",
          "text": [
            "Special tokens have been added in the vocabulary, make sure the associated word embeddings are fine-tuned or trained.\n"
          ]
        }
      ]
    },
    {
      "cell_type": "code",
      "metadata": {
        "id": "bf0MGhN2k-8M",
        "colab": {
          "base_uri": "https://localhost:8080/",
          "height": 463
        },
        "outputId": "49c166ce-5218-4e53-bc21-bf2585dd1999"
      },
      "source": [
        "# Analyze post lengths after processing. This block is not required.\n",
        "\n",
        "all_posts = data['tweet']\n",
        "\n",
        "# Encode our concatenated data\n",
        "encoded_posts = [tokenizer.encode(sent, add_special_tokens=True) for sent in all_posts]\n",
        "\n",
        "# get length of all the messages in the train set\n",
        "seq_len = [len(i) for i in encoded_posts]\n",
        "\n",
        "print(\"\\nLength of encoded posts:\")\n",
        "pd.Series(seq_len).hist(bins = 30)\n",
        "\n",
        "pd.Series(seq_len).describe()"
      ],
      "execution_count": 17,
      "outputs": [
        {
          "output_type": "stream",
          "name": "stdout",
          "text": [
            "\n",
            "Length of encoded posts:\n"
          ]
        },
        {
          "output_type": "execute_result",
          "data": {
            "text/plain": [
              "count    1734.000000\n",
              "mean       24.573818\n",
              "std        13.186488\n",
              "min         4.000000\n",
              "25%        15.000000\n",
              "50%        22.000000\n",
              "75%        31.750000\n",
              "max        91.000000\n",
              "dtype: float64"
            ]
          },
          "metadata": {},
          "execution_count": 17
        },
        {
          "output_type": "display_data",
          "data": {
            "text/plain": [
              "<Figure size 432x288 with 1 Axes>"
            ],
            "image/png": "[encoded data removed]"
          },
          "metadata": {
            "needs_background": "light"
          }
        }
      ]
    },
    {
      "cell_type": "code",
      "metadata": {
        "id": "7FcudmvtlDUV",
        "colab": {
          "base_uri": "https://localhost:8080/"
        },
        "outputId": "80e98c8f-b177-445d-aa3a-d3b277f2ad07"
      },
      "source": [
        "# Specify `MAX_LEN`\n",
        "MAX_LEN = 130\n",
        "\n",
        "# Print sentence 1 and its encoded token ids\n",
        "token_ids = list(preprocessing_for_bert([X_train[0]])[0].squeeze().numpy())\n",
        "print('Original: ', X_train[0])\n",
        "print('Token IDs: ', token_ids)\n",
        "\n",
        "# Run function `preprocessing_for_bert` on the train set and the validation set\n",
        "print('Tokenizing data...')\n",
        "train_inputs, train_masks = preprocessing_for_bert(X_train)\n",
        "val_inputs, val_masks = preprocessing_for_bert(X_val)\n",
        "\n",
        "# Run `preprocessing_for_bert` on the test set\n",
        "print('Tokenizing data...')\n",
        "test_inputs, test_masks = preprocessing_for_bert(test_text)\n",
        "\n"
      ],
      "execution_count": 18,
      "outputs": [
        {
          "output_type": "stream",
          "name": "stderr",
          "text": [
            "Truncation was not explicitly activated but `max_length` is provided a specific value, please use `truncation=True` to explicitly truncate examples to max length. Defaulting to 'longest_first' truncation strategy. If you encode pairs of sequences (GLUE-style) with the tokenizer you can select this strategy more precisely by providing a specific strategy to `truncation`.\n",
            "/usr/local/lib/python3.7/dist-packages/transformers/tokenization_utils_base.py:2269: FutureWarning: The `pad_to_max_length` argument is deprecated and will be removed in a future version, use `padding=True` or `padding='longest'` to pad to the longest sequence in the batch, or use `padding='max_length'` to pad to a max length. In this case, you can give a specific length with `max_length` (e.g. `max_length=45`) or leave max_length to None to pad to the maximal input size of the model (e.g. 512 for Bert).\n",
            "  FutureWarning,\n"
          ]
        },
        {
          "output_type": "stream",
          "name": "stdout",
          "text": [
            "Original:  The only thing I got from college is a caffeine addiction\n",
            "Token IDs:  [0, 47, 121, 195, 8, 100, 53, 1023, 17, 11, 18322, 9064, 2, 1, 1, 1, 1, 1, 1, 1, 1, 1, 1, 1, 1, 1, 1, 1, 1, 1, 1, 1, 1, 1, 1, 1, 1, 1, 1, 1, 1, 1, 1, 1, 1, 1, 1, 1, 1, 1, 1, 1, 1, 1, 1, 1, 1, 1, 1, 1, 1, 1, 1, 1, 1, 1, 1, 1, 1, 1, 1, 1, 1, 1, 1, 1, 1, 1, 1, 1, 1, 1, 1, 1, 1, 1, 1, 1, 1, 1, 1, 1, 1, 1, 1, 1, 1, 1, 1, 1, 1, 1, 1, 1, 1, 1, 1, 1, 1, 1, 1, 1, 1, 1, 1, 1, 1, 1, 1, 1, 1, 1, 1, 1, 1, 1, 1, 1, 1, 1]\n",
            "Tokenizing data...\n",
            "Tokenizing data...\n"
          ]
        }
      ]
    },
    {
      "cell_type": "markdown",
      "source": [
        "# Create dataloaders"
      ],
      "metadata": {
        "id": "JEOvUl8Wi7_g"
      }
    },
    {
      "cell_type": "code",
      "metadata": {
        "id": "v-GcEK4ZlM5T"
      },
      "source": [
        "from torch.utils.data import TensorDataset, DataLoader, RandomSampler, SequentialSampler\n",
        "\n",
        "# Convert other data types to torch.Tensor\n",
        "train_labels = torch.tensor(y_train.values)\n",
        "val_labels = torch.tensor(y_val.values)\n",
        "\n",
        "# For fine-tuning BERT, the authors recommend a batch size of 16 or 32.\n",
        "batch_size = 32\n",
        "\n",
        "# Create the DataLoader for our training set\n",
        "train_data = TensorDataset(train_inputs, train_masks, train_labels)\n",
        "train_sampler = RandomSampler(train_data)\n",
        "train_dataloader = DataLoader(train_data, sampler=train_sampler, batch_size=batch_size)\n",
        "\n",
        "# Create the DataLoader for our validation set\n",
        "val_data = TensorDataset(val_inputs, val_masks, val_labels)\n",
        "val_sampler = SequentialSampler(val_data)\n",
        "val_dataloader = DataLoader(val_data, sampler=val_sampler, batch_size=batch_size)\n",
        "\n",
        "# Create the DataLoader for our test set\n",
        "test_dataset = TensorDataset(test_inputs, test_masks)\n",
        "test_sampler = SequentialSampler(test_dataset)\n",
        "test_dataloader = DataLoader(test_dataset, sampler=test_sampler, batch_size=32)"
      ],
      "execution_count": 19,
      "outputs": []
    },
    {
      "cell_type": "markdown",
      "source": [
        "# Define model class"
      ],
      "metadata": {
        "id": "X4zmPtVQjF6D"
      }
    },
    {
      "cell_type": "code",
      "metadata": {
        "id": "PNpW1NyHlUkT"
      },
      "source": [
        "class BertClassifier(nn.Module):\n",
        "    \"\"\"Bert Model for Classification Tasks.\n",
        "    \"\"\"\n",
        "    def __init__(self, freeze_bert=False):\n",
        "        \"\"\"\n",
        "        @param    bert: a BertModel object\n",
        "        @param    classifier: a torch.nn.Module classifier\n",
        "        @param    freeze_bert (bool): Set `False` to fine-tune the BERT model\n",
        "        \"\"\"\n",
        "        super(BertClassifier, self).__init__()\n",
        "        # Specify hidden size of BERT, hidden size of our classifier, and number of labels\n",
        "        D_in, H, D_out = 768, 50, 2\n",
        "\n",
        "        # Instantiate BERT model\n",
        "        # self.bert = RobertaModel.from_pretrained('roberta-base')\n",
        "        # self.bert = BertModel.from_pretrained('bert-base-cased')\n",
        "        self.bert = AutoModel.from_pretrained(\"vinai/bertweet-base\")\n",
        "\n",
        "        # Instantiate an one-layer feed-forward classifier\n",
        "        self.classifier = nn.Sequential(\n",
        "            nn.Linear(D_in, H),\n",
        "            nn.ReLU(),\n",
        "            nn.Dropout(0.33),\n",
        "            nn.Linear(H, D_out)\n",
        "        )\n",
        "\n",
        "        # Freeze the BERT model\n",
        "        if freeze_bert:\n",
        "            for param in self.bert.parameters():\n",
        "                param.requires_grad = False\n",
        "        \n",
        "    def forward(self, input_ids, attention_mask):\n",
        "        \"\"\"\n",
        "        Feed input to BERT and the classifier to compute logits.\n",
        "        @param    input_ids (torch.Tensor): an input tensor with shape (batch_size,\n",
        "                      max_length)\n",
        "        @param    attention_mask (torch.Tensor): a tensor that hold attention mask\n",
        "                      information with shape (batch_size, max_length)\n",
        "        @return   logits (torch.Tensor): an output tensor with shape (batch_size,\n",
        "                      num_labels)\n",
        "        \"\"\"\n",
        "        # Feed input to BERT\n",
        "        outputs = self.bert(input_ids=input_ids,\n",
        "                            attention_mask=attention_mask)\n",
        "        \n",
        "        # Extract the last hidden state of the token `[CLS]` for classification task\n",
        "        last_hidden_state_cls = outputs[0][:, 0, :]\n",
        "\n",
        "        # Feed input to classifier to compute logits\n",
        "        logits = self.classifier(last_hidden_state_cls)\n",
        "\n",
        "        return logits"
      ],
      "execution_count": 20,
      "outputs": []
    },
    {
      "cell_type": "code",
      "metadata": {
        "id": "uzyKG7FmlZnc"
      },
      "source": [
        "def initialize_model(epochs=5):\n",
        "    \"\"\"Initialize the Bert Classifier, the optimizer and the learning rate scheduler.\n",
        "    \"\"\"\n",
        "    # Instantiate Bert Classifier\n",
        "    bert_classifier = BertClassifier(freeze_bert=False)\n",
        "\n",
        "    # Tell PyTorch to run the model on GPU\n",
        "    bert_classifier.to(device)\n",
        "\n",
        "    # Create the optimizer\n",
        "    optimizer = AdamW(bert_classifier.parameters(),\n",
        "                      lr=5e-5,    # Default learning rate is 1e-3\n",
        "                      eps=1e-8,    # Default epsilon value is 1e-6\n",
        "                      weight_decay=.01\n",
        "                      )\n",
        "   \n",
        "    # Total number of training steps\n",
        "    total_steps = len(train_dataloader) * epochs\n",
        "\n",
        "    # Set up the learning rate scheduler\n",
        "    scheduler = get_linear_schedule_with_warmup(optimizer,\n",
        "                                                num_warmup_steps=0, # Default value\n",
        "                                                num_training_steps=total_steps)\n",
        "    return bert_classifier, optimizer, scheduler"
      ],
      "execution_count": 21,
      "outputs": []
    },
    {
      "cell_type": "markdown",
      "source": [
        "# Define training and evaluation loops"
      ],
      "metadata": {
        "id": "eV2hf43bjj-H"
      }
    },
    {
      "cell_type": "code",
      "metadata": {
        "id": "dfQI_6cflcLU"
      },
      "source": [
        "# Specify loss function\n",
        "loss_fn = nn.CrossEntropyLoss()\n",
        "\n",
        "def set_seed(seed_value=42):\n",
        "    \"\"\"Set seed for reproducibility.\n",
        "    \"\"\"\n",
        "    random.seed(seed_value)\n",
        "    np.random.seed(seed_value)\n",
        "    torch.manual_seed(seed_value)\n",
        "    torch.cuda.manual_seed_all(seed_value)\n",
        "\n",
        "def train(model, train_dataloader, val_dataloader=None, epochs=4, evaluation=False):\n",
        "    \"\"\"Train the BertClassifier model.\n",
        "    \"\"\"\n",
        "    # Start training loop\n",
        "    print(\"Start training...\\n\")\n",
        "    for epoch_i in range(epochs):\n",
        "        # =======================================\n",
        "        #               Training\n",
        "        # =======================================\n",
        "        # Print the header of the result table\n",
        "        print(f\"{'Epoch':^7} | {'Batch':^7} | {'Train Loss':^12} | {'Val Loss':^10} | {'Val Acc':^9} | {'Elapsed':^9}\")\n",
        "        print(\"-\"*70)\n",
        "\n",
        "        # Measure the elapsed time of each epoch\n",
        "        t0_epoch, t0_batch = time.time(), time.time()\n",
        "\n",
        "        # Reset tracking variables at the beginning of each epoch\n",
        "        total_loss, batch_loss, batch_counts = 0, 0, 0\n",
        "\n",
        "        # Put the model into the training mode\n",
        "        model.train()\n",
        "\n",
        "        # For each batch of training data...\n",
        "        for step, batch in enumerate(train_dataloader):\n",
        "            batch_counts +=1\n",
        "            # Load batch to GPU\n",
        "            b_input_ids, b_attn_mask, b_labels = tuple(t.to(device) for t in batch)\n",
        "\n",
        "            # Zero out any previously calculated gradients\n",
        "            model.zero_grad()\n",
        "\n",
        "            # Perform a forward pass. This will return logits.\n",
        "            logits = model(b_input_ids, b_attn_mask)\n",
        "\n",
        "            # Compute loss and accumulate the loss values\n",
        "            loss = loss_fn(logits, b_labels)\n",
        "            batch_loss += loss.item()\n",
        "            total_loss += loss.item()\n",
        "\n",
        "            # Perform a backward pass to calculate gradients\n",
        "            loss.backward()\n",
        "\n",
        "            # Clip the norm of the gradients to 1.0 to prevent \"exploding gradients\"\n",
        "            torch.nn.utils.clip_grad_norm_(model.parameters(), 1.0)\n",
        "\n",
        "            # Update parameters and the learning rate\n",
        "            optimizer.step()\n",
        "            scheduler.step()\n",
        "\n",
        "            # Print the loss values and time elapsed for every 20 batches\n",
        "            if (step % 20 == 0 and step != 0) or (step == len(train_dataloader) - 1):\n",
        "                # Calculate time elapsed for 20 batches\n",
        "                time_elapsed = time.time() - t0_batch\n",
        "\n",
        "                # Print training results\n",
        "                print(f\"{epoch_i + 1:^7} | {step:^7} | {batch_loss / batch_counts:^12.6f} | {'-':^10} | {'-':^9} | {time_elapsed:^9.2f}\")\n",
        "\n",
        "                # Reset batch tracking variables\n",
        "                batch_loss, batch_counts = 0, 0\n",
        "                t0_batch = time.time()\n",
        "\n",
        "        # Calculate the average loss over the entire training data\n",
        "        avg_train_loss = total_loss / len(train_dataloader)\n",
        "\n",
        "        print(\"-\"*70)\n",
        "        # =======================================\n",
        "        #               Evaluation\n",
        "        # =======================================\n",
        "        if evaluation == True:\n",
        "            # After the completion of each training epoch, measure the model's performance\n",
        "            # on our validation set.\n",
        "            val_loss, val_accuracy = evaluate(model, val_dataloader)\n",
        "\n",
        "            # Print performance over the entire training data\n",
        "            time_elapsed = time.time() - t0_epoch\n",
        "            \n",
        "            print(f\"{epoch_i + 1:^7} | {'-':^7} | {avg_train_loss:^12.6f} | {val_loss:^10.6f} | {val_accuracy:^9.2f} | {time_elapsed:^9.2f}\")\n",
        "            print(\"-\"*70)\n",
        "        print(\"\\n\")\n",
        "    \n",
        "    print(\"Training complete!\")\n",
        "\n",
        "\n",
        "def evaluate(model, val_dataloader):\n",
        "    \"\"\"After the completion of each training epoch, measure the model's performance\n",
        "    on our validation set.\n",
        "    \"\"\"\n",
        "    # Put the model into the evaluation mode. The dropout layers are disabled during\n",
        "    # the test time.\n",
        "    model.eval()\n",
        "\n",
        "    # Tracking variables\n",
        "    val_accuracy = []\n",
        "    val_loss = []\n",
        "\n",
        "    # For each batch in our validation set...\n",
        "    for batch in val_dataloader:\n",
        "        # Load batch to GPU\n",
        "        b_input_ids, b_attn_mask, b_labels = tuple(t.to(device) for t in batch)\n",
        "\n",
        "        # Compute logits\n",
        "        with torch.no_grad():\n",
        "            logits = model(b_input_ids, b_attn_mask)\n",
        "\n",
        "        # Compute loss\n",
        "        loss = loss_fn(logits, b_labels)\n",
        "        val_loss.append(loss.item())\n",
        "\n",
        "        # Get the predictions\n",
        "        preds = torch.argmax(logits, dim=1).flatten()\n",
        "\n",
        "        # Calculate the accuracy rate\n",
        "        accuracy = (preds == b_labels).cpu().numpy().mean() * 100\n",
        "        val_accuracy.append(accuracy)\n",
        "\n",
        "    # Compute the average accuracy and loss over the validation set.\n",
        "    val_loss = np.mean(val_loss)\n",
        "    val_accuracy = np.mean(val_accuracy)\n",
        "\n",
        "    return val_loss, val_accuracy"
      ],
      "execution_count": 22,
      "outputs": []
    },
    {
      "cell_type": "code",
      "metadata": {
        "id": "WXyU05lBjxIG"
      },
      "source": [
        "# AUC/Accuracy evaluation function\n",
        "\n",
        "from sklearn.metrics import accuracy_score, roc_curve, auc\n",
        "\n",
        "def evaluate_roc(probs, y_true):\n",
        "    \"\"\"\n",
        "    - Print AUC and accuracy on the test set\n",
        "    - Plot ROC\n",
        "    @params    probs (np.array): an array of predicted probabilities with shape (len(y_true), 2)\n",
        "    @params    y_true (np.array): an array of the true values with shape (len(y_true),)\n",
        "    \"\"\"\n",
        "    preds = probs[:, 1]\n",
        "    fpr, tpr, threshold = roc_curve(y_true, preds)\n",
        "    roc_auc = auc(fpr, tpr)\n",
        "    print(f'AUC: {roc_auc:.4f}')\n",
        "       \n",
        "    # Get accuracy over the test set\n",
        "    y_pred = np.where(preds >= 0.5, 1, 0)\n",
        "    accuracy = accuracy_score(y_true, y_pred)\n",
        "    print(f'Accuracy: {accuracy*100:.2f}%')\n",
        "    \n",
        "    # Plot ROC AUC\n",
        "    plt.title('Receiver Operating Characteristic')\n",
        "    plt.plot(fpr, tpr, 'b', label = 'AUC = %0.2f' % roc_auc)\n",
        "    plt.legend(loc = 'lower right')\n",
        "    plt.plot([0, 1], [0, 1],'r--')\n",
        "    plt.xlim([0, 1])\n",
        "    plt.ylim([0, 1])\n",
        "    plt.ylabel('True Positive Rate')\n",
        "    plt.xlabel('False Positive Rate')\n",
        "    plt.show()"
      ],
      "execution_count": 23,
      "outputs": []
    },
    {
      "cell_type": "markdown",
      "source": [
        "# Train model"
      ],
      "metadata": {
        "id": "OU1yfUNCkNfk"
      }
    },
    {
      "cell_type": "code",
      "metadata": {
        "id": "ZSlg5lXblmH6",
        "colab": {
          "base_uri": "https://localhost:8080/"
        },
        "outputId": "2b28e449-299f-4b73-a2f0-87df11c1f899"
      },
      "source": [
        "set_seed(42)    # Set seed for reproducibility\n",
        "EPOCHS = 5\n",
        "\n",
        "bert_classifier, optimizer, scheduler = initialize_model(epochs=EPOCHS)\n",
        "train(bert_classifier, train_dataloader, val_dataloader, epochs=EPOCHS, evaluation=True)"
      ],
      "execution_count": 24,
      "outputs": [
        {
          "output_type": "stream",
          "name": "stderr",
          "text": [
            "Some weights of the model checkpoint at vinai/bertweet-base were not used when initializing RobertaModel: ['lm_head.bias', 'lm_head.layer_norm.weight', 'lm_head.layer_norm.bias', 'lm_head.decoder.bias', 'lm_head.dense.weight', 'lm_head.dense.bias', 'lm_head.decoder.weight']\n",
            "- This IS expected if you are initializing RobertaModel from the checkpoint of a model trained on another task or with another architecture (e.g. initializing a BertForSequenceClassification model from a BertForPreTraining model).\n",
            "- This IS NOT expected if you are initializing RobertaModel from the checkpoint of a model that you expect to be exactly identical (initializing a BertForSequenceClassification model from a BertForSequenceClassification model).\n",
            "/usr/local/lib/python3.7/dist-packages/transformers/optimization.py:309: FutureWarning: This implementation of AdamW is deprecated and will be removed in a future version. Use the PyTorch implementation torch.optim.AdamW instead, or set `no_deprecation_warning=True` to disable this warning\n",
            "  FutureWarning,\n"
          ]
        },
        {
          "output_type": "stream",
          "name": "stdout",
          "text": [
            "Start training...\n",
            "\n",
            " Epoch  |  Batch  |  Train Loss  |  Val Loss  |  Val Acc  |  Elapsed \n",
            "----------------------------------------------------------------------\n",
            "   1    |   20    |   0.692539   |     -      |     -     |   8.71   \n",
            "   1    |   40    |   0.690494   |     -      |     -     |   8.12   \n",
            "----------------------------------------------------------------------\n",
            "   1    |    -    |   0.691541   |  0.691570  |   51.50   |   17.74  \n",
            "----------------------------------------------------------------------\n",
            "\n",
            "\n",
            " Epoch  |  Batch  |  Train Loss  |  Val Loss  |  Val Acc  |  Elapsed \n",
            "----------------------------------------------------------------------\n",
            "   2    |   20    |   0.683925   |     -      |     -     |   8.65   \n",
            "   2    |   40    |   0.687951   |     -      |     -     |   8.12   \n",
            "----------------------------------------------------------------------\n",
            "   2    |    -    |   0.685889   |  0.694813  |   53.73   |   17.69  \n",
            "----------------------------------------------------------------------\n",
            "\n",
            "\n",
            " Epoch  |  Batch  |  Train Loss  |  Val Loss  |  Val Acc  |  Elapsed \n",
            "----------------------------------------------------------------------\n",
            "   3    |   20    |   0.687121   |     -      |     -     |   8.65   \n",
            "   3    |   40    |   0.657042   |     -      |     -     |   8.12   \n",
            "----------------------------------------------------------------------\n",
            "   3    |    -    |   0.672448   |  0.665978  |   57.88   |   17.69  \n",
            "----------------------------------------------------------------------\n",
            "\n",
            "\n",
            " Epoch  |  Batch  |  Train Loss  |  Val Loss  |  Val Acc  |  Elapsed \n",
            "----------------------------------------------------------------------\n",
            "   4    |   20    |   0.634861   |     -      |     -     |   8.65   \n",
            "   4    |   40    |   0.582395   |     -      |     -     |   8.11   \n",
            "----------------------------------------------------------------------\n",
            "   4    |    -    |   0.609268   |  0.608358  |   68.07   |   17.69  \n",
            "----------------------------------------------------------------------\n",
            "\n",
            "\n",
            " Epoch  |  Batch  |  Train Loss  |  Val Loss  |  Val Acc  |  Elapsed \n",
            "----------------------------------------------------------------------\n",
            "   5    |   20    |   0.522791   |     -      |     -     |   8.65   \n",
            "   5    |   40    |   0.531859   |     -      |     -     |   8.12   \n",
            "----------------------------------------------------------------------\n",
            "   5    |    -    |   0.527214   |  0.601657  |   71.32   |   17.69  \n",
            "----------------------------------------------------------------------\n",
            "\n",
            "\n",
            "Training complete!\n"
          ]
        }
      ]
    },
    {
      "cell_type": "markdown",
      "source": [
        "# Define predictor function"
      ],
      "metadata": {
        "id": "q3kYsL6T3Q8g"
      }
    },
    {
      "cell_type": "code",
      "metadata": {
        "id": "MzFc_hBloDW5"
      },
      "source": [
        "def bert_predict(model, test_dataloader):\n",
        "    \"\"\"Perform a forward pass on the trained BERT model to predict probabilities\n",
        "    on the test set.\n",
        "    \"\"\"\n",
        "    # Put the model into the evaluation mode. The dropout layers are disabled during\n",
        "    # the test time.\n",
        "    model.eval()\n",
        "\n",
        "    all_logits = []\n",
        "\n",
        "    # For each batch in our test set...\n",
        "    for batch in test_dataloader:\n",
        "        # Load batch to GPU\n",
        "        b_input_ids, b_attn_mask = tuple(t.to(device) for t in batch)[:2]\n",
        "\n",
        "        # Compute logits\n",
        "        with torch.no_grad():\n",
        "            logits = model(b_input_ids, b_attn_mask)\n",
        "        all_logits.append(logits)\n",
        "    \n",
        "    # Concatenate logits from each batch\n",
        "    all_logits = torch.cat(all_logits, dim=0)\n",
        "\n",
        "    # Apply softmax to calculate probabilities\n",
        "    probs = F.softmax(all_logits, dim=1).cpu().numpy()\n",
        "\n",
        "    return probs"
      ],
      "execution_count": 25,
      "outputs": []
    },
    {
      "cell_type": "code",
      "metadata": {
        "id": "ZkpDGcR6oFWp",
        "colab": {
          "base_uri": "https://localhost:8080/",
          "height": 331
        },
        "outputId": "fb309c2a-8e0e-448a-9cb9-f2e5fa5f7484"
      },
      "source": [
        "# Compute predicted probabilities on the test set\n",
        "probs = bert_predict(bert_classifier, val_dataloader)\n",
        "\n",
        "# Evaluate the Bert classifier\n",
        "evaluate_roc(probs, y_val)"
      ],
      "execution_count": 26,
      "outputs": [
        {
          "output_type": "stream",
          "name": "stdout",
          "text": [
            "AUC: 0.7335\n",
            "Accuracy: 71.43%\n"
          ]
        },
        {
          "output_type": "display_data",
          "data": {
            "text/plain": [
              "<Figure size 432x288 with 1 Axes>"
            ],
            "image/png": "[encoded data removed]"
          },
          "metadata": {
            "needs_background": "light"
          }
        }
      ]
    },
    {
      "cell_type": "code",
      "source": [
        "# Compute predicted probabilities on the validation set\n",
        "probs = bert_predict(bert_classifier, val_dataloader)\n",
        "\n",
        "# Get predictions from the probabilities\n",
        "preds = np.argmax(probs, axis = 1)\n",
        "\n",
        "# Number of tweets predicted non-negative\n",
        "print(\"Number of posts predicted non-negative: \", preds.sum())"
      ],
      "metadata": {
        "id": "YHHytMx1X5j2",
        "colab": {
          "base_uri": "https://localhost:8080/"
        },
        "outputId": "c4e651d3-3d99-48a0-ede3-475732d4b56a"
      },
      "execution_count": 27,
      "outputs": [
        {
          "output_type": "stream",
          "name": "stdout",
          "text": [
            "Number of posts predicted non-negative:  82\n"
          ]
        }
      ]
    },
    {
      "cell_type": "code",
      "source": [
        "from sklearn.metrics import classification_report\n",
        "# preds = np.argmax(preds, axis = 1)\n",
        "print(classification_report(y_val, preds))"
      ],
      "metadata": {
        "id": "DoHdTjWAYCF7",
        "colab": {
          "base_uri": "https://localhost:8080/"
        },
        "outputId": "d2bb6ef3-c964-4cc7-88a8-357b2961c49b"
      },
      "execution_count": 28,
      "outputs": [
        {
          "output_type": "stream",
          "name": "stdout",
          "text": [
            "              precision    recall  f1-score   support\n",
            "\n",
            "           0       0.68      0.83      0.75       111\n",
            "           1       0.77      0.59      0.67       106\n",
            "\n",
            "    accuracy                           0.71       217\n",
            "   macro avg       0.72      0.71      0.71       217\n",
            "weighted avg       0.72      0.71      0.71       217\n",
            "\n"
          ]
        }
      ]
    },
    {
      "cell_type": "markdown",
      "source": [
        "# Re-train on combined train and validation data"
      ],
      "metadata": {
        "id": "sckn4AeBkhCb"
      }
    },
    {
      "cell_type": "code",
      "metadata": {
        "id": "xvyugfFaoLL-",
        "colab": {
          "base_uri": "https://localhost:8080/"
        },
        "outputId": "ce9b87cd-a2a7-49d8-d292-af6cc58bc548"
      },
      "source": [
        "# Concatenate the train set and the validation set\n",
        "full_train_data = torch.utils.data.ConcatDataset([train_data, val_data])\n",
        "full_train_sampler = RandomSampler(full_train_data)\n",
        "full_train_dataloader = DataLoader(full_train_data, sampler=full_train_sampler, batch_size=32)\n",
        "\n",
        "# Train the Bert Classifier on the entire training data\n",
        "set_seed(42)\n",
        "bert_classifier, optimizer, scheduler = initialize_model(epochs=EPOCHS)\n",
        "train(bert_classifier, full_train_dataloader, epochs=EPOCHS)"
      ],
      "execution_count": 29,
      "outputs": [
        {
          "output_type": "stream",
          "name": "stderr",
          "text": [
            "Some weights of the model checkpoint at vinai/bertweet-base were not used when initializing RobertaModel: ['lm_head.bias', 'lm_head.layer_norm.weight', 'lm_head.layer_norm.bias', 'lm_head.decoder.bias', 'lm_head.dense.weight', 'lm_head.dense.bias', 'lm_head.decoder.weight']\n",
            "- This IS expected if you are initializing RobertaModel from the checkpoint of a model trained on another task or with another architecture (e.g. initializing a BertForSequenceClassification model from a BertForPreTraining model).\n",
            "- This IS NOT expected if you are initializing RobertaModel from the checkpoint of a model that you expect to be exactly identical (initializing a BertForSequenceClassification model from a BertForSequenceClassification model).\n",
            "/usr/local/lib/python3.7/dist-packages/transformers/optimization.py:309: FutureWarning: This implementation of AdamW is deprecated and will be removed in a future version. Use the PyTorch implementation torch.optim.AdamW instead, or set `no_deprecation_warning=True` to disable this warning\n",
            "  FutureWarning,\n"
          ]
        },
        {
          "output_type": "stream",
          "name": "stdout",
          "text": [
            "Start training...\n",
            "\n",
            " Epoch  |  Batch  |  Train Loss  |  Val Loss  |  Val Acc  |  Elapsed \n",
            "----------------------------------------------------------------------\n",
            "   1    |   20    |   0.693738   |     -      |     -     |   8.65   \n",
            "   1    |   40    |   0.683547   |     -      |     -     |   8.24   \n",
            "   1    |   47    |   0.678827   |     -      |     -     |   2.67   \n",
            "----------------------------------------------------------------------\n",
            "\n",
            "\n",
            " Epoch  |  Batch  |  Train Loss  |  Val Loss  |  Val Acc  |  Elapsed \n",
            "----------------------------------------------------------------------\n",
            "   2    |   20    |   0.606902   |     -      |     -     |   8.65   \n",
            "   2    |   40    |   0.571096   |     -      |     -     |   8.24   \n",
            "   2    |   47    |   0.551596   |     -      |     -     |   2.67   \n",
            "----------------------------------------------------------------------\n",
            "\n",
            "\n",
            " Epoch  |  Batch  |  Train Loss  |  Val Loss  |  Val Acc  |  Elapsed \n",
            "----------------------------------------------------------------------\n",
            "   3    |   20    |   0.449453   |     -      |     -     |   8.66   \n",
            "   3    |   40    |   0.465315   |     -      |     -     |   8.24   \n",
            "   3    |   47    |   0.398185   |     -      |     -     |   2.66   \n",
            "----------------------------------------------------------------------\n",
            "\n",
            "\n",
            " Epoch  |  Batch  |  Train Loss  |  Val Loss  |  Val Acc  |  Elapsed \n",
            "----------------------------------------------------------------------\n",
            "   4    |   20    |   0.332436   |     -      |     -     |   8.65   \n",
            "   4    |   40    |   0.323856   |     -      |     -     |   8.24   \n",
            "   4    |   47    |   0.336335   |     -      |     -     |   2.67   \n",
            "----------------------------------------------------------------------\n",
            "\n",
            "\n",
            " Epoch  |  Batch  |  Train Loss  |  Val Loss  |  Val Acc  |  Elapsed \n",
            "----------------------------------------------------------------------\n",
            "   5    |   20    |   0.287894   |     -      |     -     |   8.65   \n",
            "   5    |   40    |   0.284569   |     -      |     -     |   8.24   \n",
            "   5    |   47    |   0.245541   |     -      |     -     |   2.67   \n",
            "----------------------------------------------------------------------\n",
            "\n",
            "\n",
            "Training complete!\n"
          ]
        }
      ]
    },
    {
      "cell_type": "code",
      "metadata": {
        "id": "adsJWvIfnxcj",
        "colab": {
          "base_uri": "https://localhost:8080/"
        },
        "outputId": "ea8e8f2e-5f20-47c6-c6aa-bbb7b9b3bf09"
      },
      "source": [
        "# Compute predicted probabilities on the test set\n",
        "probs = bert_predict(bert_classifier, test_dataloader)\n",
        "\n",
        "# Get predictions from the probabilities\n",
        "preds = np.argmax(probs, axis = 1)\n",
        "\n",
        "# Number of tweets predicted non-negative\n",
        "print(\"Number of posts predicted non-negative: \", preds.sum())"
      ],
      "execution_count": 30,
      "outputs": [
        {
          "output_type": "stream",
          "name": "stdout",
          "text": [
            "Number of posts predicted non-negative:  104\n"
          ]
        }
      ]
    },
    {
      "cell_type": "code",
      "source": [
        "from sklearn.metrics import classification_report\n",
        "# preds = np.argmax(preds, axis = 1)\n",
        "print(classification_report(test_labels, preds))"
      ],
      "metadata": {
        "id": "3z6lqJvbu_NO",
        "colab": {
          "base_uri": "https://localhost:8080/"
        },
        "outputId": "4ba2affc-0860-4274-b206-cdb47ed69fa3"
      },
      "execution_count": 31,
      "outputs": [
        {
          "output_type": "stream",
          "name": "stdout",
          "text": [
            "              precision    recall  f1-score   support\n",
            "\n",
            "           0       0.69      0.72      0.71       108\n",
            "           1       0.71      0.68      0.69       109\n",
            "\n",
            "    accuracy                           0.70       217\n",
            "   macro avg       0.70      0.70      0.70       217\n",
            "weighted avg       0.70      0.70      0.70       217\n",
            "\n"
          ]
        }
      ]
    },
    {
      "cell_type": "code",
      "source": [
        "# output = test_text[preds==1]\n",
        "# list(output.sample(20))\n",
        "\n",
        "print('Incorrect negative predictions:\\n--------------------')\n",
        "for sent in test_text[(preds==0) & (test_labels.values==1)]:\n",
        "  print(sent)\n",
        "print()\n",
        "print('Incorrect positive predictions:\\n--------------------')\n",
        "for sent in test_text[(preds==1) & (test_labels.values==0)]:\n",
        "  print(sent)"
      ],
      "metadata": {
        "id": "04VxO1LEHS-S",
        "colab": {
          "base_uri": "https://localhost:8080/"
        },
        "outputId": "9da247a2-089f-4b59-8fa1-448c293a7c85"
      },
      "execution_count": 32,
      "outputs": [
        {
          "output_type": "stream",
          "name": "stdout",
          "text": [
            "Incorrect negative predictions:\n",
            "--------------------\n",
            "can't wait to cop tickets to see the cracker quartet\n",
            "@kmflett And with a plentiful supply of rhubarb.\n",
            "I find it hilarious that ‘black and white’ or ‘all or nothing’ thinking is considered a cognitive distortion and is a symptom of several disorders, and yet it remains a pillar of American (and Western) culture.\r\n",
            "\r\n",
            "It’s almost like…. our culture is toxic 🤔\n",
            "Hearing Kendrick Perkins refer to Alec Burks as Alecs Burk like he’s attorneys general &gt;&gt;&gt;&gt;\n",
            "Lil Pump is the Nelson Mandela of our generation\n",
            "Don't let people walk all over you. Or breathe on you. Either one.\n",
            "Watched 127 hours... Kinda reminded me of this one time I got a bad splinter. Writing a book about it now, hit me up for an autographed copy\n",
            "Incredible scenes in Nottingham, as it begins to rain for the first time this hour.\n",
            "Wow great album from Kanye. v John Cage 4’43 vibes x\n",
            "ik the republicans r like tryna say they won but idk why they don’t just settle this w an instagram poll??\n",
            "Why are the side effects of antidepressants so ✨scary✨\n",
            "@DetroitPistons @PistonsGT Cade Cunningham is my favorite basketball player please 2K 🙏🙏🙏\n",
            "Being 20 years old and going to concerts with my mom means I can scream all the no-no lyrics bc iM aN aDuLt\n",
            "For a good laugh, follow me over on @vsheltonsports to see my best attempt at covering sports business news for class this semester.\n",
            "im about to just walk into a place and start working then and there and they'll have no choice but to hire me on the spot\n",
            "not to brag, but my thesis topic was so good that someone else published on it three months ago 🙃\n",
            "Keanu reeves is killing his role in ozark season 3\n",
            "In sunny spain at the moment!!! Hows it all in england?\n",
            "Update: holding hands with your mom and walking around campus also shows you're prepared for the independence college offers\n",
            "pay it forward is honestly one of the worst movies I've ever seen why would would anyone make an ending so sad I've been crying for 30 min\n",
            "why is the weather having a mid life crisis\n",
            "went to check out the bios of the (exclusively) hipster dudes that work in a rival boutique goods store and found out they all traveled internationally during the pandemic 🙃🙃🙃\n",
            "How is it possible that Sly Stallone’s ‘Cobra’ is both the best and the worst movie ever made?\n",
            "watching olympic womens beach volleyball for the plot\n",
            "People who think cancel culture goes too far never learned about excommunication\n",
            "omg my ships are gonna love what taylor swift has done for them\n",
            "@adi_jord agreed, this is ridiculous, gotta cop a pair\n",
            "Packing to move house, and currently wondering why I had to pick such a heavy hobby? Like, why did I have to pick reading? Books are so heavy, my back hurts. Why couldn’t I have picked knitting? Yarn is light 🥲\n",
            "Inspired by the ‘dinner with Jay Z’ guy still going strong. I choose now to believe him\n",
            "Elaine Quijano exhibits roughly the same amount of control over this debate as two rabbits do on their first date.\n",
            "All the shade i have been hearing about Ben Platt being unbelievable as a teenager in the @DearEvanHansen movie  boggles me.  Does nobody have any memories of Grease???  Name 1 actor on that film who believably looked high school age!\n",
            "@Chris_Ransom @CityView1904 @Uzzell01 @BBCSport Aware she was not a tennis player when she left Canada at 2 yrs old?? aware she did not pick up a tennis racket until 6 years old??.aware last12 years trained at the same tennis club in Bromley Kent England??the girl is British no haters or doubters will take that away from her\n",
            "You know the wolves match is boring when you're talking with your mate about the best way to wire up his new shed!\n",
            "not to alarm anyone but i just saw spider-man by uta\n",
            "Just had a flashback about a boy and nearly threw up in my mouth\n",
            "\n",
            "Incorrect positive predictions:\n",
            "--------------------\n",
            "USA is turning into the 40-something uncle who turns up to the wedding reception, gets drunk &amp; takes the mic from the band to sing Sweet Caroline, but gets all the words wrong.\r\n",
            "\r\n",
            "Highly entertaining but a total fucking train wreck that you’re glad you don’t have to see more often.\n",
            "Parents always mess up ur plans😒\n",
            "taking care of my mental health by not reading discourse about trans people in the olympics\n",
            "my new hobby is forcing my non-tumblr bf to watch commentary videos on weird Tumblr shit that I personally witnessed and survived\n",
            "let’s bring it home biden\n",
            "Hahaha these lads have never heard gucci mane or migos in their lives 🤣 #UniversityChallenge\n",
            "@ishkolhatkar @RosieisaHolt We think you are very, very funny and very,very,very etc …brave. You nail the issue and put those that actually believe the comments you make to shame…. Please keep doing what you’re doing….\n",
            "Does the salad offset the beer(s)?\n",
            "Chris:*tells elaborate story of how he and Michael lost 2 different lifeguarding whistles*\r\n",
            "Me: wow, you really blew it didn't you\n",
            "every time i see someone named david im like ….. wow… that really IS a guy named david\n",
            "very exited to be fully vaxxed tmrw not very excited to be sore 😂\n",
            "underwater uber, also known as scuber\n",
            "cannot believe i was at an actual gig tonight and now i’m on my way to an actual nightclub, truly feel like me again i am thriving\n",
            "God I really hope Etsy sellers can’t see the names of the lists I add their products to\n",
            "It would be sick to retire and have my own green bean farm.\n",
            "People who drive under the speed limit. Death Penalty.\n",
            "If you are a grown adult and you are riding a razor scooter around, please grow up. Best regards\n",
            "You’d never be able to sell me magnetic lashes\n",
            "do you think animals know that humans are fucking it all up\n",
            "Love having an Asian name because the lecturer never picks on me in these zoom classes\n",
            "my love language is now just sending you tiktoks\n",
            "Yep, the only reason I've stayed with 3 since Ovivo disappeared was the everywhere contract. If and when this reaches me then I'm offski. @ThreeUK https://t.co/Ob0ky1u2Rr\n",
            "Absolutely disgusting. Tr*mp says he “loves” domestic terrorists and spends most of the minute long video complaining about election and not condemning their actions today? Rot in fucking hell.\n",
            "The rate at which I go between thinking: ‘it’s fine, I’ve still got 3 weeks to write my dissertation’ and ‘shit I’ve only got three weeks to write my dissertation’ is causing some serious procrastination whiplash.\n",
            "Do you walk past people and automatically think you’re defo a tory?\n",
            "Home, pet, and car ownership is great fun until you have to replace your roof, the cat needs surgery, and your tire blows out all in a month 🙃\n",
            "me: :(\r\n",
            "me after eating one blueberry: :)\n",
            "@RFHanrahan @mikepompeo This is all Biden's failure....politicians like to pass the buck\n",
            "There's a guy busking with just 2 korg synths playing techno at picadilly circus wearing a cosmic bucket hat. Excellent.\n",
            "my mom: oh i was friends with justin briner’s mom in high school and i kissed his gay dad\n"
          ]
        }
      ]
    },
    {
      "cell_type": "code",
      "source": [
        ""
      ],
      "metadata": {
        "id": "5ybjzTvNHUUI"
      },
      "execution_count": 32,
      "outputs": []
    }
  ]
}